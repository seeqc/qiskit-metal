{
 "cells": [
  {
   "cell_type": "markdown",
   "metadata": {},
   "source": [
    "# Capacitance Matrix and LOM Analysis"
   ]
  },
  {
   "cell_type": "markdown",
   "metadata": {},
   "source": [
    "## Prerequisite\n",
    "You must have a working local installation of Ansys."
   ]
  },
  {
   "cell_type": "markdown",
   "metadata": {},
   "source": [
    "## 1. Create the design in Metal"
   ]
  },
  {
   "cell_type": "code",
   "execution_count": 1,
   "metadata": {},
   "outputs": [],
   "source": [
    "%load_ext autoreload\n",
    "%autoreload 2"
   ]
  },
  {
   "cell_type": "code",
   "execution_count": 2,
   "metadata": {},
   "outputs": [],
   "source": [
    "import qiskit_metal as metal\n",
    "from qiskit_metal import designs, draw\n",
    "from qiskit_metal import MetalGUI, Dict, Headings"
   ]
  },
  {
   "cell_type": "code",
   "execution_count": 3,
   "metadata": {},
   "outputs": [],
   "source": [
    "design = designs.DesignPlanar()\n",
    "gui = MetalGUI(design)\n",
    "\n",
    "from qiskit_metal.qlibrary.qubits.transmon_pocket import TransmonPocket\n",
    "from qiskit_metal.qlibrary.tlines.meandered import RouteMeander"
   ]
  },
  {
   "cell_type": "code",
   "execution_count": 4,
   "metadata": {},
   "outputs": [],
   "source": [
    "design.variables['cpw_width'] = '15 um'\n",
    "design.variables['cpw_gap'] = '9 um'"
   ]
  },
  {
   "cell_type": "markdown",
   "metadata": {},
   "source": [
    "### In this example, the design consists of 4 qubits and 4 CPWs"
   ]
  },
  {
   "cell_type": "code",
   "execution_count": 5,
   "metadata": {},
   "outputs": [],
   "source": [
    "# Allow running the same cell here multiple times to overwrite changes\n",
    "design.overwrite_enabled = True\n",
    "\n",
    "## Custom options for all the transmons\n",
    "options = dict(\n",
    "    # Some options we want to modify from the defaults\n",
    "    # (see below for defaults)\n",
    "    pad_width = '425 um', \n",
    "    pocket_height = '650um',\n",
    "    # Adding 4 connectors (see below for defaults)\n",
    "    connection_pads=dict(\n",
    "        readout = dict(loc_W=+1,loc_H=-1, pad_width='200um'),\n",
    "        bus1 = dict(loc_W=-1,loc_H=+1, pad_height='30um'),\n",
    "        bus2 = dict(loc_W=-1,loc_H=-1, pad_height='50um')\n",
    "    )\n",
    ")\n",
    "\n",
    "## Create 4 transmons\n",
    "\n",
    "q1 = TransmonPocket(design, 'Q1', options = dict(\n",
    "    pos_x='+2.42251mm', pos_y='+0.0mm', **options))\n",
    "q2 = TransmonPocket(design, 'Q2', options = dict(\n",
    "    pos_x='+0.0mm', pos_y='-0.95mm', orientation = '270', **options))\n",
    "q3 = TransmonPocket(design, 'Q3', options = dict(\n",
    "    pos_x='-2.42251mm', pos_y='+0.0mm', orientation = '180', **options))\n",
    "q4 = TransmonPocket(design, 'Q4', options = dict(\n",
    "    pos_x='+0.0mm', pos_y='+0.95mm', orientation = '90', **options))\n",
    "\n",
    "RouteMeander.get_template_options(design)\n",
    "\n",
    "options = Dict(\n",
    "        lead=Dict(\n",
    "            start_straight='0.2mm',\n",
    "            end_straight='0.2mm'),\n",
    "        trace_gap='9um',\n",
    "        trace_width='15um')\n",
    "\n",
    "def connect(component_name: str, component1: str, pin1: str, component2: str, pin2: str,\n",
    "            length: str, asymmetry='0 um', flip=False, fillet='90um'):\n",
    "    \"\"\"Connect two pins with a CPW.\"\"\"\n",
    "    myoptions = Dict(\n",
    "        fillet=fillet,\n",
    "        hfss_wire_bonds = True,\n",
    "        pin_inputs=Dict(\n",
    "            start_pin=Dict(\n",
    "                component=component1,\n",
    "                pin=pin1),\n",
    "            end_pin=Dict(\n",
    "                component=component2,\n",
    "                pin=pin2)),\n",
    "        total_length=length)\n",
    "    myoptions.update(options)\n",
    "    myoptions.meander.asymmetry = asymmetry\n",
    "    myoptions.meander.lead_direction_inverted = 'true' if flip else 'false'\n",
    "    return RouteMeander(design, component_name, myoptions)\n",
    "\n",
    "asym = 140\n",
    "cpw1 = connect('cpw1', 'Q1', 'bus2', 'Q2', 'bus1', '6.0 mm', f'+{asym}um')\n",
    "cpw2 = connect('cpw2', 'Q3', 'bus1', 'Q2', 'bus2', '6.1 mm', f'-{asym}um', flip=True)\n",
    "cpw3 = connect('cpw3', 'Q3', 'bus2', 'Q4', 'bus1', '6.0 mm', f'+{asym}um')\n",
    "cpw4 = connect('cpw4', 'Q1', 'bus1', 'Q4', 'bus2', '6.1 mm', f'-{asym}um', flip=True)\n",
    "\n",
    "gui.rebuild()\n",
    "gui.autoscale()"
   ]
  },
  {
   "cell_type": "markdown",
   "metadata": {},
   "source": [
    "## 2. Render into Ansys Q3D"
   ]
  },
  {
   "cell_type": "code",
   "execution_count": 6,
   "metadata": {},
   "outputs": [],
   "source": [
    "fourq_q3d = design.renderers.q3d"
   ]
  },
  {
   "cell_type": "markdown",
   "metadata": {},
   "source": [
    "Skip the next cell if Ansys is already open and with a project loaded."
   ]
  },
  {
   "cell_type": "code",
   "execution_count": 7,
   "metadata": {},
   "outputs": [],
   "source": [
    "fourq_q3d.open_ansys()"
   ]
  },
  {
   "cell_type": "markdown",
   "metadata": {},
   "source": [
    "**Wait for Ansys to open up completely before proceeding to the next cell.**<br>\n",
    "If necessary, also close any Ansys popup windows.\n",
    "If no project is currently open, one can be added via the below cell."
   ]
  },
  {
   "cell_type": "code",
   "execution_count": 8,
   "metadata": {},
   "outputs": [],
   "source": [
    "#fourq_q3d.new_ansys_project()"
   ]
  },
  {
   "cell_type": "code",
   "execution_count": 9,
   "metadata": {
    "scrolled": true
   },
   "outputs": [
    {
     "name": "stderr",
     "output_type": "stream",
     "text": [
      "INFO 01:56PM [connect_project]: Connecting to Ansys Desktop API...\n",
      "INFO 01:56PM [load_ansys_project]: \tOpened Ansys App\n",
      "INFO 01:56PM [load_ansys_project]: \tOpened Ansys Desktop v2020.2.0\n",
      "INFO 01:56PM [load_ansys_project]: \tOpened Ansys Project\n",
      "\tFolder:    C:/Ansoft/\n",
      "\tProject:   Project1\n",
      "INFO 01:56PM [connect_design]: No active design found (or error getting active design).\n",
      "INFO 01:56PM [connect]: \t Connected to project \"Project1\". No design detected\n",
      "INFO 01:56PM [connect_design]: \tOpened active design\n",
      "\tDesign:    Q3dMetalDesign [Solution type: Q3D]\n",
      "WARNING 01:56PM [connect_setup]: \tNo design setup detected.\n",
      "WARNING 01:56PM [connect_setup]: \tCreating Q3D default setup.\n",
      "INFO 01:56PM [get_setup]: \tOpened setup `Setup`  (<class 'pyEPR.ansys.AnsysQ3DSetup'>)\n"
     ]
    },
    {
     "data": {
      "text/plain": [
       "<pyEPR.ansys.HfssDesign at 0x1d91b624a08>"
      ]
     },
     "execution_count": 9,
     "metadata": {},
     "output_type": "execute_result"
    }
   ],
   "source": [
    "fourq_q3d.connect_ansys()\n",
    "fourq_q3d.add_q3d_design(\"Q3dMetalDesign\")"
   ]
  },
  {
   "cell_type": "markdown",
   "metadata": {},
   "source": [
    "Render a single qubit with 2 endcaps"
   ]
  },
  {
   "cell_type": "code",
   "execution_count": 10,
   "metadata": {},
   "outputs": [],
   "source": [
    "fourq_q3d.render_design(['Q1'], [('Q1', 'readout'), ('Q1', 'bus1'), ('Q1', 'bus2')])"
   ]
  },
  {
   "cell_type": "markdown",
   "metadata": {},
   "source": [
    "## 3. Create a new solution setup in Ansys Q3D and obtain the capacitance matrix"
   ]
  },
  {
   "cell_type": "code",
   "execution_count": 11,
   "metadata": {},
   "outputs": [
    {
     "data": {
      "text/plain": [
       "<pyEPR.ansys.AnsysQ3DSetup at 0x1d91bc2ab88>"
      ]
     },
     "execution_count": 11,
     "metadata": {},
     "output_type": "execute_result"
    }
   ],
   "source": [
    "#     Add a solution setup:\n",
    "fourq_q3d.add_q3d_setup()\n",
    "#     Example of how to change defaults (just an example. We will not use this setup):\n",
    "# fourq_q3d.add_q3d_setup(name = 'Setup2', max_passes = 20)"
   ]
  },
  {
   "cell_type": "markdown",
   "metadata": {},
   "source": [
    "Optional keyword parameters and their defaults, listed below, represent parameters in this Q3D solution setup. Running fourq_q3d.add_q3d_setup() is equivalent to going to the Project Manager panel in Ansys, right clicking on Analysis within the active Q3D design, selecting \"Add Solution Setup...\", and choosing/entering default values in the resulting popup window. To easily keep track of different solution setups, give each of them a different name, otherwise, Ansys will simply append numbers to the end of duplicate names. <br><br>\n",
    "freq_ghz: float = 5. <br>\n",
    "name: str = \"Setup\" <br>\n",
    "save_fields: bool = False <br>\n",
    "enabled: bool = True <br>\n",
    "max_passes: int = 15 <br>\n",
    "min_passes: int = 2 <br>\n",
    "min_converged_passes: int = 2 <br>\n",
    "percent_error: float = 0.5 <br>\n",
    "percent_refinement: int = 30 <br>\n",
    "auto_increase_solution_order: bool = True <br>\n",
    "solution_order: str = 'High' <br>\n",
    "solver_type: str = 'Iterative <br><br>\n",
    "These defaults can be modified by including the keywords and their new values inside the parentheses. For example, to increase the maximum number of passes from the default value of 15 up to 20 while leaving all else unchanged, replace the cell above with the following: <br><br>\n",
    "fourq_q3d.add_q3d_setup(max_passes = 20)"
   ]
  },
  {
   "cell_type": "code",
   "execution_count": 12,
   "metadata": {},
   "outputs": [
    {
     "name": "stderr",
     "output_type": "stream",
     "text": [
      "INFO 01:57PM [get_setup]: \tOpened setup `Setup`  (<class 'pyEPR.ansys.AnsysQ3DSetup'>)\n",
      "INFO 01:57PM [analyze]: Analyzing setup Setup\n"
     ]
    }
   ],
   "source": [
    "# Analyze said solution setup.\n",
    "fourq_q3d.analyze_setup(\"Setup\")"
   ]
  },
  {
   "cell_type": "code",
   "execution_count": 13,
   "metadata": {},
   "outputs": [
    {
     "name": "stderr",
     "output_type": "stream",
     "text": [
      "INFO 01:58PM [get_matrix]: Exporting matrix data to (C:\\AppData\\Local\\Temp\\tmptme20c8o.txt, C, , Setup:LastAdaptive, \"Original\", \"ohm\", \"nH\", \"fF\", \"mSie\", 5000000000, Maxwell, 3, False\n"
     ]
    },
    {
     "data": {
      "text/html": [
       "<div>\n",
       "<style scoped>\n",
       "    .dataframe tbody tr th:only-of-type {\n",
       "        vertical-align: middle;\n",
       "    }\n",
       "\n",
       "    .dataframe tbody tr th {\n",
       "        vertical-align: top;\n",
       "    }\n",
       "\n",
       "    .dataframe thead th {\n",
       "        text-align: right;\n",
       "    }\n",
       "</style>\n",
       "<table border=\"1\" class=\"dataframe\">\n",
       "  <thead>\n",
       "    <tr style=\"text-align: right;\">\n",
       "      <th></th>\n",
       "      <th>bus1_connector_pad_Q1</th>\n",
       "      <th>bus2_connector_pad_Q1</th>\n",
       "      <th>ground_main_plane</th>\n",
       "      <th>pad_bot_Q1</th>\n",
       "      <th>pad_top_Q1</th>\n",
       "      <th>readout_connector_pad_Q1</th>\n",
       "    </tr>\n",
       "  </thead>\n",
       "  <tbody>\n",
       "    <tr>\n",
       "      <th>bus1_connector_pad_Q1</th>\n",
       "      <td>50.59475</td>\n",
       "      <td>-0.42373</td>\n",
       "      <td>-34.00537</td>\n",
       "      <td>-1.54779</td>\n",
       "      <td>-13.49320</td>\n",
       "      <td>-0.20664</td>\n",
       "    </tr>\n",
       "    <tr>\n",
       "      <th>bus2_connector_pad_Q1</th>\n",
       "      <td>-0.42373</td>\n",
       "      <td>54.94375</td>\n",
       "      <td>-36.29163</td>\n",
       "      <td>-14.31897</td>\n",
       "      <td>-1.83808</td>\n",
       "      <td>-1.03145</td>\n",
       "    </tr>\n",
       "    <tr>\n",
       "      <th>ground_main_plane</th>\n",
       "      <td>-34.00537</td>\n",
       "      <td>-36.29163</td>\n",
       "      <td>237.02640</td>\n",
       "      <td>-31.52366</td>\n",
       "      <td>-38.22709</td>\n",
       "      <td>-37.11942</td>\n",
       "    </tr>\n",
       "    <tr>\n",
       "      <th>pad_bot_Q1</th>\n",
       "      <td>-1.54779</td>\n",
       "      <td>-14.31897</td>\n",
       "      <td>-31.52366</td>\n",
       "      <td>99.53492</td>\n",
       "      <td>-30.61516</td>\n",
       "      <td>-19.21035</td>\n",
       "    </tr>\n",
       "    <tr>\n",
       "      <th>pad_top_Q1</th>\n",
       "      <td>-13.49320</td>\n",
       "      <td>-1.83808</td>\n",
       "      <td>-38.22709</td>\n",
       "      <td>-30.61516</td>\n",
       "      <td>89.15073</td>\n",
       "      <td>-2.22435</td>\n",
       "    </tr>\n",
       "    <tr>\n",
       "      <th>readout_connector_pad_Q1</th>\n",
       "      <td>-0.20664</td>\n",
       "      <td>-1.03145</td>\n",
       "      <td>-37.11942</td>\n",
       "      <td>-19.21035</td>\n",
       "      <td>-2.22435</td>\n",
       "      <td>60.91761</td>\n",
       "    </tr>\n",
       "  </tbody>\n",
       "</table>\n",
       "</div>"
      ],
      "text/plain": [
       "                          bus1_connector_pad_Q1  bus2_connector_pad_Q1  \\\n",
       "bus1_connector_pad_Q1                  50.59475               -0.42373   \n",
       "bus2_connector_pad_Q1                  -0.42373               54.94375   \n",
       "ground_main_plane                     -34.00537              -36.29163   \n",
       "pad_bot_Q1                             -1.54779              -14.31897   \n",
       "pad_top_Q1                            -13.49320               -1.83808   \n",
       "readout_connector_pad_Q1               -0.20664               -1.03145   \n",
       "\n",
       "                          ground_main_plane  pad_bot_Q1  pad_top_Q1  \\\n",
       "bus1_connector_pad_Q1             -34.00537    -1.54779   -13.49320   \n",
       "bus2_connector_pad_Q1             -36.29163   -14.31897    -1.83808   \n",
       "ground_main_plane                 237.02640   -31.52366   -38.22709   \n",
       "pad_bot_Q1                        -31.52366    99.53492   -30.61516   \n",
       "pad_top_Q1                        -38.22709   -30.61516    89.15073   \n",
       "readout_connector_pad_Q1          -37.11942   -19.21035    -2.22435   \n",
       "\n",
       "                          readout_connector_pad_Q1  \n",
       "bus1_connector_pad_Q1                     -0.20664  \n",
       "bus2_connector_pad_Q1                     -1.03145  \n",
       "ground_main_plane                        -37.11942  \n",
       "pad_bot_Q1                               -19.21035  \n",
       "pad_top_Q1                                -2.22435  \n",
       "readout_connector_pad_Q1                  60.91761  "
      ]
     },
     "execution_count": 13,
     "metadata": {},
     "output_type": "execute_result"
    }
   ],
   "source": [
    "# Using the analysis results, get its capacitance matrix as a dataframe.\n",
    "fourq_q3d.get_capacitance_matrix()"
   ]
  },
  {
   "cell_type": "markdown",
   "metadata": {},
   "source": [
    "The optional keyword parameters of get_capacitance_matrix are given below: <br><br>\n",
    "variation: str = '' <br>\n",
    "solution_kind: str = 'LastAdaptive' <br>\n",
    "pass_number: int = 3"
   ]
  },
  {
   "cell_type": "code",
   "execution_count": 14,
   "metadata": {},
   "outputs": [
    {
     "name": "stderr",
     "output_type": "stream",
     "text": [
      "INFO 01:58PM [get_matrix]: Exporting matrix data to (C:\\AppData\\Local\\Temp\\tmpwx38c_vz.txt, C, , Setup:AdaptivePass, \"Original\", \"ohm\", \"nH\", \"fF\", \"mSie\", 5000000000, Maxwell, 1, False\n",
      "INFO 01:58PM [get_matrix]: Exporting matrix data to (C:\\AppData\\Local\\Temp\\tmpnd11dx2d.txt, C, , Setup:AdaptivePass, \"Original\", \"ohm\", \"nH\", \"fF\", \"mSie\", 5000000000, Maxwell, 2, False\n",
      "INFO 01:58PM [get_matrix]: Exporting matrix data to (C:\\AppData\\Local\\Temp\\tmpc_7dob0s.txt, C, , Setup:AdaptivePass, \"Original\", \"ohm\", \"nH\", \"fF\", \"mSie\", 5000000000, Maxwell, 3, False\n",
      "INFO 01:58PM [get_matrix]: Exporting matrix data to (C:\\AppData\\Local\\Temp\\tmp0ocfdbfn.txt, C, , Setup:AdaptivePass, \"Original\", \"ohm\", \"nH\", \"fF\", \"mSie\", 5000000000, Maxwell, 4, False\n",
      "INFO 01:58PM [get_matrix]: Exporting matrix data to (C:\\AppData\\Local\\Temp\\tmplxo2w0f1.txt, C, , Setup:AdaptivePass, \"Original\", \"ohm\", \"nH\", \"fF\", \"mSie\", 5000000000, Maxwell, 5, False\n",
      "INFO 01:58PM [get_matrix]: Exporting matrix data to (C:\\AppData\\Local\\Temp\\tmpt_ojoeqd.txt, C, , Setup:AdaptivePass, \"Original\", \"ohm\", \"nH\", \"fF\", \"mSie\", 5000000000, Maxwell, 6, False\n",
      "INFO 01:58PM [get_matrix]: Exporting matrix data to (C:\\AppData\\Local\\Temp\\tmp1ps8mfme.txt, C, , Setup:AdaptivePass, \"Original\", \"ohm\", \"nH\", \"fF\", \"mSie\", 5000000000, Maxwell, 7, False\n",
      "INFO 01:58PM [get_matrix]: Exporting matrix data to (C:\\AppData\\Local\\Temp\\tmp9c3iamuv.txt, C, , Setup:AdaptivePass, \"Original\", \"ohm\", \"nH\", \"fF\", \"mSie\", 5000000000, Maxwell, 8, False\n"
     ]
    },
    {
     "name": "stdout",
     "output_type": "stream",
     "text": [
      "[3, 4] [5 0 1]\n",
      "Predicted Values\n",
      "\n",
      "Transmon Properties\n",
      "f_Q 5.389238 [GHz]\n",
      "EC 307.600806 [MHz]\n",
      "EJ 13.273404 [GHz]\n",
      "alpha -358.183525 [MHz]\n",
      "dispersion 41.048534 [KHz]\n",
      "Lq 12.305036 [nH]\n",
      "Cq 62.971968 [fF]\n",
      "T1 37.188847 [us]\n",
      "\n",
      "**Coupling Properties**\n",
      "\n",
      "tCqbus1 7.545643 [fF]\n",
      "gbus1_in_MHz 115.474739 [MHz]\n",
      "χ_bus1 -3.076012 [MHz]\n",
      "1/T1bus1 2722.917811 [Hz]\n",
      "T1bus1 58.450146 [us]\n",
      "\n",
      "tCqbus2 -6.637477 [fF]\n",
      "gbus2_in_MHz -87.276845 [MHz]\n",
      "χ_bus2 -9.264089 [MHz]\n",
      "1/T1bus2 1097.311838 [Hz]\n",
      "T1bus2 145.040760 [us]\n",
      "\n",
      "tCqbus3 5.526346 [fF]\n",
      "gbus3_in_MHz 75.040635 [MHz]\n",
      "χ_bus3 -4.287374 [MHz]\n",
      "1/T1bus3 459.412070 [Hz]\n",
      "T1bus3 346.431784 [us]\n",
      "Bus-Bus Couplings\n",
      "gbus1_2 7.279458 [MHz]\n",
      "gbus1_3 10.197376 [MHz]\n",
      "gbus2_3 5.507283 [MHz]\n"
     ]
    },
    {
     "data": {
      "text/html": [
       "<div>\n",
       "<style scoped>\n",
       "    .dataframe tbody tr th:only-of-type {\n",
       "        vertical-align: middle;\n",
       "    }\n",
       "\n",
       "    .dataframe tbody tr th {\n",
       "        vertical-align: top;\n",
       "    }\n",
       "\n",
       "    .dataframe thead th {\n",
       "        text-align: right;\n",
       "    }\n",
       "</style>\n",
       "<table border=\"1\" class=\"dataframe\">\n",
       "  <thead>\n",
       "    <tr style=\"text-align: right;\">\n",
       "      <th></th>\n",
       "      <th>fQ</th>\n",
       "      <th>EC</th>\n",
       "      <th>EJ</th>\n",
       "      <th>alpha</th>\n",
       "      <th>dispersion</th>\n",
       "      <th>gbus</th>\n",
       "      <th>chi_in_MHz</th>\n",
       "      <th>χr MHz</th>\n",
       "      <th>gr MHz</th>\n",
       "    </tr>\n",
       "  </thead>\n",
       "  <tbody>\n",
       "    <tr>\n",
       "      <th>1</th>\n",
       "      <td>5.751086</td>\n",
       "      <td>353.625282</td>\n",
       "      <td>13.273404</td>\n",
       "      <td>-417.893966</td>\n",
       "      <td>136.467686</td>\n",
       "      <td>[108.33227863103843, -74.46845675904673, 75.92...</td>\n",
       "      <td>[-4.774247758247132, -27.959664827592288, -12....</td>\n",
       "      <td>4.774248</td>\n",
       "      <td>108.332279</td>\n",
       "    </tr>\n",
       "    <tr>\n",
       "      <th>2</th>\n",
       "      <td>5.667709</td>\n",
       "      <td>342.689918</td>\n",
       "      <td>13.273404</td>\n",
       "      <td>-403.561052</td>\n",
       "      <td>104.913667</td>\n",
       "      <td>[112.20219168528992, -82.02174284442717, 68.75...</td>\n",
       "      <td>[-4.45910069383321, -22.248212807100636, -7.68...</td>\n",
       "      <td>4.459101</td>\n",
       "      <td>112.202192</td>\n",
       "    </tr>\n",
       "    <tr>\n",
       "      <th>3</th>\n",
       "      <td>5.576534</td>\n",
       "      <td>330.959668</td>\n",
       "      <td>13.273404</td>\n",
       "      <td>-388.288083</td>\n",
       "      <td>77.976994</td>\n",
       "      <td>[111.29064396907027, -83.99397949408998, 71.78...</td>\n",
       "      <td>[-3.7922836957293113, -15.980403802783776, -6....</td>\n",
       "      <td>3.792284</td>\n",
       "      <td>111.290644</td>\n",
       "    </tr>\n",
       "    <tr>\n",
       "      <th>4</th>\n",
       "      <td>5.524531</td>\n",
       "      <td>324.374985</td>\n",
       "      <td>13.273404</td>\n",
       "      <td>-379.760434</td>\n",
       "      <td>65.542687</td>\n",
       "      <td>[111.00290359134131, -84.01231169610067, 72.85...</td>\n",
       "      <td>[-3.4803792183726925, -13.224918456271991, -5....</td>\n",
       "      <td>3.480379</td>\n",
       "      <td>111.002904</td>\n",
       "    </tr>\n",
       "    <tr>\n",
       "      <th>5</th>\n",
       "      <td>5.464644</td>\n",
       "      <td>316.886639</td>\n",
       "      <td>13.273404</td>\n",
       "      <td>-370.102092</td>\n",
       "      <td>53.435731</td>\n",
       "      <td>[113.08543185172468, -84.75389738836496, 72.82...</td>\n",
       "      <td>[-3.2984020981918394, -11.01062035282993, -4.8...</td>\n",
       "      <td>3.298402</td>\n",
       "      <td>113.085432</td>\n",
       "    </tr>\n",
       "    <tr>\n",
       "      <th>6</th>\n",
       "      <td>5.427737</td>\n",
       "      <td>312.321897</td>\n",
       "      <td>13.273404</td>\n",
       "      <td>-364.235131</td>\n",
       "      <td>47.008788</td>\n",
       "      <td>[114.27995126401626, -85.8797630259421, 73.775...</td>\n",
       "      <td>[-3.1881674181878847, -10.067645678266473, -4....</td>\n",
       "      <td>3.188167</td>\n",
       "      <td>114.279951</td>\n",
       "    </tr>\n",
       "    <tr>\n",
       "      <th>7</th>\n",
       "      <td>5.402946</td>\n",
       "      <td>309.277112</td>\n",
       "      <td>13.273404</td>\n",
       "      <td>-360.330359</td>\n",
       "      <td>43.088528</td>\n",
       "      <td>[115.02700555985716, -86.81230520493638, 74.29...</td>\n",
       "      <td>[-3.1140846096762624, -9.544665103881098, -4.3...</td>\n",
       "      <td>3.114085</td>\n",
       "      <td>115.027006</td>\n",
       "    </tr>\n",
       "    <tr>\n",
       "      <th>8</th>\n",
       "      <td>5.389238</td>\n",
       "      <td>307.600806</td>\n",
       "      <td>13.273404</td>\n",
       "      <td>-358.183525</td>\n",
       "      <td>41.048534</td>\n",
       "      <td>[115.47473891685146, -87.27684459107707, 75.04...</td>\n",
       "      <td>[-3.0760117528544098, -9.264089339295355, -4.2...</td>\n",
       "      <td>3.076012</td>\n",
       "      <td>115.474739</td>\n",
       "    </tr>\n",
       "  </tbody>\n",
       "</table>\n",
       "</div>"
      ],
      "text/plain": [
       "         fQ          EC         EJ       alpha  dispersion  \\\n",
       "1  5.751086  353.625282  13.273404 -417.893966  136.467686   \n",
       "2  5.667709  342.689918  13.273404 -403.561052  104.913667   \n",
       "3  5.576534  330.959668  13.273404 -388.288083   77.976994   \n",
       "4  5.524531  324.374985  13.273404 -379.760434   65.542687   \n",
       "5  5.464644  316.886639  13.273404 -370.102092   53.435731   \n",
       "6  5.427737  312.321897  13.273404 -364.235131   47.008788   \n",
       "7  5.402946  309.277112  13.273404 -360.330359   43.088528   \n",
       "8  5.389238  307.600806  13.273404 -358.183525   41.048534   \n",
       "\n",
       "                                                gbus  \\\n",
       "1  [108.33227863103843, -74.46845675904673, 75.92...   \n",
       "2  [112.20219168528992, -82.02174284442717, 68.75...   \n",
       "3  [111.29064396907027, -83.99397949408998, 71.78...   \n",
       "4  [111.00290359134131, -84.01231169610067, 72.85...   \n",
       "5  [113.08543185172468, -84.75389738836496, 72.82...   \n",
       "6  [114.27995126401626, -85.8797630259421, 73.775...   \n",
       "7  [115.02700555985716, -86.81230520493638, 74.29...   \n",
       "8  [115.47473891685146, -87.27684459107707, 75.04...   \n",
       "\n",
       "                                          chi_in_MHz    χr MHz      gr MHz  \n",
       "1  [-4.774247758247132, -27.959664827592288, -12....  4.774248  108.332279  \n",
       "2  [-4.45910069383321, -22.248212807100636, -7.68...  4.459101  112.202192  \n",
       "3  [-3.7922836957293113, -15.980403802783776, -6....  3.792284  111.290644  \n",
       "4  [-3.4803792183726925, -13.224918456271991, -5....  3.480379  111.002904  \n",
       "5  [-3.2984020981918394, -11.01062035282993, -4.8...  3.298402  113.085432  \n",
       "6  [-3.1881674181878847, -10.067645678266473, -4....  3.188167  114.279951  \n",
       "7  [-3.1140846096762624, -9.544665103881098, -4.3...  3.114085  115.027006  \n",
       "8  [-3.0760117528544098, -9.264089339295355, -4.2...  3.076012  115.474739  "
      ]
     },
     "execution_count": 14,
     "metadata": {},
     "output_type": "execute_result"
    }
   ],
   "source": [
    "# Run lumped oscillator model (LOM) simulations and save results in dict_lom.b\n",
    "dict_lom = fourq_q3d.lumped_oscillator_vs_passes(12.31, 2, 3, 7.0, [6.0, 6.2], 9)\n",
    "dict_lom"
   ]
  },
  {
   "cell_type": "markdown",
   "metadata": {},
   "source": [
    "Using capacitance matrices obtained from each pass, save the many parameters of the Hamiltonian of the system. lumped_oscillator_vs_passes takes in the following parameters: <br><br>\n",
    "Lj_nH: float - the Josephson junction inductance, influences your qubit's frequency.<br> \n",
    "Cj_fF: float - the Josephson junction capacitance, influences your qubit's frequency and anharmonicity.<br>\n",
    "N: int - the number of connections in your simulation, eg. 1 readout and 2 busses -> 3 <br>\n",
    "fr: Union[list, float] - the frequency of your readout resonator. <br>\n",
    "fb: Union[list, float] - the frequencies of your busses (use an empty list if no busses present).<br>\n",
    "maxPass: int - the total number of passes your simulation took to converge.<br>\n",
    "variation: str = '' - if variations of the simulation were run, picking which variation to do the analysis on.<br>\n",
    "g_scale: float = 1"
   ]
  },
  {
   "cell_type": "markdown",
   "metadata": {},
   "source": [
    "dist_analysis allows one to calculate dissipation and other properties. It is used for the convergence plots below."
   ]
  },
  {
   "cell_type": "code",
   "execution_count": 15,
   "metadata": {},
   "outputs": [
    {
     "name": "stderr",
     "output_type": "stream",
     "text": [
      "INFO 01:58PM [hfss_report_full_convergence]: Creating report for variation 0\n"
     ]
    },
    {
     "name": "stdout",
     "output_type": "stream",
     "text": [
      "Design \"Q3dMetalDesign\" info:\n",
      "\t# eigenmodes    0\n",
      "\t# variations    1\n"
     ]
    },
    {
     "data": {
      "text/plain": [
       "<Figure size 2970x1155 with 2 Axes>"
      ]
     },
     "execution_count": 15,
     "metadata": {},
     "output_type": "execute_result"
    }
   ],
   "source": [
    "fourq_q3d.plot_convergence_main(dict_lom);\n",
    "fourq_q3d.plot_convergence_chi(dict_lom)"
   ]
  },
  {
   "cell_type": "code",
   "execution_count": 16,
   "metadata": {
    "tags": [
     "nbsphinx-thumbnail"
    ]
   },
   "outputs": [
    {
     "data": {
      "image/png": "[encoded data removed]",
      "text/plain": [
       "<IPython.core.display.Image object>"
      ]
     },
     "metadata": {},
     "output_type": "display_data"
    }
   ],
   "source": [
    "fourq_q3d.save_screenshot()"
   ]
  },
  {
   "cell_type": "code",
   "execution_count": 17,
   "metadata": {},
   "outputs": [],
   "source": [
    "fourq_q3d.disconnect_ansys()"
   ]
  },
  {
   "cell_type": "code",
   "execution_count": 18,
   "metadata": {},
   "outputs": [
    {
     "data": {
      "text/plain": [
       "True"
      ]
     },
     "execution_count": 18,
     "metadata": {},
     "output_type": "execute_result"
    }
   ],
   "source": [
    "gui.main_window.close()"
   ]
  }
 ],
 "metadata": {
  "celltoolbar": "Tags",
  "kernelspec": {
   "display_name": "Python 3",
   "language": "python",
   "name": "python3"
  },
  "language_info": {
   "codemirror_mode": {
    "name": "ipython",
    "version": 3
   },
   "file_extension": ".py",
   "mimetype": "text/x-python",
   "name": "python",
   "nbconvert_exporter": "python",
   "pygments_lexer": "ipython3",
   "version": "3.7.8"
  }
 },
 "nbformat": 4,
 "nbformat_minor": 4
}
