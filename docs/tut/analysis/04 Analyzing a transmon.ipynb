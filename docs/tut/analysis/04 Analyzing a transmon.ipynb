{
 "cells": [
  {
   "cell_type": "markdown",
   "id": "sized-merchandise",
   "metadata": {},
   "source": [
    "# Analyizing and Tuning a Transmon Qubit"
   ]
  },
  {
   "cell_type": "markdown",
   "id": "racial-antigua",
   "metadata": {},
   "source": [
    "## Prerequisite\n",
    "A working local installation of Ansys"
   ]
  },
  {
   "cell_type": "markdown",
   "id": "distributed-redhead",
   "metadata": {},
   "source": [
    "### Transmon only: render into Ansys.\n",
    "1. Run finite element eigenmode analysis. <br>\n",
    "1. Plot fields and display them. <br>\n",
    "1. Set up EPR junction dictionary. <br>\n",
    "1. Run EPR analysis on single mode. <br>\n",
    "1. Get qubit freq and anharmonicity. <br>\n",
    "1. Calculate EPR of substrate.  <br>\n",
    "1. Render to Ansys Q3D. <br>\n",
    "1. Calculate the capacitance matrix. <br>"
   ]
  },
  {
   "cell_type": "code",
   "execution_count": 1,
   "id": "academic-indonesian",
   "metadata": {},
   "outputs": [],
   "source": [
    "%load_ext autoreload\n",
    "%autoreload 2\n",
    "\n",
    "import qiskit_metal as metal\n",
    "from qiskit_metal import designs, draw\n",
    "from qiskit_metal import MetalGUI, Dict, Headings\n",
    "import pyEPR as epr"
   ]
  },
  {
   "cell_type": "code",
   "execution_count": 2,
   "id": "norwegian-regard",
   "metadata": {},
   "outputs": [
    {
     "data": {
      "text/html": [
       "\n",
       "    <h1 style=\"\n",
       "        background: #12c2e9;  /* fallback for old browsers */\n",
       "        background: -webkit-linear-gradient(to right, #d4418e 0%, #0652c5 74%);  /* Chrome 10-25, Safari 5.1-6 */\n",
       "        background: linear-gradient(315deg, #d4418e 0%, #0652c5 74%); /* W3C, IE 10+/ Edge, Firefox 16+, Chrome 26+, Opera 12+, Safari 7+ */\n",
       "        margin-top: 50px;\n",
       "        border-style: outset;\n",
       "        padding-top:100px;\n",
       "        padding-bottom:50px;\n",
       "        padding-left:25px;\n",
       "        color: white;\n",
       "    \"> Create a single transmon qubit <h1>\n",
       "        "
      ],
      "text/plain": [
       "<IPython.core.display.HTML object>"
      ]
     },
     "metadata": {},
     "output_type": "display_data"
    }
   ],
   "source": [
    "%metal_heading Create a single transmon qubit "
   ]
  },
  {
   "cell_type": "markdown",
   "id": "tracked-hughes",
   "metadata": {},
   "source": [
    "### Create the design in Metal\n",
    "Setup a design of a given dimension. Dimensions will be respected in the design rendering."
   ]
  },
  {
   "cell_type": "code",
   "execution_count": 3,
   "id": "transsexual-smart",
   "metadata": {},
   "outputs": [],
   "source": [
    "design = designs.DesignPlanar({}, True)\n",
    "design.chips.main.size['size_x'] = '2mm'\n",
    "design.chips.main.size['size_y'] = '2mm'\n",
    "hfss = design.renderers.hfss\n",
    "\n",
    "gui = MetalGUI(design)"
   ]
  },
  {
   "cell_type": "markdown",
   "id": "recognized-benefit",
   "metadata": {},
   "source": [
    "Create a single transmon with one readout resonator and move it to the center of the chip previously defined."
   ]
  },
  {
   "cell_type": "code",
   "execution_count": 4,
   "id": "driving-remainder",
   "metadata": {},
   "outputs": [],
   "source": [
    "from qiskit_metal.qlibrary.qubits.transmon_pocket import TransmonPocket\n",
    "\n",
    "design.delete_all_components()\n",
    "\n",
    "q1 = TransmonPocket(design, 'Q1', options = dict(\n",
    "    pad_width = '425 um', \n",
    "    pocket_height = '650um',\n",
    "    connection_pads=dict(\n",
    "        readout = dict(loc_W=+1,loc_H=+1, pad_width='200um')\n",
    "    )))\n",
    "\n",
    "gui.rebuild()\n",
    "gui.autoscale()"
   ]
  },
  {
   "cell_type": "markdown",
   "id": "canadian-documentary",
   "metadata": {},
   "source": [
    "### Establish a connection between Metal and Ansys\n",
    "First you will need to open Ansys. <br>\n",
    "You can either open Ansys manually, or by executing one of the lines in the following cell. <br>\n",
    "open_ansys() will look by default for the 2021 R2 version of Ansys. You can easily reroute it to your Ansys of choice by providing the name of the environment variable that contains the path (path_env) or the path itself (path)"
   ]
  },
  {
   "cell_type": "code",
   "execution_count": 5,
   "id": "little-nitrogen",
   "metadata": {},
   "outputs": [],
   "source": [
    "hfss.open_ansys()   # this opens Ansys 2021 R2 if present\n",
    "# hfss.open_ansys(path_var='ANSYSEM_ROOT211')\n",
    "# hfss.open_ansys(path='C:\\Program Files\\AnsysEM\\AnsysEM21.1\\Win64')\n",
    "# hfss.open_ansys(path='../../../Program Files/AnsysEM/AnsysEM21.1/Win64')"
   ]
  },
  {
   "cell_type": "markdown",
   "id": "variable-november",
   "metadata": {},
   "source": [
    "If a project was not automatically opened, you can manually create/open one from the Ansys GUI. Alternatively you can execute the following cell."
   ]
  },
  {
   "cell_type": "code",
   "execution_count": 6,
   "id": "local-fitness",
   "metadata": {},
   "outputs": [],
   "source": [
    "# hfss.new_ansys_project()"
   ]
  },
  {
   "cell_type": "markdown",
   "id": "tutorial-wales",
   "metadata": {},
   "source": [
    "Finally connect this Jupyter Notebook session with the active Ansys project."
   ]
  },
  {
   "cell_type": "code",
   "execution_count": 7,
   "id": "speaking-insider",
   "metadata": {},
   "outputs": [
    {
     "name": "stderr",
     "output_type": "stream",
     "text": [
      "INFO 02:02PM [connect_project]: Connecting to Ansys Desktop API...\n",
      "INFO 02:02PM [load_ansys_project]: \tOpened Ansys App\n",
      "INFO 02:02PM [load_ansys_project]: \tOpened Ansys Desktop v2020.2.0\n",
      "INFO 02:02PM [load_ansys_project]: \tOpened Ansys Project\n",
      "\tFolder:    C:/Ansoft/\n",
      "\tProject:   Project1\n",
      "INFO 02:02PM [connect_design]: No active design found (or error getting active design).\n",
      "INFO 02:02PM [connect]: \t Connected to project \"Project1\". No design detected\n"
     ]
    }
   ],
   "source": [
    "hfss.connect_ansys()\n",
    "# hfss.connect_ansys('C:\\\\project_path\\\\', 'Project1')  # will open a saved project before linking the Jupyter session"
   ]
  },
  {
   "cell_type": "markdown",
   "id": "subsequent-bishop",
   "metadata": {},
   "source": [
    "### Prepare and run the analysis\n",
    "\n",
    "Create and activate an eigenmode design called \"TransmonQubit\"."
   ]
  },
  {
   "cell_type": "code",
   "execution_count": 8,
   "id": "medium-pitch",
   "metadata": {},
   "outputs": [
    {
     "name": "stderr",
     "output_type": "stream",
     "text": [
      "02:02PM 59s WARNING [activate_eigenmode_design]: The name=TransmonQubit was not in active project.  A new design will be inserted to the project.  Names in active project are: \n",
      "[].  \n",
      "INFO 02:03PM [connect_design]: \tOpened active design\n",
      "\tDesign:    TransmonQubit [Solution type: Eigenmode]\n",
      "WARNING 02:03PM [connect_setup]: \tNo design setup detected.\n",
      "WARNING 02:03PM [connect_setup]: \tCreating eigenmode default setup.\n",
      "INFO 02:03PM [get_setup]: \tOpened setup `Setup`  (<class 'pyEPR.ansys.HfssEMSetup'>)\n"
     ]
    }
   ],
   "source": [
    "hfss.activate_eigenmode_design(\"TransmonQubit\")"
   ]
  },
  {
   "cell_type": "markdown",
   "id": "therapeutic-novel",
   "metadata": {},
   "source": [
    "Render the single qubit in Metal, called Q1, to \"TransmonQubit\" design in Ansys."
   ]
  },
  {
   "cell_type": "code",
   "execution_count": 9,
   "id": "activated-premium",
   "metadata": {},
   "outputs": [
    {
     "data": {
      "image/png": "[encoded data removed]",
      "text/plain": [
       "<IPython.core.display.Image object>"
      ]
     },
     "metadata": {},
     "output_type": "display_data"
    },
    {
     "data": {
      "text/plain": [
       "WindowsPath('C:/workspace/qiskit-metal/docs/tut/analysis/ansys.png')"
      ]
     },
     "execution_count": 9,
     "metadata": {},
     "output_type": "execute_result"
    }
   ],
   "source": [
    "hfss.render_design(['Q1'], [])\n",
    "hfss.save_screenshot()"
   ]
  },
  {
   "cell_type": "markdown",
   "id": "graduate-bandwidth",
   "metadata": {},
   "source": [
    "Set the convergence parameters and junction properties in the Ansys design. <br>\n",
    "Then run the analysis and plot the convergence."
   ]
  },
  {
   "cell_type": "code",
   "execution_count": 10,
   "id": "southeast-sword",
   "metadata": {},
   "outputs": [
    {
     "name": "stderr",
     "output_type": "stream",
     "text": [
      "INFO 02:03PM [analyze]: Analyzing setup Setup\n"
     ]
    },
    {
     "name": "stdout",
     "output_type": "stream",
     "text": [
      "\n",
      "Number of eigenmodes to find             = 1\n",
      "Number of simulation passes              = 10\n",
      "Convergence freq max delta percent diff  = 0.1\n",
      "\n"
     ]
    },
    {
     "name": "stderr",
     "output_type": "stream",
     "text": [
      "02:04PM 14s INFO [hfss_report_f_convergence]: Saved convergences to C:\\workspace\\qiskit-metal\\docs\\tut\\analysis\\hfss_eig_f_convergence.csv\n"
     ]
    }
   ],
   "source": [
    "# Analysis properties\n",
    "setup = hfss.pinfo.setup\n",
    "setup.passes = 10\n",
    "print(f\"\"\"\n",
    "Number of eigenmodes to find             = {setup.n_modes}\n",
    "Number of simulation passes              = {setup.passes}\n",
    "Convergence freq max delta percent diff  = {setup.delta_f}\n",
    "\"\"\")\n",
    "\n",
    "pinfo = hfss.pinfo\n",
    "pinfo.design.set_variable('Lj', '10 nH')\n",
    "pinfo.design.set_variable('Cj', '0 fF')\n",
    "setup.analyze()\n",
    "\n",
    "hfss.plot_convergences()"
   ]
  },
  {
   "cell_type": "markdown",
   "id": "designing-protection",
   "metadata": {},
   "source": [
    "### Plot fields and display them\n",
    "Display the Ansys modeler window and plot the E-field on the chip's surface."
   ]
  },
  {
   "cell_type": "code",
   "execution_count": 11,
   "id": "educational-honey",
   "metadata": {
    "tags": [
     "nbsphinx-thumbnail"
    ]
   },
   "outputs": [
    {
     "data": {
      "image/png": "[encoded data removed]",
      "text/plain": [
       "<IPython.core.display.Image object>"
      ]
     },
     "metadata": {},
     "output_type": "display_data"
    }
   ],
   "source": [
    "hfss.modeler._modeler.ShowWindow()\n",
    "hfss.plot_ansys_fields('main')\n",
    "hfss.save_screenshot()"
   ]
  },
  {
   "cell_type": "markdown",
   "id": "divine-cheat",
   "metadata": {},
   "source": [
    "Delete the newly created E-field plot to prepare for the next phase."
   ]
  },
  {
   "cell_type": "code",
   "execution_count": 12,
   "id": "hundred-miami",
   "metadata": {},
   "outputs": [],
   "source": [
    "hfss.plot_ansys_delete(['Mag_E1'])"
   ]
  },
  {
   "cell_type": "code",
   "execution_count": 13,
   "id": "considered-welding",
   "metadata": {},
   "outputs": [
    {
     "data": {
      "text/html": [
       "\n",
       "    <div style=\"\n",
       "        padding-top:10px;\n",
       "        padding-bottom:10px;\n",
       "        font-weight: bold;\n",
       "        font-size: large;\n",
       "        text-align: center;\n",
       "        color: white;\n",
       "        background: #12c2e9;  /* fallback for old browsers */\n",
       "        background: -webkit-linear-gradient(to right, #f64f59, #c471ed, #12c2e9);  /* Chrome 10-25, Safari 5.1-6 */\n",
       "        background: linear-gradient(to right, #f64f59, #c471ed, #12c2e9); /* W3C, IE 10+/ Edge, Firefox 16+, Chrome 26+, Opera 12+, Safari 7+ */\n",
       "    \">\n",
       "        Energy-Participation-Ratio Analysis\n",
       "    </div>\n",
       "        "
      ],
      "text/plain": [
       "<IPython.core.display.HTML object>"
      ]
     },
     "metadata": {},
     "output_type": "display_data"
    }
   ],
   "source": [
    "%metal_print Energy-Participation-Ratio Analysis"
   ]
  },
  {
   "cell_type": "markdown",
   "id": "severe-thing",
   "metadata": {},
   "source": [
    "### Set up EPR parameters\n",
    "Specify the junctions in the model; in this case there's only one, namely 'jj'."
   ]
  },
  {
   "cell_type": "code",
   "execution_count": 14,
   "id": "supreme-fossil",
   "metadata": {},
   "outputs": [
    {
     "name": "stdout",
     "output_type": "stream",
     "text": [
      "Design \"TransmonQubit\" info:\n",
      "\t# eigenmodes    1\n",
      "\t# variations    1\n"
     ]
    }
   ],
   "source": [
    "#Non-linear (Josephson) junction\n",
    "pinfo = hfss.pinfo # Project info\n",
    "pinfo.junctions['jj'] = {'Lj_variable': 'Lj', 'rect': 'JJ_rect_Lj_Q1_rect_jj', \n",
    "                             'line': 'JJ_Lj_Q1_rect_jj_',  'Cj_variable': 'Cj'}\n",
    "pinfo.validate_junction_info() # Check that valid names of variables and objects have been supplied\n",
    "pinfo.dissipative['dielectrics_bulk'] = ['main'] # Dissipative elements: specify\n",
    "# Handles  microwave analysis on eigenmode solutions\n",
    "eprd = epr.DistributedAnalysis(pinfo)"
   ]
  },
  {
   "cell_type": "markdown",
   "id": "known-minority",
   "metadata": {},
   "source": [
    "Find the electric and magnetic energy stored in the substrate and the system as a whole."
   ]
  },
  {
   "cell_type": "code",
   "execution_count": 15,
   "id": "fantastic-monitor",
   "metadata": {},
   "outputs": [
    {
     "name": "stdout",
     "output_type": "stream",
     "text": [
      "\n",
      "ℰ_elec_all       = 1.49890548420838e-24\n",
      "ℰ_elec_substrate = 1.3804948081662e-24\n",
      "EPR of substrate = 92.1%\n",
      "\n",
      "ℰ_mag    = 3.22108994504308e-26\n",
      "\n"
     ]
    }
   ],
   "source": [
    "ℰ_elec = eprd.calc_energy_electric()\n",
    "ℰ_elec_substrate = eprd.calc_energy_electric(None, 'main')\n",
    "ℰ_mag = eprd.calc_energy_magnetic()\n",
    "\n",
    "print(f\"\"\"\n",
    "ℰ_elec_all       = {ℰ_elec}\n",
    "ℰ_elec_substrate = {ℰ_elec_substrate}\n",
    "EPR of substrate = {ℰ_elec_substrate / ℰ_elec * 100 :.1f}%\n",
    "\n",
    "ℰ_mag    = {ℰ_mag}\n",
    "\"\"\")"
   ]
  },
  {
   "cell_type": "markdown",
   "id": "marked-possibility",
   "metadata": {},
   "source": [
    "### Run EPR analysis\n",
    "\n",
    "Perform EPR analysis for all modes and variations."
   ]
  },
  {
   "cell_type": "code",
   "execution_count": 16,
   "id": "certain-bradford",
   "metadata": {},
   "outputs": [
    {
     "name": "stdout",
     "output_type": "stream",
     "text": [
      "\n",
      "Variation 0  [1/1]\n",
      "\n",
      "  \u001b[1mMode 0 at 6.36 GHz   [1/1]\u001b[0m\n",
      "    Calculating ℰ_magnetic,ℰ_electric\n",
      "       (ℰ_E-ℰ_H)/ℰ_E       ℰ_E       ℰ_H\n",
      "               97.9%  7.495e-25 1.611e-26\n",
      "\n",
      "    Calculating junction energy participation ration (EPR)\n",
      "\tmethod=`line_voltage`. First estimates:\n",
      "\tjunction        EPR p_0j   sign s_0j    (p_capacitive)\n",
      "\t\tEnergy fraction (Lj over Lj&Cj)= 96.90%\n",
      "\tjj              0.994455  (+)        0.0317995\n",
      "\t\t(U_tot_cap-U_tot_ind)/mean=0.77%\n",
      "Calculating Qdielectric_main for mode 0 (0/0)\n",
      "p_dielectric_main_0 = 0.9210019061977638\n"
     ]
    },
    {
     "name": "stdout",
     "output_type": "stream",
     "text": [
      "\n",
      "ANALYSIS DONE. Data saved to:\n",
      "\n",
      "C:\\data-pyEPR\\Project1\\TransmonQubit\\2021-05-03 14-04-29.npz\n",
      "\n",
      "\n",
      "\t Differences in variations:\n",
      "\n",
      "\n",
      "\n",
      " . . . . . . . . . . . . . . . . . . . . . . . . . . . . . . . . . . . . . . . . \n",
      "Variation 0\n",
      "\n",
      "Starting the diagonalization\n",
      "Finished the diagonalization\n",
      "Pm_norm=\n",
      "modes\n",
      "0    1.015776\n",
      "dtype: float64\n",
      "\n",
      "Pm_norm idx =\n",
      "     jj\n",
      "0  True\n",
      "*** P (participation matrix, not normlz.)\n",
      "         jj\n",
      "0  0.963807\n",
      "\n",
      "*** S (sign-bit matrix)\n",
      "   s_jj\n",
      "0     1\n",
      "*** P (participation matrix, normalized.)\n",
      "      0.98\n",
      "\n",
      "*** Chi matrix O1 PT (MHz)\n",
      "    Diag is anharmonicity, off diag is full cross-Kerr.\n",
      "       297\n",
      "\n",
      "*** Chi matrix ND (MHz) \n",
      "       329\n",
      "\n",
      "*** Frequencies O1 PT (MHz)\n",
      "0    6067.053833\n",
      "dtype: float64\n",
      "\n",
      "*** Frequencies ND (MHz)\n",
      "0    6051.884304\n",
      "dtype: float64\n",
      "\n",
      "*** Q_coupling\n",
      "Empty DataFrame\n",
      "Columns: []\n",
      "Index: [0]\n"
     ]
    },
    {
     "data": {
      "text/markdown": [
       "#### Mode frequencies (MHz)"
      ],
      "text/plain": [
       "<IPython.core.display.Markdown object>"
      ]
     },
     "metadata": {},
     "output_type": "display_data"
    },
    {
     "data": {
      "text/markdown": [
       "###### Numerical diagonalization"
      ],
      "text/plain": [
       "<IPython.core.display.Markdown object>"
      ]
     },
     "metadata": {},
     "output_type": "display_data"
    },
    {
     "data": {
      "text/html": [
       "<div>\n",
       "<style scoped>\n",
       "    .dataframe tbody tr th:only-of-type {\n",
       "        vertical-align: middle;\n",
       "    }\n",
       "\n",
       "    .dataframe tbody tr th {\n",
       "        vertical-align: top;\n",
       "    }\n",
       "\n",
       "    .dataframe thead th {\n",
       "        text-align: right;\n",
       "    }\n",
       "</style>\n",
       "<table border=\"1\" class=\"dataframe\">\n",
       "  <thead>\n",
       "    <tr style=\"text-align: right;\">\n",
       "      <th>Lj</th>\n",
       "      <th>10</th>\n",
       "    </tr>\n",
       "    <tr>\n",
       "      <th>eigenmode</th>\n",
       "      <th></th>\n",
       "    </tr>\n",
       "  </thead>\n",
       "  <tbody>\n",
       "    <tr>\n",
       "      <th>0</th>\n",
       "      <td>6067.05</td>\n",
       "    </tr>\n",
       "  </tbody>\n",
       "</table>\n",
       "</div>"
      ],
      "text/plain": [
       "Lj              10\n",
       "eigenmode         \n",
       "0          6067.05"
      ]
     },
     "metadata": {},
     "output_type": "display_data"
    },
    {
     "data": {
      "text/markdown": [
       "#### Kerr Non-linear coefficient table (MHz)"
      ],
      "text/plain": [
       "<IPython.core.display.Markdown object>"
      ]
     },
     "metadata": {},
     "output_type": "display_data"
    },
    {
     "data": {
      "text/markdown": [
       "###### Numerical diagonalization"
      ],
      "text/plain": [
       "<IPython.core.display.Markdown object>"
      ]
     },
     "metadata": {},
     "output_type": "display_data"
    },
    {
     "data": {
      "text/html": [
       "<div>\n",
       "<style scoped>\n",
       "    .dataframe tbody tr th:only-of-type {\n",
       "        vertical-align: middle;\n",
       "    }\n",
       "\n",
       "    .dataframe tbody tr th {\n",
       "        vertical-align: top;\n",
       "    }\n",
       "\n",
       "    .dataframe thead th {\n",
       "        text-align: right;\n",
       "    }\n",
       "</style>\n",
       "<table border=\"1\" class=\"dataframe\">\n",
       "  <thead>\n",
       "    <tr style=\"text-align: right;\">\n",
       "      <th></th>\n",
       "      <th></th>\n",
       "      <th>0</th>\n",
       "    </tr>\n",
       "    <tr>\n",
       "      <th>Lj</th>\n",
       "      <th></th>\n",
       "      <th></th>\n",
       "    </tr>\n",
       "  </thead>\n",
       "  <tbody>\n",
       "    <tr>\n",
       "      <th>10</th>\n",
       "      <th>0</th>\n",
       "      <td>328.7</td>\n",
       "    </tr>\n",
       "  </tbody>\n",
       "</table>\n",
       "</div>"
      ],
      "text/plain": [
       "          0\n",
       "Lj         \n",
       "10 0  328.7"
      ]
     },
     "metadata": {},
     "output_type": "display_data"
    }
   ],
   "source": [
    "eprd.do_EPR_analysis()\n",
    "\n",
    "# 4a. Perform Hamiltonian spectrum post-analysis, building on mw solutions using EPR\n",
    "epra = epr.QuantumAnalysis(eprd.data_filename)\n",
    "epra.analyze_all_variations(cos_trunc = 8, fock_trunc = 7)\n",
    "\n",
    "# 4b. Report solved results\n",
    "swp_variable = 'Lj' # suppose we swept an optimetric analysis vs. inductance Lj_alice\n",
    "epra.plot_hamiltonian_results(swp_variable=swp_variable)\n",
    "epra.report_results(swp_variable=swp_variable, numeric=True)"
   ]
  },
  {
   "cell_type": "markdown",
   "id": "intended-giving",
   "metadata": {},
   "source": [
    "Release Ansys session"
   ]
  },
  {
   "cell_type": "code",
   "execution_count": 17,
   "id": "threaded-helping",
   "metadata": {},
   "outputs": [],
   "source": [
    "hfss.disconnect_ansys()"
   ]
  },
  {
   "cell_type": "code",
   "execution_count": 18,
   "id": "unique-donor",
   "metadata": {},
   "outputs": [
    {
     "data": {
      "text/html": [
       "\n",
       "    <div style=\"\n",
       "        padding-top:10px;\n",
       "        padding-bottom:10px;\n",
       "        font-weight: bold;\n",
       "        font-size: large;\n",
       "        text-align: center;\n",
       "        color: white;\n",
       "        background: #12c2e9;  /* fallback for old browsers */\n",
       "        background: -webkit-linear-gradient(to right, #f64f59, #c471ed, #12c2e9);  /* Chrome 10-25, Safari 5.1-6 */\n",
       "        background: linear-gradient(to right, #f64f59, #c471ed, #12c2e9); /* W3C, IE 10+/ Edge, Firefox 16+, Chrome 26+, Opera 12+, Safari 7+ */\n",
       "    \">\n",
       "        Q3D Analysis\n",
       "    </div>\n",
       "        "
      ],
      "text/plain": [
       "<IPython.core.display.HTML object>"
      ]
     },
     "metadata": {},
     "output_type": "display_data"
    }
   ],
   "source": [
    "%metal_print Q3D Analysis"
   ]
  },
  {
   "cell_type": "markdown",
   "id": "derived-sight",
   "metadata": {},
   "source": [
    "Next we will look at a lumped oscillator model (LOM) for the same design.\n",
    "\n",
    "## Render to Ansys Q3D"
   ]
  },
  {
   "cell_type": "code",
   "execution_count": 19,
   "id": "activated-referral",
   "metadata": {},
   "outputs": [],
   "source": [
    "q3d = design.renderers.q3d"
   ]
  },
  {
   "cell_type": "markdown",
   "id": "agricultural-laugh",
   "metadata": {},
   "source": [
    "Again, we establish a connection with Ansys and add a design."
   ]
  },
  {
   "cell_type": "code",
   "execution_count": 20,
   "id": "banned-adult",
   "metadata": {},
   "outputs": [
    {
     "name": "stderr",
     "output_type": "stream",
     "text": [
      "INFO 02:04PM [connect_project]: Connecting to Ansys Desktop API...\n",
      "INFO 02:04PM [load_ansys_project]: \tOpened Ansys App\n",
      "INFO 02:04PM [load_ansys_project]: \tOpened Ansys Desktop v2020.2.0\n",
      "INFO 02:04PM [load_ansys_project]: \tOpened Ansys Project\n",
      "\tFolder:    C:/Ansoft/\n",
      "\tProject:   Project1\n",
      "INFO 02:04PM [connect_design]: \tOpened active design\n",
      "\tDesign:    TransmonQubit [Solution type: Eigenmode]\n",
      "INFO 02:04PM [get_setup]: \tOpened setup `Setup`  (<class 'pyEPR.ansys.HfssEMSetup'>)\n",
      "INFO 02:04PM [connect]: \tConnected to project \"Project1\" and design \"TransmonQubit\" 😀 \n",
      "\n",
      "02:04PM 50s WARNING [activate_q3d_design]: The name=TransmonQubit_q3d was not in active project.  A new design will be inserted to the project.  Names in active project are: \n",
      "['TransmonQubit'].  \n",
      "INFO 02:04PM [connect_design]: \tOpened active design\n",
      "\tDesign:    TransmonQubit_q3d [Solution type: Q3D]\n",
      "WARNING 02:04PM [connect_setup]: \tNo design setup detected.\n",
      "WARNING 02:04PM [connect_setup]: \tCreating Q3D default setup.\n",
      "INFO 02:04PM [get_setup]: \tOpened setup `Setup`  (<class 'pyEPR.ansys.AnsysQ3DSetup'>)\n"
     ]
    }
   ],
   "source": [
    "q3d.connect_ansys()\n",
    "q3d.activate_q3d_design(\"TransmonQubit_q3d\")"
   ]
  },
  {
   "cell_type": "markdown",
   "id": "outstanding-collar",
   "metadata": {},
   "source": [
    "Next, we render the qubit to Ansys Q3D for analysis. We set the readout pin of the qubit in the 'open' termination list of the render so its capacitance is properly simulated."
   ]
  },
  {
   "cell_type": "code",
   "execution_count": 21,
   "id": "extensive-excuse",
   "metadata": {},
   "outputs": [],
   "source": [
    "q3d.render_design(['Q1'], [('Q1','readout')])"
   ]
  },
  {
   "cell_type": "markdown",
   "id": "phantom-picnic",
   "metadata": {},
   "source": [
    "## Use Ansys Q3D to obtain the capacitance matrix"
   ]
  },
  {
   "cell_type": "code",
   "execution_count": 22,
   "id": "pointed-tourism",
   "metadata": {},
   "outputs": [
    {
     "name": "stderr",
     "output_type": "stream",
     "text": [
      "INFO 02:05PM [get_setup]: \tOpened setup `Setup`  (<class 'pyEPR.ansys.AnsysQ3DSetup'>)\n",
      "INFO 02:05PM [analyze]: Analyzing setup Setup\n"
     ]
    }
   ],
   "source": [
    "#Analyze the default solution setup\n",
    "q3d.analyze_setup(\"Setup\")"
   ]
  },
  {
   "cell_type": "markdown",
   "id": "typical-stroke",
   "metadata": {},
   "source": [
    "This simulation had 4 nets, the two charge islands of the floating transmon, the readout coupler, and the ground, resulting in a 4x4 capacitance matrix."
   ]
  },
  {
   "cell_type": "code",
   "execution_count": 23,
   "id": "european-sharing",
   "metadata": {},
   "outputs": [
    {
     "name": "stderr",
     "output_type": "stream",
     "text": [
      "INFO 02:05PM [get_matrix]: Exporting matrix data to (C:\\AppData\\Local\\Temp\\tmpfsf4d1yo.txt, C, , Setup:LastAdaptive, \"Original\", \"ohm\", \"nH\", \"fF\", \"mSie\", 5000000000, Maxwell, 3, False\n"
     ]
    },
    {
     "data": {
      "text/html": [
       "<div>\n",
       "<style scoped>\n",
       "    .dataframe tbody tr th:only-of-type {\n",
       "        vertical-align: middle;\n",
       "    }\n",
       "\n",
       "    .dataframe tbody tr th {\n",
       "        vertical-align: top;\n",
       "    }\n",
       "\n",
       "    .dataframe thead th {\n",
       "        text-align: right;\n",
       "    }\n",
       "</style>\n",
       "<table border=\"1\" class=\"dataframe\">\n",
       "  <thead>\n",
       "    <tr style=\"text-align: right;\">\n",
       "      <th></th>\n",
       "      <th>ground_main_plane</th>\n",
       "      <th>pad_bot_Q1</th>\n",
       "      <th>pad_top_Q1</th>\n",
       "      <th>readout_connector_pad_Q1</th>\n",
       "    </tr>\n",
       "  </thead>\n",
       "  <tbody>\n",
       "    <tr>\n",
       "      <th>ground_main_plane</th>\n",
       "      <td>177.78538</td>\n",
       "      <td>-44.74611</td>\n",
       "      <td>-38.34722</td>\n",
       "      <td>-37.03041</td>\n",
       "    </tr>\n",
       "    <tr>\n",
       "      <th>pad_bot_Q1</th>\n",
       "      <td>-44.74611</td>\n",
       "      <td>82.84141</td>\n",
       "      <td>-32.48515</td>\n",
       "      <td>-2.30760</td>\n",
       "    </tr>\n",
       "    <tr>\n",
       "      <th>pad_top_Q1</th>\n",
       "      <td>-38.34722</td>\n",
       "      <td>-32.48515</td>\n",
       "      <td>93.38943</td>\n",
       "      <td>-19.67329</td>\n",
       "    </tr>\n",
       "    <tr>\n",
       "      <th>readout_connector_pad_Q1</th>\n",
       "      <td>-37.03041</td>\n",
       "      <td>-2.30760</td>\n",
       "      <td>-19.67329</td>\n",
       "      <td>60.14998</td>\n",
       "    </tr>\n",
       "  </tbody>\n",
       "</table>\n",
       "</div>"
      ],
      "text/plain": [
       "                          ground_main_plane  pad_bot_Q1  pad_top_Q1  \\\n",
       "ground_main_plane                 177.78538   -44.74611   -38.34722   \n",
       "pad_bot_Q1                        -44.74611    82.84141   -32.48515   \n",
       "pad_top_Q1                        -38.34722   -32.48515    93.38943   \n",
       "readout_connector_pad_Q1          -37.03041    -2.30760   -19.67329   \n",
       "\n",
       "                          readout_connector_pad_Q1  \n",
       "ground_main_plane                        -37.03041  \n",
       "pad_bot_Q1                                -2.30760  \n",
       "pad_top_Q1                               -19.67329  \n",
       "readout_connector_pad_Q1                  60.14998  "
      ]
     },
     "execution_count": 23,
     "metadata": {},
     "output_type": "execute_result"
    }
   ],
   "source": [
    "# Using the analysis results, get its capacitance matrix as a dataframe.\n",
    "q3d.get_capacitance_matrix()"
   ]
  },
  {
   "cell_type": "markdown",
   "id": "pacific-pulse",
   "metadata": {},
   "source": [
    "The optional keyword parameters of get_capacitance_matrix are given below: <br><br>\n",
    "variation: str = '' <br>\n",
    "solution_kind: str = 'AdaptivePass' <br>\n",
    "pass_number: int = 3"
   ]
  },
  {
   "cell_type": "code",
   "execution_count": 24,
   "id": "nutritional-absence",
   "metadata": {},
   "outputs": [
    {
     "name": "stderr",
     "output_type": "stream",
     "text": [
      "INFO 02:05PM [get_matrix]: Exporting matrix data to (C:\\AppData\\Local\\Temp\\tmpww6gvwba.txt, C, , Setup:AdaptivePass, \"Original\", \"ohm\", \"nH\", \"fF\", \"mSie\", 5000000000, Maxwell, 1, False\n",
      "INFO 02:05PM [get_matrix]: Exporting matrix data to (C:\\AppData\\Local\\Temp\\tmpkw2929y_.txt, C, , Setup:AdaptivePass, \"Original\", \"ohm\", \"nH\", \"fF\", \"mSie\", 5000000000, Maxwell, 2, False\n",
      "INFO 02:05PM [get_matrix]: Exporting matrix data to (C:\\AppData\\Local\\Temp\\tmpqgtuh4fv.txt, C, , Setup:AdaptivePass, \"Original\", \"ohm\", \"nH\", \"fF\", \"mSie\", 5000000000, Maxwell, 3, False\n",
      "INFO 02:05PM [get_matrix]: Exporting matrix data to (C:\\AppData\\Local\\Temp\\tmp1j82uh88.txt, C, , Setup:AdaptivePass, \"Original\", \"ohm\", \"nH\", \"fF\", \"mSie\", 5000000000, Maxwell, 4, False\n",
      "INFO 02:05PM [get_matrix]: Exporting matrix data to (C:\\AppData\\Local\\Temp\\tmpwsla_ob5.txt, C, , Setup:AdaptivePass, \"Original\", \"ohm\", \"nH\", \"fF\", \"mSie\", 5000000000, Maxwell, 5, False\n",
      "INFO 02:05PM [get_matrix]: Exporting matrix data to (C:\\AppData\\Local\\Temp\\tmpy4ctmwh1.txt, C, , Setup:AdaptivePass, \"Original\", \"ohm\", \"nH\", \"fF\", \"mSie\", 5000000000, Maxwell, 6, False\n",
      "INFO 02:05PM [get_matrix]: Exporting matrix data to (C:\\AppData\\Local\\Temp\\tmp_1sb2qb1.txt, C, , Setup:AdaptivePass, \"Original\", \"ohm\", \"nH\", \"fF\", \"mSie\", 5000000000, Maxwell, 7, False\n",
      "INFO 02:05PM [get_matrix]: Exporting matrix data to (C:\\AppData\\Local\\Temp\\tmplsa2xz1l.txt, C, , Setup:AdaptivePass, \"Original\", \"ohm\", \"nH\", \"fF\", \"mSie\", 5000000000, Maxwell, 8, False\n"
     ]
    },
    {
     "name": "stdout",
     "output_type": "stream",
     "text": [
      "[1, 2] [3]\n",
      "Predicted Values\n",
      "\n",
      "Transmon Properties\n",
      "f_Q 5.508895 [GHz]\n",
      "EC 322.410099 [MHz]\n",
      "EJ 13.273404 [GHz]\n",
      "alpha -377.222089 [MHz]\n",
      "dispersion 62.166575 [KHz]\n",
      "Lq 12.305036 [nH]\n",
      "Cq 60.079471 [fF]\n",
      "T1 46.068191 [us]\n",
      "\n",
      "**Coupling Properties**\n",
      "\n",
      "tCqbus1 -7.486202 [fF]\n",
      "gbus1_in_MHz -118.930498 [MHz]\n",
      "χ_bus1 -3.900791 [MHz]\n",
      "1/T1bus1 3454.768693 [Hz]\n",
      "T1bus1 46.068191 [us]\n",
      "Bus-Bus Couplings\n"
     ]
    },
    {
     "data": {
      "text/html": [
       "<div>\n",
       "<style scoped>\n",
       "    .dataframe tbody tr th:only-of-type {\n",
       "        vertical-align: middle;\n",
       "    }\n",
       "\n",
       "    .dataframe tbody tr th {\n",
       "        vertical-align: top;\n",
       "    }\n",
       "\n",
       "    .dataframe thead th {\n",
       "        text-align: right;\n",
       "    }\n",
       "</style>\n",
       "<table border=\"1\" class=\"dataframe\">\n",
       "  <thead>\n",
       "    <tr style=\"text-align: right;\">\n",
       "      <th></th>\n",
       "      <th>fQ</th>\n",
       "      <th>EC</th>\n",
       "      <th>EJ</th>\n",
       "      <th>alpha</th>\n",
       "      <th>dispersion</th>\n",
       "      <th>gbus</th>\n",
       "      <th>chi_in_MHz</th>\n",
       "      <th>χr MHz</th>\n",
       "      <th>gr MHz</th>\n",
       "    </tr>\n",
       "  </thead>\n",
       "  <tbody>\n",
       "    <tr>\n",
       "      <th>1</th>\n",
       "      <td>5.848645</td>\n",
       "      <td>366.675723</td>\n",
       "      <td>13.273404</td>\n",
       "      <td>-435.120535</td>\n",
       "      <td>183.838223</td>\n",
       "      <td>[-120.91915969031888]</td>\n",
       "      <td>[-7.045838787793941]</td>\n",
       "      <td>7.045839</td>\n",
       "      <td>120.919160</td>\n",
       "    </tr>\n",
       "    <tr>\n",
       "      <th>2</th>\n",
       "      <td>5.800484</td>\n",
       "      <td>360.198673</td>\n",
       "      <td>13.273404</td>\n",
       "      <td>-426.554207</td>\n",
       "      <td>158.894188</td>\n",
       "      <td>[-112.57027192270645]</td>\n",
       "      <td>[-5.610759520303708]</td>\n",
       "      <td>5.610760</td>\n",
       "      <td>112.570272</td>\n",
       "    </tr>\n",
       "    <tr>\n",
       "      <th>3</th>\n",
       "      <td>5.728978</td>\n",
       "      <td>350.706154</td>\n",
       "      <td>13.273404</td>\n",
       "      <td>-414.05886</td>\n",
       "      <td>127.373567</td>\n",
       "      <td>[-114.4721344200509]</td>\n",
       "      <td>[-5.135837723457538]</td>\n",
       "      <td>5.135838</td>\n",
       "      <td>114.472134</td>\n",
       "    </tr>\n",
       "    <tr>\n",
       "      <th>4</th>\n",
       "      <td>5.645726</td>\n",
       "      <td>339.839946</td>\n",
       "      <td>13.273404</td>\n",
       "      <td>-399.840701</td>\n",
       "      <td>97.757395</td>\n",
       "      <td>[-113.75236108111946]</td>\n",
       "      <td>[-4.422671613573481]</td>\n",
       "      <td>4.422672</td>\n",
       "      <td>113.752361</td>\n",
       "    </tr>\n",
       "    <tr>\n",
       "      <th>5</th>\n",
       "      <td>5.574615</td>\n",
       "      <td>330.715418</td>\n",
       "      <td>13.273404</td>\n",
       "      <td>-387.971176</td>\n",
       "      <td>77.483483</td>\n",
       "      <td>[-115.42485160814473]</td>\n",
       "      <td>[-4.067027529550902]</td>\n",
       "      <td>4.067028</td>\n",
       "      <td>115.424852</td>\n",
       "    </tr>\n",
       "    <tr>\n",
       "      <th>6</th>\n",
       "      <td>5.552051</td>\n",
       "      <td>327.850119</td>\n",
       "      <td>13.273404</td>\n",
       "      <td>-384.256913</td>\n",
       "      <td>71.883362</td>\n",
       "      <td>[-116.90656488361248]</td>\n",
       "      <td>[-4.027920633490058]</td>\n",
       "      <td>4.027921</td>\n",
       "      <td>116.906565</td>\n",
       "    </tr>\n",
       "    <tr>\n",
       "      <th>7</th>\n",
       "      <td>5.522295</td>\n",
       "      <td>324.093652</td>\n",
       "      <td>13.273404</td>\n",
       "      <td>-379.396816</td>\n",
       "      <td>65.050231</td>\n",
       "      <td>[-118.53068129631139]</td>\n",
       "      <td>[-3.9548493935622147]</td>\n",
       "      <td>3.954849</td>\n",
       "      <td>118.530681</td>\n",
       "    </tr>\n",
       "    <tr>\n",
       "      <th>8</th>\n",
       "      <td>5.508895</td>\n",
       "      <td>322.410099</td>\n",
       "      <td>13.273404</td>\n",
       "      <td>-377.222089</td>\n",
       "      <td>62.166575</td>\n",
       "      <td>[-118.93049750280109]</td>\n",
       "      <td>[-3.9007913880708722]</td>\n",
       "      <td>3.900791</td>\n",
       "      <td>118.930498</td>\n",
       "    </tr>\n",
       "  </tbody>\n",
       "</table>\n",
       "</div>"
      ],
      "text/plain": [
       "         fQ          EC         EJ       alpha  dispersion  \\\n",
       "1  5.848645  366.675723  13.273404 -435.120535  183.838223   \n",
       "2  5.800484  360.198673  13.273404 -426.554207  158.894188   \n",
       "3  5.728978  350.706154  13.273404  -414.05886  127.373567   \n",
       "4  5.645726  339.839946  13.273404 -399.840701   97.757395   \n",
       "5  5.574615  330.715418  13.273404 -387.971176   77.483483   \n",
       "6  5.552051  327.850119  13.273404 -384.256913   71.883362   \n",
       "7  5.522295  324.093652  13.273404 -379.396816   65.050231   \n",
       "8  5.508895  322.410099  13.273404 -377.222089   62.166575   \n",
       "\n",
       "                    gbus             chi_in_MHz    χr MHz      gr MHz  \n",
       "1  [-120.91915969031888]   [-7.045838787793941]  7.045839  120.919160  \n",
       "2  [-112.57027192270645]   [-5.610759520303708]  5.610760  112.570272  \n",
       "3   [-114.4721344200509]   [-5.135837723457538]  5.135838  114.472134  \n",
       "4  [-113.75236108111946]   [-4.422671613573481]  4.422672  113.752361  \n",
       "5  [-115.42485160814473]   [-4.067027529550902]  4.067028  115.424852  \n",
       "6  [-116.90656488361248]   [-4.027920633490058]  4.027921  116.906565  \n",
       "7  [-118.53068129631139]  [-3.9548493935622147]  3.954849  118.530681  \n",
       "8  [-118.93049750280109]  [-3.9007913880708722]  3.900791  118.930498  "
      ]
     },
     "execution_count": 24,
     "metadata": {},
     "output_type": "execute_result"
    }
   ],
   "source": [
    "# Run lumped oscillator model (LOM) simulations and save results in dict_lom.b\n",
    "dict_lom = q3d.lumped_oscillator_vs_passes(12.31, 2, 1, 7.0, [], 9)\n",
    "dict_lom"
   ]
  },
  {
   "cell_type": "markdown",
   "id": "favorite-berkeley",
   "metadata": {},
   "source": [
    "The method takes the capacitance matrix of each pass of the simulation and determines multiple parameters, such as the qubits anharmonicity, or the readout chi.\n",
    "\n",
    "lumped_oscillator_vs_passes takes in the following parameters: <br><br>\n",
    "Lj_nH: float <br>\n",
    "Cj_fF: float <br>\n",
    "N: int <br>\n",
    "fr: Union[list, float] <br>\n",
    "fb: Union[list, float] <br>\n",
    "maxPass: int <br>\n",
    "variation: str = '' <br>\n",
    "solution_kind: str = 'AdaptivePass' <br>\n",
    "g_scale: float = 1"
   ]
  },
  {
   "cell_type": "code",
   "execution_count": 25,
   "id": "former-battle",
   "metadata": {},
   "outputs": [
    {
     "name": "stderr",
     "output_type": "stream",
     "text": [
      "INFO 02:06PM [hfss_report_full_convergence]: Creating report for variation 0\n"
     ]
    },
    {
     "name": "stdout",
     "output_type": "stream",
     "text": [
      "Design \"TransmonQubit_q3d\" info:\n",
      "\t# eigenmodes    0\n",
      "\t# variations    1\n"
     ]
    },
    {
     "data": {
      "text/plain": [
       "<Figure size 2970x1155 with 2 Axes>"
      ]
     },
     "execution_count": 25,
     "metadata": {},
     "output_type": "execute_result"
    }
   ],
   "source": [
    "q3d.plot_convergence_main(dict_lom);\n",
    "q3d.plot_convergence_chi(dict_lom)"
   ]
  },
  {
   "cell_type": "code",
   "execution_count": 26,
   "id": "bearing-crest",
   "metadata": {},
   "outputs": [
    {
     "data": {
      "text/plain": [
       "{'Lj': '10nH',\n",
       " 'Cj': 0,\n",
       " '_Rj': 0,\n",
       " 'max_mesh_length_jj': '7um',\n",
       " 'project_path': None,\n",
       " 'project_name': None,\n",
       " 'design_name': None,\n",
       " 'ansys_file_extension': '.aedt',\n",
       " 'x_buffer_width_mm': 0.2,\n",
       " 'y_buffer_width_mm': 0.2,\n",
       " 'wb_threshold': '400um',\n",
       " 'wb_offset': '0um',\n",
       " 'wb_size': 5,\n",
       " 'plot_ansys_fields_options': {'name': 'NAME:Mag_E1',\n",
       "  'UserSpecifyName': '0',\n",
       "  'UserSpecifyFolder': '0',\n",
       "  'QuantityName': 'Mag_E',\n",
       "  'PlotFolder': 'E Field',\n",
       "  'StreamlinePlot': 'False',\n",
       "  'AdjacentSidePlot': 'False',\n",
       "  'FullModelPlot': 'False',\n",
       "  'IntrinsicVar': \"Phase='0deg'\",\n",
       "  'PlotGeomInfo_0': '1',\n",
       "  'PlotGeomInfo_1': 'Surface',\n",
       "  'PlotGeomInfo_2': 'FacesList',\n",
       "  'PlotGeomInfo_3': '1'}}"
      ]
     },
     "execution_count": 26,
     "metadata": {},
     "output_type": "execute_result"
    }
   ],
   "source": [
    "q3d.options"
   ]
  },
  {
   "cell_type": "code",
   "execution_count": 27,
   "id": "greater-texture",
   "metadata": {},
   "outputs": [],
   "source": [
    "q3d.disconnect_ansys()"
   ]
  },
  {
   "cell_type": "code",
   "execution_count": 28,
   "id": "continuing-layer",
   "metadata": {},
   "outputs": [
    {
     "data": {
      "text/plain": [
       "True"
      ]
     },
     "execution_count": 28,
     "metadata": {},
     "output_type": "execute_result"
    }
   ],
   "source": [
    "gui.main_window.close()"
   ]
  }
 ],
 "metadata": {
  "celltoolbar": "Tags",
  "kernelspec": {
   "display_name": "Python 3",
   "language": "python",
   "name": "python3"
  },
  "language_info": {
   "codemirror_mode": {
    "name": "ipython",
    "version": 3
   },
   "file_extension": ".py",
   "mimetype": "text/x-python",
   "name": "python",
   "nbconvert_exporter": "python",
   "pygments_lexer": "ipython3",
   "version": "3.7.8"
  }
 },
 "nbformat": 4,
 "nbformat_minor": 5
}
