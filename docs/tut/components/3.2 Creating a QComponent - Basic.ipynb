{
 "cells": [
  {
   "cell_type": "markdown",
   "metadata": {},
   "source": [
    "# Creating a QComponent - Basic"
   ]
  },
  {
   "cell_type": "markdown",
   "metadata": {},
   "source": [
    "Now that you have become familiar with Qiskit Metal and feel comfortable using the available aspects and functionality, the next step is learning how to make your own circuit component in Metal.\n",
    "\n",
    "We will start off by going over the sample `my_qcomponent` in `qiskit_metal>qlibrary>user_components` as a basis, which we will walk through below."
   ]
  },
  {
   "cell_type": "markdown",
   "metadata": {},
   "source": [
    "## Reviewing my_qcomponent"
   ]
  },
  {
   "cell_type": "code",
   "execution_count": 1,
   "metadata": {},
   "outputs": [],
   "source": [
    "# -*- coding: utf-8 -*-\n",
    "\n",
    "# This code is part of Qiskit.\n",
    "#\n",
    "# (C) Copyright IBM 2017, 2021.\n",
    "#\n",
    "# This code is licensed under the Apache License, Version 2.0. You may\n",
    "# obtain a copy of this license in the LICENSE.txt file in the root directory\n",
    "# of this source tree or at http://www.apache.org/licenses/LICENSE-2.0.\n",
    "#\n",
    "# Any modifications or derivative works of this code must retain this\n",
    "# copyright notice, and modified files need to carry a notice indicating\n",
    "# that they have been altered from the originals."
   ]
  },
  {
   "cell_type": "markdown",
   "metadata": {},
   "source": [
    "Always be sure to include the proper copyright and license information, and give yourself credit for any components you create!"
   ]
  },
  {
   "cell_type": "code",
   "execution_count": 2,
   "metadata": {},
   "outputs": [],
   "source": [
    "from qiskit_metal import draw, Dict\n",
    "from qiskit_metal.toolbox_metal import math_and_overrides\n",
    "from qiskit_metal.qlibrary.core import QComponent"
   ]
  },
  {
   "cell_type": "markdown",
   "metadata": {},
   "source": [
    "Import any classes or functions you will be wanting to use when creating your component. The geometries in Metal are shapely objects, which can be readily generated and manipulated through functions in `draw`. Mathematical functions can be accessed via `math_and_overrides`. Any imports that are part of the Metal requirement list can also be used.\n",
    "\n",
    "The key import is what the parent class of your new component will be. For this example, we are using `QComponent` as the parent for `MyQComponent`, which is the base component class in Metal and contains a great deal of automated functionality. All component hierarchy must have QComponent as the top base class."
   ]
  },
  {
   "cell_type": "code",
   "execution_count": 3,
   "metadata": {},
   "outputs": [
    {
     "data": {
      "text/plain": [
       "['__class__',\n",
       " '__delattr__',\n",
       " '__dict__',\n",
       " '__dir__',\n",
       " '__doc__',\n",
       " '__eq__',\n",
       " '__format__',\n",
       " '__ge__',\n",
       " '__getattribute__',\n",
       " '__gt__',\n",
       " '__hash__',\n",
       " '__i_am_component__',\n",
       " '__init__',\n",
       " '__init_subclass__',\n",
       " '__le__',\n",
       " '__lt__',\n",
       " '__module__',\n",
       " '__ne__',\n",
       " '__new__',\n",
       " '__reduce__',\n",
       " '__reduce_ex__',\n",
       " '__repr__',\n",
       " '__setattr__',\n",
       " '__sizeof__',\n",
       " '__str__',\n",
       " '__subclasshook__',\n",
       " '__weakref__',\n",
       " '_add_to_design',\n",
       " '_check_pin_inputs',\n",
       " '_delete_evaluation',\n",
       " '_gather_all_children_metadata',\n",
       " '_gather_all_children_options',\n",
       " '_get_specific_table_values_from_renderers',\n",
       " '_get_table_values_from_renderers',\n",
       " '_get_unique_class_name',\n",
       " '_is_name_used',\n",
       " '_register_class_with_design',\n",
       " 'add_dependency',\n",
       " 'add_pin',\n",
       " 'add_qgeometry',\n",
       " 'class_name',\n",
       " 'component_metadata',\n",
       " 'connect_components_already_in_design',\n",
       " 'default_options',\n",
       " 'delete',\n",
       " 'design',\n",
       " 'get_pin',\n",
       " 'get_template_options',\n",
       " 'id',\n",
       " 'logger',\n",
       " 'make',\n",
       " 'name',\n",
       " 'options',\n",
       " 'parse_options',\n",
       " 'parse_value',\n",
       " 'pin_names',\n",
       " 'populate_to_track_table_usage',\n",
       " 'qgeometry_bounds',\n",
       " 'qgeometry_dict',\n",
       " 'qgeometry_list',\n",
       " 'qgeometry_plot',\n",
       " 'qgeometry_table',\n",
       " 'qgeometry_types',\n",
       " 'rebuild']"
      ]
     },
     "execution_count": 3,
     "metadata": {},
     "output_type": "execute_result"
    }
   ],
   "source": [
    "dir(QComponent)"
   ]
  },
  {
   "cell_type": "markdown",
   "metadata": {},
   "source": [
    "`MyQComponent` creates a simple rectangle of a variable width, height, position and rotation."
   ]
  },
  {
   "cell_type": "code",
   "execution_count": 4,
   "metadata": {},
   "outputs": [],
   "source": [
    "class MyQComponent(QComponent):\n",
    "    \"\"\"\n",
    "    Use this class as a template for your components - have fun\n",
    "    \n",
    "    Description:\n",
    "    \n",
    "    Options:\n",
    "    \"\"\"\n",
    "\n",
    "    # Edit these to define your own tempate options for creation\n",
    "    # Default drawing options\n",
    "    default_options = Dict(width='500um',\n",
    "                           height='300um',\n",
    "                           pos_x='0um',\n",
    "                           pos_y='0um',\n",
    "                           orientation='0',\n",
    "                           layer='1')\n",
    "    \"\"\"Default drawing options\"\"\"\n",
    "\n",
    "    # Name prefix of component, if user doesn't provide name\n",
    "    component_metadata = Dict(short_name='component',\n",
    "                             _qgeometry_table_poly='True')\n",
    "    \"\"\"Component metadata\"\"\"\n",
    "    \n",
    "    def make(self):\n",
    "        \"\"\"Convert self.options into QGeometry.\"\"\"\n",
    "\n",
    "        p = self.parse_options()  # Parse the string options into numbers\n",
    "\n",
    "        # EDIT HERE - Replace the following with your code\n",
    "        # Create some raw geometry\n",
    "        # Use autocompletion for the `draw.` module (use tab key)\n",
    "        rect = draw.rectangle(p.width, p.height, p.pos_x, p.pos_y)\n",
    "        \n",
    "        rect = draw.rotate(rect, p.orientation)\n",
    "        rect = draw.translate(rect,p.pos_x,p.pos_y)\n",
    "        \n",
    "        geom = {'my_polygon': rect}\n",
    "        self.add_qgeometry('poly', geom, layer=p.layer, subtract=False)"
   ]
  },
  {
   "cell_type": "markdown",
   "metadata": {},
   "source": [
    "The docstring at the start of the class should clearly explain what the component is, what the parameterized values of the component refer to (in a sense the 'inputs'), and any other information you believe would be relevant for a user making use of your component.\n",
    "\n",
    "`default_options` is a dictionary to be included in the class of all components. The keywords, of type string, in the default dictionary are the parameters the front-end user is allowed to modify. The keywords in the above indicate that the width and height can be modified via the components options, but have a default value of 500um and 300 um respectively. Further, the position and rotation can also be changed. The `layer` is an expected keyword in a default dictionary, as it is used by renderers to help determine further properties of the `qgeometry` of the component when rendered, eg. GDS QRenderer uses the layer # to define which layer the qgeometry is on.\n",
    "\n",
    "`component_metadata` is a dictionary which contains some important pieces of information, such as the default/shorthand name of the component (`short_name`), or indicating what types of qgeometry tables are included in this component, eg. `_qgeometry_table_poly='True'`.\n",
    "The `component_metadata` must contain the flags for each type of qgeometry table being used via `add_qgeometry` methods at the end of the `make()` function, in order for renderer options to be updated correctly. Currently the options are:\n",
    "\n",
    "`_qgeometry_table_path='True'`\n",
    "\n",
    "`_qgeometry_table_poly='True'`\n",
    "\n",
    "`_qgeometry_table_junction='True'`\n",
    "\n",
    "\n",
    "The `make()` method is where the actual generation of the component's layout is written. "
   ]
  },
  {
   "cell_type": "markdown",
   "metadata": {},
   "source": [
    "### The make() method"
   ]
  },
  {
   "cell_type": "markdown",
   "metadata": {},
   "source": [
    "Although not required, a good first line is `p = self.parse_options()` to cut down on your amount of typing. The `parse_options()` translates the keywords in `self.options` from strings into their appropriate value with respect to the prefix included, e.g.,`p.width`=> \"500um\" -> 0.0005\n",
    "\n",
    "Following this, all code generating the shapely geometries that are to represent your circuit layout should be written, via the `draw` module or even written in directly. It is a good practice to play around with the geometries in a jupyter notebook first for quick visual feedback, such as:"
   ]
  },
  {
   "cell_type": "code",
   "execution_count": 5,
   "metadata": {},
   "outputs": [
    {
     "data": {
      "image/svg+xml": [
       "<svg xmlns=\"http://www.w3.org/2000/svg\" xmlns:xlink=\"http://www.w3.org/1999/xlink\" width=\"100.0\" height=\"100.0\" viewBox=\"-0.58 -1.08 1.16 2.16\" preserveAspectRatio=\"xMinYMin meet\"><g transform=\"matrix(1,0,0,-1,0,0.0)\"><path fill-rule=\"evenodd\" fill=\"#66cc99\" stroke=\"#555555\" stroke-width=\"0.0432\" opacity=\"0.6\" d=\"M -0.5,-1.0 L 0.5,-1.0 L 0.5,1.0 L -0.5,1.0 L -0.5,-1.0 z\" /></g></svg>"
      ],
      "text/plain": [
       "<shapely.geometry.polygon.Polygon at 0x15ca5b6fc88>"
      ]
     },
     "execution_count": 5,
     "metadata": {},
     "output_type": "execute_result"
    }
   ],
   "source": [
    "draw.rectangle(1,2,0,0)"
   ]
  },
  {
   "cell_type": "code",
   "execution_count": 6,
   "metadata": {},
   "outputs": [
    {
     "data": {
      "image/svg+xml": [
       "<svg xmlns=\"http://www.w3.org/2000/svg\" xmlns:xlink=\"http://www.w3.org/1999/xlink\" width=\"100.0\" height=\"100.0\" viewBox=\"-1.145512985522207 -1.145512985522207 2.291025971044414 2.291025971044414\" preserveAspectRatio=\"xMinYMin meet\"><g transform=\"matrix(1,0,0,-1,0,0.0)\"><path fill-rule=\"evenodd\" fill=\"#66cc99\" stroke=\"#555555\" stroke-width=\"0.04582051942088828\" opacity=\"0.6\" d=\"M 0.3535533905932738,-1.0606601717798214 L 1.0606601717798214,-0.3535533905932738 L -0.3535533905932738,1.0606601717798214 L -1.0606601717798214,0.3535533905932738 L 0.3535533905932738,-1.0606601717798214 z\" /></g></svg>"
      ],
      "text/plain": [
       "<shapely.geometry.polygon.Polygon at 0x15ca5b52848>"
      ]
     },
     "execution_count": 6,
     "metadata": {},
     "output_type": "execute_result"
    }
   ],
   "source": [
    "draw.rotate(draw.rectangle(1,2,0,0), 45)"
   ]
  },
  {
   "cell_type": "markdown",
   "metadata": {},
   "source": [
    "Or for a little more complexity:"
   ]
  },
  {
   "cell_type": "code",
   "execution_count": 7,
   "metadata": {},
   "outputs": [
    {
     "data": {
      "image/svg+xml": [
       "<svg xmlns=\"http://www.w3.org/2000/svg\" xmlns:xlink=\"http://www.w3.org/1999/xlink\" width=\"100.0\" height=\"100.0\" viewBox=\"-1.08 -1.08 2.16 2.16\" preserveAspectRatio=\"xMinYMin meet\"><g transform=\"matrix(1,0,0,-1,0,0.0)\"><path fill-rule=\"evenodd\" fill=\"#66cc99\" stroke=\"#555555\" stroke-width=\"0.0432\" opacity=\"0.6\" d=\"M 1.0,0.0 L 0.9951847266721969,-0.0980171403295605 L 0.9807852804032305,-0.19509032201612808 L 0.9569403357322089,-0.2902846772544621 L 0.923879532511287,-0.3826834323650894 L 0.8819212643483553,-0.4713967368259972 L 0.8314696123025456,-0.5555702330196017 L 0.7730104533627374,-0.6343932841636449 L 0.7071067811865481,-0.7071067811865469 L 0.6343932841636462,-0.7730104533627363 L 0.5555702330196031,-0.8314696123025447 L 0.4713967368259986,-0.8819212643483545 L 0.38268343236509084,-0.9238795325112863 L 0.2902846772544636,-0.9569403357322085 L 0.19509032201612964,-0.9807852804032302 L 0.09801714032956209,-0.9951847266721967 L 1.6155445744325867e-15,-1.0 L -0.09801714032955888,-0.995184726672197 L -0.19509032201612647,-0.9807852804032308 L -0.2902846772544605,-0.9569403357322095 L -0.38268343236508784,-0.9238795325112875 L -0.4713967368259957,-0.881921264348356 L -0.5555702330196005,-0.8314696123025463 L -0.6343932841636439,-0.7730104533627382 L -0.7071067811865462,-0.7071067811865489 L -0.7730104533627359,-0.6343932841636468 L -0.8314696123025443,-0.5555702330196036 L -0.8819212643483543,-0.47139673682599903 L -0.9238795325112862,-0.3826834323650911 L -0.9569403357322085,-0.29028467725446366 L -0.9807852804032302,-0.19509032201612947 L -0.9951847266721968,-0.09801714032956171 L -1.0,-1.0106430996148606e-15 L -0.9951847266721969,0.0980171403295597 L -0.9807852804032307,0.1950903220161275 L -0.956940335732209,0.2902846772544617 L -0.923879532511287,0.3826834323650892 L -0.8819212643483553,0.47139673682599725 L -0.8314696123025455,0.555570233019602 L -0.7730104533627371,0.6343932841636453 L -0.7071067811865477,0.7071067811865475 L -0.6343932841636459,0.7730104533627367 L -0.555570233019603,0.8314696123025448 L -0.4713967368259987,0.8819212643483545 L -0.38268343236509117,0.9238795325112862 L -0.2902846772544641,0.9569403357322084 L -0.1950903220161304,0.98078528040323 L -0.0980171403295631,0.9951847266721966 L -2.848232278972479e-15,1.0 L 0.09801714032955743,0.9951847266721972 L 0.1950903220161248,0.9807852804032311 L 0.29028467725445867,0.9569403357322099 L 0.3826834323650859,0.9238795325112884 L 0.47139673682599365,0.8819212643483572 L 0.5555702330195982,0.8314696123025479 L 0.6343932841636415,0.7730104533627402 L 0.7071067811865436,0.7071067811865515 L 0.7730104533627332,0.63439328416365 L 0.8314696123025418,0.5555702330196074 L 0.8819212643483519,0.4713967368260034 L 0.9238795325112841,0.38268343236509617 L 0.9569403357322067,0.29028467725446927 L 0.980785280403229,0.1950903220161357 L 0.9951847266721962,0.09801714032956847 L 1.0,8.238535137130597e-15 L 1.0,0.0 z M 0.7413029668566793,-0.3 L -0.7413029668566793,-0.3 L -0.739103626009029,-0.3061467458920729 L -0.7055370114786834,-0.37711738946079926 L -0.6651756898420356,-0.4444561864156829 L -0.6184083626901887,-0.5075146273309175 L -0.565685424949237,-0.5656854249492391 L -0.5075146273309151,-0.6184083626901906 L -0.4444561864156804,-0.6651756898420371 L -0.3771173894607966,-0.7055370114786849 L -0.3061467458920703,-0.73910362600903 L -0.23222774180356842,-0.7655522685857676 L -0.1560722576129012,-0.7846282243225846 L -0.07841371226364711,-0.7961477813377577 L 1.2924356595460695e-15,-0.8 L 0.07841371226364968,-0.7961477813377574 L 0.15607225761290372,-0.7846282243225842 L 0.2322277418035709,-0.7655522685857669 L 0.3061467458920727,-0.7391036260090291 L 0.37711738946079887,-0.7055370114786836 L 0.44445618641568246,-0.6651756898420358 L 0.5075146273309169,-0.6184083626901891 L 0.5656854249492386,-0.5656854249492376 L 0.61840836269019,-0.507514627330916 L 0.6651756898420365,-0.4444561864156814 L 0.7055370114786843,-0.37711738946079776 L 0.7391036260090296,-0.3061467458920715 L 0.7413029668566793,-0.3 z M 0.6000000000000001,0.4 L 0.6000000000000001,0.4000000000000017 L 0.5990369453344393,0.4196034280659137 L 0.5961570560806458,0.43901806440322716 L 0.5913880671464413,0.4580569354508939 L 0.5847759065022569,0.4765366864730193 L 0.5763842528696704,0.49427934736520074 L 0.5662939224605084,0.5111140466039215 L 0.5546020906725466,0.52687865683273 L 0.5414213562373087,0.5414213562373104 L 0.5268786568327284,0.5546020906725481 L 0.5111140466039197,0.5662939224605096 L 0.49427934736519874,0.5763842528696714 L 0.4765366864730172,0.5847759065022577 L 0.45805693545089177,0.591388067146442 L 0.439018064403225,0.5961570560806463 L 0.4196034280659115,0.5990369453344395 L 0.39999999999999947,0.6000000000000001 L 0.3803965719340874,0.5990369453344393 L 0.36098193559677394,0.5961570560806461 L 0.34194306454910717,0.5913880671464418 L 0.32346331352698177,0.5847759065022573 L 0.3057206526348003,0.576384252869671 L 0.2888859533960794,0.566293922460509 L 0.2731213431672708,0.5546020906725474 L 0.25857864376269046,0.5414213562373096 L 0.2453979093274526,0.526878656832729 L 0.2337060775394909,0.5111140466039205 L 0.22361574713032895,0.49427934736519946 L 0.21522409349774263,0.4765366864730179 L 0.2086119328535582,0.4580569354508924 L 0.20384294391935387,0.43901806440322555 L 0.20096305466556064,0.41960342806591194 L 0.2,0.3999999999999998 L 0.20096305466556064,0.38039657193408766 L 0.20384294391935398,0.3609819355967741 L 0.2086119328535583,0.3419430645491073 L 0.21522409349774277,0.32346331352698177 L 0.22361574713032917,0.3057206526348002 L 0.23370607753949113,0.2888859533960793 L 0.24539790932745284,0.27312134316727066 L 0.2585786437626908,0.25857864376269024 L 0.2731213431672712,0.24539790932745237 L 0.2888859533960799,0.23370607753949074 L 0.30572065263480086,0.2236157471303288 L 0.32346331352698243,0.21522409349774252 L 0.34194306454910794,0.2086119328535581 L 0.3609819355967747,0.20384294391935387 L 0.38039657193408827,0.2009630546655606 L 0.40000000000000036,0.2 L 0.41960342806591244,0.20096305466556066 L 0.43901806440322594,0.20384294391935398 L 0.45805693545089277,0.2086119328535583 L 0.47653668647301817,0.21522409349774274 L 0.49427934736519974,0.2236157471303291 L 0.5111140466039207,0.23370607753949107 L 0.5268786568327293,0.24539790932745276 L 0.5414213562373097,0.25857864376269063 L 0.5546020906725475,0.273121343167271 L 0.5662939224605091,0.2888859533960797 L 0.5763842528696711,0.3057206526348006 L 0.5847759065022574,0.32346331352698215 L 0.5913880671464418,0.3419430645491076 L 0.5961570560806462,0.3609819355967744 L 0.5990369453344394,0.38039657193408793 L 0.6000000000000001,0.4 z M -0.2,0.4 L -0.2,0.4000000000000017 L -0.20096305466556078,0.4196034280659137 L -0.2038429439193542,0.43901806440322716 L -0.20861193285355867,0.4580569354508939 L -0.21522409349774319,0.4765366864730193 L -0.2236157471303296,0.49427934736520074 L -0.23370607753949166,0.5111140466039215 L -0.24539790932745337,0.52687865683273 L -0.2585786437626913,0.5414213562373104 L -0.2731213431672717,0.5546020906725481 L -0.28888595339608036,0.5662939224605096 L -0.3057206526348013,0.5763842528696714 L -0.3234633135269828,0.5847759065022577 L -0.3419430645491083,0.591388067146442 L -0.36098193559677505,0.5961570560806463 L -0.38039657193408855,0.5990369453344395 L -0.4000000000000006,0.6000000000000001 L -0.41960342806591266,0.5990369453344393 L -0.4390180644032261,0.5961570560806461 L -0.4580569354508929,0.5913880671464418 L -0.4765366864730183,0.5847759065022573 L -0.49427934736519974,0.576384252869671 L -0.5111140466039206,0.566293922460509 L -0.5268786568327293,0.5546020906725474 L -0.5414213562373096,0.5414213562373096 L -0.5546020906725475,0.526878656832729 L -0.5662939224605091,0.5111140466039205 L -0.5763842528696711,0.49427934736519946 L -0.5847759065022574,0.4765366864730179 L -0.5913880671464419,0.4580569354508924 L -0.5961570560806462,0.43901806440322555 L -0.5990369453344394,0.41960342806591194 L -0.6000000000000001,0.3999999999999998 L -0.5990369453344394,0.38039657193408766 L -0.5961570560806461,0.3609819355967741 L -0.5913880671464418,0.3419430645491073 L -0.5847759065022573,0.32346331352698177 L -0.5763842528696709,0.3057206526348002 L -0.5662939224605089,0.2888859533960793 L -0.5546020906725472,0.27312134316727066 L -0.5414213562373092,0.25857864376269024 L -0.5268786568327288,0.24539790932745237 L -0.5111140466039201,0.23370607753949074 L -0.4942793473651992,0.2236157471303288 L -0.4765366864730176,0.21522409349774252 L -0.4580569354508921,0.2086119328535581 L -0.4390180644032253,0.20384294391935387 L -0.4196034280659118,0.2009630546655606 L -0.3999999999999997,0.2 L -0.3803965719340876,0.20096305466556066 L -0.3609819355967741,0.20384294391935398 L -0.3419430645491073,0.2086119328535583 L -0.3234633135269819,0.21522409349774274 L -0.3057206526348003,0.2236157471303291 L -0.2888859533960794,0.23370607753949107 L -0.27312134316727077,0.24539790932745276 L -0.25857864376269035,0.25857864376269063 L -0.24539790932745253,0.273121343167271 L -0.2337060775394909,0.2888859533960797 L -0.22361574713032895,0.3057206526348006 L -0.21522409349774263,0.32346331352698215 L -0.20861193285355822,0.3419430645491076 L -0.2038429439193539,0.3609819355967744 L -0.20096305466556064,0.38039657193408793 L -0.2,0.4 z\" /></g></svg>"
      ],
      "text/plain": [
       "<shapely.geometry.polygon.Polygon at 0x15ca5b66948>"
      ]
     },
     "execution_count": 7,
     "metadata": {},
     "output_type": "execute_result"
    }
   ],
   "source": [
    "face = draw.shapely.geometry.Point(0, 0).buffer(1)\n",
    "eye = draw.shapely.geometry.Point(0, 0).buffer(0.2)\n",
    "eye_l = draw.translate(eye, -0.4, 0.4)\n",
    "eye_r = draw.translate(eye, 0.4, 0.4)\n",
    "\n",
    "smile = draw.shapely.geometry.Point(0, 0).buffer(0.8)\n",
    "cut_sq = draw.shapely.geometry.box(-1, -0.3, 1, 1)\n",
    "smile = draw.subtract(smile, cut_sq)\n",
    "face = draw.subtract(face, smile)\n",
    "face = draw.subtract(face, eye_r)\n",
    "face = draw.subtract(face, eye_l)\n",
    "face"
   ]
  },
  {
   "cell_type": "markdown",
   "metadata": {},
   "source": [
    "Once you are happy with your geometries, and have them properly parameterized to allow the Front End User as much customization of your component as you wish, it is time to convert the geometries into Metal `qgeometries` via `add_qgeometry`"
   ]
  },
  {
   "cell_type": "markdown",
   "metadata": {},
   "source": [
    "#### add_qgeometry"
   ]
  },
  {
   "cell_type": "code",
   "execution_count": 8,
   "metadata": {},
   "outputs": [],
   "source": [
    "import qiskit_metal as metal\n",
    "?metal.qlibrary.core.QComponent.add_qgeometry"
   ]
  },
  {
   "cell_type": "markdown",
   "metadata": {},
   "source": [
    "`add_qgeometry` is the method by which the shapely geometries you have drawn are converted into Metal qgeometries, the format which allows for the easy translatability between different renderers and the variable representation of quantum elements such as Josephson junctions.\n",
    "\n",
    "Currently there are three kinds of qgeometries, `path`, `poly` and `junction`.\n",
    "`path` -> shapely LineString\n",
    "`poly` -> any other shapely geometry (currently)\n",
    "`junction` -> shapely LineString\n",
    "\n",
    "Both `path` and `junction` also take and input of `width`, with is added to the qgeometry table to inform renderers of, as an example, how much to buffer the LineString of a cpw transmission line to turn it into a proper 2D sheet.\n",
    "\n",
    "`subtract` indicates this qgeometry is to be subtracted from the ground plane of that layer#. A ground plane is automatically included for that layer at the dimension of the chip size if any qgeometry has `subtract = True`. As an example, a cpw transmission line's dielectric gap could be drawn by using the same LineString as previously, having the `width = cpw_width + 2*cpw_gap` and setting `subtract = True`.\n",
    "\n",
    "`fillet` is an option that informs a renderer that the vertices of this qgeometry are to be filleted by that value (eg. `fillet = \"100um\"`). "
   ]
  },
  {
   "cell_type": "markdown",
   "metadata": {},
   "source": [
    "#### add_pin"
   ]
  },
  {
   "cell_type": "code",
   "execution_count": 9,
   "metadata": {},
   "outputs": [],
   "source": [
    "?metal.qlibrary.core.QComponent.add_pin"
   ]
  },
  {
   "cell_type": "markdown",
   "metadata": {},
   "source": [
    "The final step for creating your QComponent is adding of pins. This is not necessarily a requirement for your component, but to have full functionality with Metal and be able to make use of auto-routing components with it, you will want to indicate where the \"ports\" of your component are.\n",
    "\n",
    "Following from the above docstring, pins can be added from two coordinates indicating either an orthogonal vector to the port plane of your component, or a tangent to the port plane of your component. For the former, you want the vector to be pointing to the middle point of your intended plane, with the latter being across the length of your intended plane (as indicated in the above figure). The `width` should be the size of the plane (say, in the case of a CPW transmission line, the trace width), with the `gap` following the same logic (though this value can be ignored for any non-coplanar structure). "
   ]
  },
  {
   "cell_type": "markdown",
   "metadata": {},
   "source": [
    "## Example"
   ]
  },
  {
   "cell_type": "markdown",
   "metadata": {},
   "source": [
    "\n",
    "\n",
    "Below is a simple QComponent that implements everything we have reviewed."
   ]
  },
  {
   "cell_type": "code",
   "execution_count": 10,
   "metadata": {},
   "outputs": [],
   "source": [
    "from qiskit_metal import draw, Dict\n",
    "from qiskit_metal.toolbox_metal import math_and_overrides\n",
    "from qiskit_metal.qlibrary.core import QComponent\n",
    "\n",
    "class MySimpleGapCapacitor(QComponent):\n",
    "    \"\"\"\n",
    "    Inherits 'QComponent' class.\n",
    "    \n",
    "    Description:\n",
    "        A simple CPW style gap capacitor, with endcap islands each coupled to their own\n",
    "        cpw transmission line that ends in a pin.\n",
    "    \n",
    "    Options:\n",
    "        * cpw_width: width of the cpw trace of the transmission line\n",
    "        * cpw_gap: dielectric gap of the cpw transmission line\n",
    "        * cap_width: width of the gap capacitor (size of the charge islands)\n",
    "        * cap_gap: dielectric space between the two islands\n",
    "        * pos_x/_y: position of the capacitor on chip\n",
    "        * orientation: 0-> is parallel to x-axis, with rotation (in degrees) counterclockwise.\n",
    "        * layer: the layer number for the layout \n",
    "        \n",
    "    \n",
    "    \"\"\"\n",
    "\n",
    "    # Edit these to define your own tempate options for creation\n",
    "    # Default drawing options\n",
    "    default_options = Dict(cpw_width='15um',\n",
    "                           cpw_gap='9um',\n",
    "                           cap_width='35um',\n",
    "                           cap_gap='3um',\n",
    "                           pos_x='0um',\n",
    "                           pos_y='0um',\n",
    "                           orientation='0',\n",
    "                           layer='1')\n",
    "    \"\"\"Default drawing options\"\"\"\n",
    "\n",
    "    # Name prefix of component, if user doesn't provide name\n",
    "    component_metadata = Dict(short_name='component', \n",
    "                             _qgeometry_table_poly='True',\n",
    "                             _qgeometry_table_path='True')\n",
    "    \"\"\"Component metadata\"\"\"\n",
    "    \n",
    "    def make(self):\n",
    "        \"\"\"Convert self.options into QGeometry.\"\"\"\n",
    "\n",
    "        p = self.parse_options()  # Parse the string options into numbers\n",
    "\n",
    "        pad = draw.rectangle(p.cpw_width, p.cap_width, 0, 0)\n",
    "        pad_left = draw.translate(pad,-(p.cpw_width+p.cap_gap)/2,0)\n",
    "        pad_right = draw.translate(pad,(p.cpw_width+p.cap_gap)/2,0)\n",
    "        pad_etch = draw.rectangle(2*p.cpw_gap+2*p.cpw_width+p.cap_gap,2*p.cpw_gap+p.cap_width)\n",
    "        cpw_left = draw.shapely.geometry.LineString([[-(p.cpw_width+p.cap_gap/2),0],[-(p.cpw_width*3 +p.cap_gap/2),0]])\n",
    "        cpw_right = draw.shapely.geometry.LineString([[(p.cpw_width+p.cap_gap/2),0],[(p.cpw_width*3 +p.cap_gap/2),0]])\n",
    "        \n",
    "        geom_list = [pad_left,pad_right,cpw_left,cpw_right,pad_etch]\n",
    "        geom_list = draw.rotate(geom_list,p.orientation)\n",
    "        geom_list = draw.translate(geom_list,p.pos_x,p.pos_y)\n",
    "        [pad_left,pad_right,cpw_left,cpw_right,pad_etch] = geom_list\n",
    "\n",
    "        self.add_qgeometry('path', {'cpw_left':cpw_left, 'cpw_right':cpw_right}, layer=p.layer, width = p.cpw_width)\n",
    "        self.add_qgeometry('path', {'cpw_left_etch':cpw_left, 'cpw_right_etch':cpw_right}, layer=p.layer, width = p.cpw_width+2*p.cpw_gap, subtract=True)\n",
    "        self.add_qgeometry('poly', {'pad_left':pad_left, 'pad_right':pad_right}, layer=p.layer)\n",
    "        self.add_qgeometry('poly', {'pad_etch':pad_etch}, layer=p.layer, subtract=True)\n",
    "        \n",
    "        self.add_pin('cap_left', cpw_left.coords, width = p.cpw_width, gap = p.cpw_gap, input_as_norm=True)\n",
    "        self.add_pin('cap_right', cpw_right.coords, width = p.cpw_width, gap = p.cpw_gap, input_as_norm=True)"
   ]
  },
  {
   "cell_type": "code",
   "execution_count": 11,
   "metadata": {},
   "outputs": [],
   "source": [
    "design = metal.designs.DesignPlanar()\n",
    "\n",
    "gui = metal.MetalGUI(design)"
   ]
  },
  {
   "cell_type": "code",
   "execution_count": 12,
   "metadata": {},
   "outputs": [],
   "source": [
    "my_cap = MySimpleGapCapacitor(design,'my_cap')\n",
    "gui.rebuild()\n",
    "gui.autoscale()"
   ]
  },
  {
   "cell_type": "markdown",
   "metadata": {},
   "source": [
    "You should now see *my_cap* in the Metal gui. One can work on the layout of the component through these cells by changing the above class, such as how the parameterized values are used. By enabling `overwrite_enabled` (which should normally be kept to False), the code can quickly be iterated through until you, the component designer, is happy with the qcomponent you have just created."
   ]
  },
  {
   "cell_type": "code",
   "execution_count": 13,
   "metadata": {},
   "outputs": [],
   "source": [
    "design.overwrite_enabled = True"
   ]
  },
  {
   "cell_type": "markdown",
   "metadata": {},
   "source": [
    "We will delve into more complex QComponent topics in the next notebook, `Creating a QComponent - Advanced` </br>\n",
    "\n",
    "Use the command below to close Metal GUI."
   ]
  },
  {
   "cell_type": "code",
   "execution_count": 14,
   "metadata": {
    "tags": [
     "nbsphinx-thumbnail"
    ]
   },
   "outputs": [
    {
     "data": {
      "image/png": "[encoded data removed]",
      "text/plain": [
       "<IPython.core.display.Image object>"
      ]
     },
     "metadata": {
      "image/png": {
       "width": 500
      }
     },
     "output_type": "display_data"
    }
   ],
   "source": [
    "gui.screenshot()"
   ]
  },
  {
   "cell_type": "code",
   "execution_count": 15,
   "metadata": {},
   "outputs": [
    {
     "data": {
      "text/plain": [
       "True"
      ]
     },
     "execution_count": 15,
     "metadata": {},
     "output_type": "execute_result"
    }
   ],
   "source": [
    "gui.main_window.close()"
   ]
  }
 ],
 "metadata": {
  "celltoolbar": "Tags",
  "kernelspec": {
   "display_name": "Python 3",
   "language": "python",
   "name": "python3"
  },
  "language_info": {
   "codemirror_mode": {
    "name": "ipython",
    "version": 3
   },
   "file_extension": ".py",
   "mimetype": "text/x-python",
   "name": "python",
   "nbconvert_exporter": "python",
   "pygments_lexer": "ipython3",
   "version": "3.7.8"
  }
 },
 "nbformat": 4,
 "nbformat_minor": 4
}
