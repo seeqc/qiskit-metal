{
 "cells": [
  {
   "cell_type": "markdown",
   "metadata": {},
   "source": [
    "# Full Chip Design"
   ]
  },
  {
   "cell_type": "code",
   "execution_count": 1,
   "metadata": {},
   "outputs": [],
   "source": [
    "%load_ext autoreload\n",
    "%autoreload 2"
   ]
  },
  {
   "cell_type": "markdown",
   "metadata": {},
   "source": [
    "*Make sure to have the right kernel selected!*"
   ]
  },
  {
   "cell_type": "code",
   "execution_count": 2,
   "metadata": {},
   "outputs": [
    {
     "data": {
      "text/html": [
       "\n",
       "    <h1 style=\"\n",
       "        background: #12c2e9;  /* fallback for old browsers */\n",
       "        background: -webkit-linear-gradient(to right, #d4418e 0%, #0652c5 74%);  /* Chrome 10-25, Safari 5.1-6 */\n",
       "        background: linear-gradient(315deg, #d4418e 0%, #0652c5 74%); /* W3C, IE 10+/ Edge, Firefox 16+, Chrome 26+, Opera 12+, Safari 7+ */\n",
       "        margin-top: 50px;\n",
       "        border-style: outset;\n",
       "        padding-top:100px;\n",
       "        padding-bottom:50px;\n",
       "        padding-left:25px;\n",
       "        color: white;\n",
       "    \"> Welcome to Qiskit Metal! <h1>\n",
       "        "
      ],
      "text/plain": [
       "<IPython.core.display.HTML object>"
      ]
     },
     "metadata": {},
     "output_type": "display_data"
    }
   ],
   "source": [
    "import qiskit_metal as metal\n",
    "from qiskit_metal import designs, draw\n",
    "from qiskit_metal import MetalGUI, Dict, open_docs\n",
    "\n",
    "%metal_heading Welcome to Qiskit Metal!"
   ]
  },
  {
   "cell_type": "markdown",
   "metadata": {},
   "source": [
    "Welcome to Qiskit Metal! \n",
    "\n",
    "For this example tutorial, we will attempt to create a multi qubit chip with a variety of components. We will want to generate the layout, simulate/analyze and tune the chip to hit the parameters we are wanting, finally rendering to a GDS file.\n",
    "\n",
    "One could generate subsections of the layout and tune individual components first, but in this case we will create all of the layout. We will be using both transmon pockets and crossmons, meandered and simple transmission lines, capacitive couplers, and launchers for wirebond connections. So we will import these, and also create a design instance and launch the GUI."
   ]
  },
  {
   "cell_type": "markdown",
   "metadata": {},
   "source": [
    "# Layout"
   ]
  },
  {
   "cell_type": "code",
   "execution_count": 3,
   "metadata": {},
   "outputs": [],
   "source": [
    "from qiskit_metal.qlibrary.qubits.transmon_pocket_6 import TransmonPocket6\n",
    "from qiskit_metal.qlibrary.qubits.transmon_cross_fl import TransmonCrossFL\n",
    "\n",
    "from qiskit_metal.qlibrary.couplers.tunable_coupler_01 import TunableCoupler01\n",
    "\n",
    "from qiskit_metal.qlibrary.tlines.meandered import RouteMeander\n",
    "from qiskit_metal.qlibrary.tlines.pathfinder import RoutePathfinder\n",
    "from qiskit_metal.qlibrary.tlines.anchored_path import RouteAnchors\n",
    "\n",
    "from qiskit_metal.qlibrary.lumped.cap_n_interdigital import CapNInterdigital\n",
    "from qiskit_metal.qlibrary.couplers.cap_n_interdigital_tee import CapNInterdigitalTee\n",
    "from qiskit_metal.qlibrary.couplers.coupled_line_tee import CoupledLineTee\n",
    "\n",
    "from qiskit_metal.qlibrary.terminations.launchpad_wb import LaunchpadWirebond\n",
    "from qiskit_metal.qlibrary.terminations.launchpad_wb_coupled import LaunchpadWirebondCoupled"
   ]
  },
  {
   "cell_type": "code",
   "execution_count": 4,
   "metadata": {},
   "outputs": [],
   "source": [
    "design = metal.designs.DesignPlanar()\n",
    "\n",
    "gui = metal.MetalGUI(design)"
   ]
  },
  {
   "cell_type": "markdown",
   "metadata": {},
   "source": [
    "Since we are likely to be making many changes while tuning and modifying our design, we will enable overwriting. We can also check all of the chip properties to see if we want to change the size or any other parameter."
   ]
  },
  {
   "cell_type": "code",
   "execution_count": 5,
   "metadata": {},
   "outputs": [
    {
     "data": {
      "text/plain": [
       "{'material': 'silicon',\n",
       " 'layer_start': '0',\n",
       " 'layer_end': '2048',\n",
       " 'size': {'center_x': '0.0mm',\n",
       "  'center_y': '0.0mm',\n",
       "  'center_z': '0.0mm',\n",
       "  'size_x': '9mm',\n",
       "  'size_y': '6mm',\n",
       "  'size_z': '-750um',\n",
       "  'sample_holder_top': '890um',\n",
       "  'sample_holder_bottom': '1650um'}}"
      ]
     },
     "execution_count": 5,
     "metadata": {},
     "output_type": "execute_result"
    }
   ],
   "source": [
    "design.overwrite_enabled = True\n",
    "design.chips.main"
   ]
  },
  {
   "cell_type": "code",
   "execution_count": 6,
   "metadata": {},
   "outputs": [],
   "source": [
    "design.chips.main.size.size_x = '11mm'\n",
    "design.chips.main.size.size_y = '9mm'"
   ]
  },
  {
   "cell_type": "markdown",
   "metadata": {},
   "source": [
    "#### The Qubits"
   ]
  },
  {
   "cell_type": "markdown",
   "metadata": {},
   "source": [
    "We will add a collection of qubits. First we will place a transmon pocket with six connection pads. We can see any options the qubit qcomponent has to figure out what we might want to modify when creating the component. This will include the components default options (which the component designer included) as well as renderer options (which are added based on what renderers are present in Metal)."
   ]
  },
  {
   "cell_type": "code",
   "execution_count": 7,
   "metadata": {},
   "outputs": [
    {
     "data": {
      "text/plain": [
       "{'pos_x': '0um',\n",
       " 'pos_y': '0um',\n",
       " 'connection_pads': {},\n",
       " '_default_connection_pads': {'pad_gap': '15um',\n",
       "  'pad_width': '125um',\n",
       "  'pad_height': '30um',\n",
       "  'pad_cpw_shift': '0um',\n",
       "  'pad_cpw_extent': '25um',\n",
       "  'cpw_width': '10um',\n",
       "  'cpw_gap': '6um',\n",
       "  'cpw_extend': '100um',\n",
       "  'pocket_extent': '5um',\n",
       "  'pocket_rise': '0um',\n",
       "  'loc_W': '+1'},\n",
       " 'chip': 'main',\n",
       " 'pad_gap': '30um',\n",
       " 'inductor_width': '20um',\n",
       " 'pad_width': '455um',\n",
       " 'pad_height': '90um',\n",
       " 'pocket_width': '650um',\n",
       " 'pocket_height': '650um',\n",
       " 'orientation': '0',\n",
       " 'hfss_wire_bonds': False,\n",
       " 'q3d_wire_bonds': False,\n",
       " 'hfss_inductance': '10nH',\n",
       " 'hfss_capacitance': 0,\n",
       " 'hfss_resistance': 0,\n",
       " 'hfss_mesh_kw_jj': 7e-06,\n",
       " 'q3d_inductance': '10nH',\n",
       " 'q3d_capacitance': 0,\n",
       " 'q3d_resistance': 0,\n",
       " 'q3d_mesh_kw_jj': 7e-06,\n",
       " 'gds_cell_name': 'my_other_junction'}"
      ]
     },
     "execution_count": 7,
     "metadata": {},
     "output_type": "execute_result"
    }
   ],
   "source": [
    "TransmonPocket6.get_template_options(design)"
   ]
  },
  {
   "cell_type": "code",
   "execution_count": 8,
   "metadata": {},
   "outputs": [],
   "source": [
    "options =  dict(\n",
    "    pad_width = '425 um', \n",
    "    pocket_height = '650um',\n",
    "    connection_pads=dict(\n",
    "        readout = dict(loc_W=0, loc_H=-1, pad_width = '80um', pad_gap = '50um'),\n",
    "        bus_01 = dict(loc_W=-1, loc_H=-1, pad_width = '60um', pad_gap = '10um'),\n",
    "        bus_02 = dict(loc_W=-1, loc_H=+1, pad_width = '60um', pad_gap = '10um'),\n",
    "        bus_03 = dict(loc_W=0, loc_H=+1, pad_width = '90um', pad_gap = '30um'),\n",
    "        bus_04 = dict(loc_W=+1, loc_H=+1, pad_width = '60um', pad_gap = '10um'),\n",
    "        bus_05 = dict(loc_W=+1, loc_H=-1, pad_width = '60um', pad_gap = '10um')        \n",
    "    ))\n",
    "\n",
    "q_main = TransmonPocket6(design,'Q_Main', options = dict(\n",
    "        pos_x='0mm', \n",
    "        pos_y='-1mm', \n",
    "        gds_cell_name ='FakeJunction_01',\n",
    "        hfss_inductance ='14nH',\n",
    "        **options))\n",
    "\n",
    "gui.rebuild()\n",
    "gui.autoscale()"
   ]
  },
  {
   "cell_type": "markdown",
   "metadata": {},
   "source": [
    "We then will add a mixture of additional qubits. This is not (though do not let me stop any experimental investigation) a design one would normally create for any experiment of computational purpose, but allows for having a mixture of different components on one chip."
   ]
  },
  {
   "cell_type": "code",
   "execution_count": 9,
   "metadata": {},
   "outputs": [
    {
     "data": {
      "text/plain": [
       "{'pos_x': '0um',\n",
       " 'pos_y': '0um',\n",
       " 'connection_pads': {},\n",
       " '_default_connection_pads': {'connector_type': '0',\n",
       "  'claw_length': '30um',\n",
       "  'ground_spacing': '5um',\n",
       "  'claw_width': '10um',\n",
       "  'claw_gap': '6um',\n",
       "  'connector_location': '0'},\n",
       " 'cross_width': '20um',\n",
       " 'cross_length': '200um',\n",
       " 'cross_gap': '20um',\n",
       " 'orientation': '0',\n",
       " 'layer': '1',\n",
       " 'make_fl': True,\n",
       " 'fl_options': {'t_top': '15um',\n",
       "  't_offset': '0um',\n",
       "  't_inductive_gap': '3um',\n",
       "  't_width': '5um',\n",
       "  't_gap': '3um'},\n",
       " 'hfss_wire_bonds': False,\n",
       " 'q3d_wire_bonds': False,\n",
       " 'hfss_inductance': '10nH',\n",
       " 'hfss_capacitance': 0,\n",
       " 'hfss_resistance': 0,\n",
       " 'hfss_mesh_kw_jj': 7e-06,\n",
       " 'q3d_inductance': '10nH',\n",
       " 'q3d_capacitance': 0,\n",
       " 'q3d_resistance': 0,\n",
       " 'q3d_mesh_kw_jj': 7e-06,\n",
       " 'gds_cell_name': 'my_other_junction'}"
      ]
     },
     "execution_count": 9,
     "metadata": {},
     "output_type": "execute_result"
    }
   ],
   "source": [
    "TransmonCrossFL.get_template_options(design)"
   ]
  },
  {
   "cell_type": "markdown",
   "metadata": {},
   "source": [
    "We will add two crossmons with flux lines to the west side of the chip, which we will couple to each other using a tunable coupler. To make sure the various readout and control lines will have space to connect to launchers at the chip edge, we have to be mindful of where we place them, and making sure we have enough space for routing while avoiding cross talk."
   ]
  },
  {
   "cell_type": "code",
   "execution_count": 10,
   "metadata": {},
   "outputs": [],
   "source": [
    "Q1 = TransmonCrossFL(design, 'Q1', options = dict(pos_x = '-2.75mm', pos_y='-1.8mm',\n",
    "                                                 connection_pads = dict(\n",
    "                                                     bus_01 = dict(connector_location = '180',claw_length ='95um'),\n",
    "                                                     readout = dict(connector_location = '0')),\n",
    "                                                 fl_options = dict()))\n",
    "\n",
    "Q2 = TransmonCrossFL(design, 'Q2', options = dict(pos_x = '-2.75mm', pos_y='-1.2mm', orientation = '180',\n",
    "                                                 connection_pads = dict(\n",
    "                                                     bus_02 = dict(connector_location = '0',claw_length ='95um'),\n",
    "                                                     readout = dict(connector_location = '180')),\n",
    "                                                 fl_options = dict()))\n",
    "\n",
    "\n",
    "tune_c_Q12 = TunableCoupler01(design,'Tune_C_Q12', options = dict(pos_x = '-2.81mm', pos_y = '-1.5mm', \n",
    "                                                                  orientation=90, c_width='500um'))\n",
    "\n",
    "gui.rebuild()\n",
    "gui.autoscale()"
   ]
  },
  {
   "cell_type": "markdown",
   "metadata": {},
   "source": [
    "We then will add three transmon pockets to the north side of the chip, with the intention of having them in a linear series of coupling to each other, as well as the 'main' qubit to the south."
   ]
  },
  {
   "cell_type": "code",
   "execution_count": 11,
   "metadata": {},
   "outputs": [],
   "source": [
    "Q3 = TransmonPocket6(design,'Q3', options = dict(\n",
    "        pos_x='-3mm', \n",
    "        pos_y='0.5mm', \n",
    "        gds_cell_name ='FakeJunction_01',\n",
    "        hfss_inductance ='14nH',\n",
    "        connection_pads = dict(\n",
    "            bus_03 = dict(loc_W=0, loc_H=-1, pad_width = '80um', pad_gap = '15um'),\n",
    "            bus_q3_q4 = dict(loc_W=1, loc_H=-1, pad_width = '80um', pad_gap = '15um'),\n",
    "            readout = dict(loc_W=0, loc_H=1, pad_width = '80um', pad_gap = '50um'))))\n",
    "\n",
    "Q4 = TransmonPocket6(design,'Q4', options = dict(\n",
    "        pos_x='0mm', \n",
    "        pos_y='1mm', \n",
    "        gds_cell_name ='FakeJunction_01',\n",
    "        hfss_inductance ='14nH',\n",
    "        connection_pads = dict(\n",
    "            bus_04 = dict(loc_W=0, loc_H=-1, pad_width = '80um', pad_gap = '15um'),\n",
    "            bus_q3_q4 = dict(loc_W=-1, loc_H=-1, pad_width = '80um', pad_gap = '15um'),\n",
    "            bus_q4_q5 = dict(loc_W=1, loc_H=-1, pad_width = '80um', pad_gap = '15um'),\n",
    "            readout = dict(loc_W=0, loc_H=1, pad_width = '80um', pad_gap = '50um'))))\n",
    "\n",
    "Q5 = TransmonPocket6(design,'Q5', options = dict(\n",
    "        pos_x='3mm', \n",
    "        pos_y='0.5mm', \n",
    "        gds_cell_name ='FakeJunction_01',\n",
    "        hfss_inductance ='14nH',\n",
    "        connection_pads = dict(\n",
    "            bus_05 = dict(loc_W=0, loc_H=-1, pad_width = '80um', pad_gap = '15um'),\n",
    "            bus_q4_q5 = dict(loc_W=-1, loc_H=-1, pad_width = '80um', pad_gap = '15um'),\n",
    "            readout = dict(loc_W=0, loc_H=1, pad_width = '80um', pad_gap = '50um'))))"
   ]
  },
  {
   "cell_type": "markdown",
   "metadata": {},
   "source": [
    "#### The Busses"
   ]
  },
  {
   "cell_type": "markdown",
   "metadata": {},
   "source": [
    "We now couple the qubits to each other, primarily using RouteMeander. Although one needs to run simulations to properly tune the line lengths for target frequencies, an initial estimate could be determined from the below method;"
   ]
  },
  {
   "cell_type": "code",
   "execution_count": 12,
   "metadata": {},
   "outputs": [],
   "source": [
    "from qiskit_metal.analyses.em.cpw_calculations import guided_wavelength\n",
    "\n",
    "def find_resonator_length(frequency, line_width, line_gap, N): \n",
    "    #frequency in GHz\n",
    "    #line_width/line_gap in um\n",
    "    #N -> 2 for lambda/2, 4 for lambda/4\n",
    "    \n",
    "    [lambdaG, etfSqrt, q] = guided_wavelength(frequency*10**9, line_width*10**-6,\n",
    "                                              line_gap*10**-6, 750*10**-6, 200*10**-9)\n",
    "    return str(lambdaG/N*10**3)+\" mm\""
   ]
  },
  {
   "cell_type": "markdown",
   "metadata": {},
   "source": [
    "As we are not worried about a creating a functional chip in this tutorial, we will give the resonators somewhat arbitraty lengths. First coupling the two crossmons to Q_Main."
   ]
  },
  {
   "cell_type": "code",
   "execution_count": 13,
   "metadata": {},
   "outputs": [],
   "source": [
    "bus_01 = RouteMeander(design,'Bus_01', options = dict(hfss_wire_bonds = True, \n",
    "                                            pin_inputs=Dict(\n",
    "                                                start_pin=Dict(\n",
    "                                                    component='Q_Main',\n",
    "                                                    pin='bus_01'),\n",
    "                                                end_pin=Dict(\n",
    "                                                    component='Q1',\n",
    "                                                    pin='bus_01')\n",
    "                                            ),\n",
    "                                            lead=Dict(\n",
    "                                                start_straight='125um',\n",
    "                                                end_straight = '225um'\n",
    "                                            ),\n",
    "                                            meander=Dict(\n",
    "                                                asymmetry = '1305um'),\n",
    "                                            fillet = \"99um\",\n",
    "                                            total_length = '6mm'))\n",
    "\n",
    "bus_02 = RouteMeander(design,'Bus_02', options = dict(hfss_wire_bonds = True, \n",
    "                                            pin_inputs=Dict(\n",
    "                                                start_pin=Dict(\n",
    "                                                    component='Q_Main',\n",
    "                                                    pin='bus_02'),\n",
    "                                                end_pin=Dict(\n",
    "                                                    component='Q2',\n",
    "                                                    pin='bus_02')\n",
    "                                            ),\n",
    "                                            lead=Dict(\n",
    "                                                start_straight='325um',\n",
    "                                                end_straight = '125um'\n",
    "                                            ),\n",
    "                                            meander=Dict(\n",
    "                                                asymmetry = '450um'),\n",
    "                                            fillet = \"99um\",\n",
    "                                            total_length = '6.4mm'))\n",
    "\n",
    "\n",
    "gui.rebuild()"
   ]
  },
  {
   "cell_type": "markdown",
   "metadata": {},
   "source": [
    "Then the three transmon pockets on the north side to Q_Main."
   ]
  },
  {
   "cell_type": "code",
   "execution_count": 14,
   "metadata": {},
   "outputs": [],
   "source": [
    "bus_03 = RouteMeander(design,'Bus_03', options = dict(hfss_wire_bonds = True, \n",
    "                                            pin_inputs=Dict(\n",
    "                                                start_pin=Dict(\n",
    "                                                    component='Q_Main',\n",
    "                                                    pin='bus_03'),\n",
    "                                                end_pin=Dict(\n",
    "                                                    component='Q3',\n",
    "                                                    pin='bus_03')\n",
    "                                            ),\n",
    "                                            lead=Dict(\n",
    "                                                start_straight='225um',\n",
    "                                                end_straight = '25um'\n",
    "                                            ),\n",
    "                                            meander=Dict(\n",
    "                                                asymmetry = '50um'),\n",
    "                                            fillet = \"99um\",\n",
    "                                            total_length = '6.8mm'))\n",
    "\n",
    "#To help set the right spacing, jogs can be used to set some initially controlled routing paths\n",
    "from collections import OrderedDict\n",
    "jogs_start = OrderedDict()\n",
    "jogs_start[0] = [\"L\", '250um']\n",
    "jogs_start[1] = [\"R\", '200um']\n",
    "#jogs_start[2] = [\"L\", '200um']\n",
    "\n",
    "jogs_end = OrderedDict()\n",
    "jogs_end[0] = [\"L\", '600um']\n",
    "#jogs_end[1] = [\"L\", '800um']\n",
    "\n",
    "bus_04 = RouteMeander(design,'Bus_04', options = dict(hfss_wire_bonds = True, \n",
    "                                            pin_inputs=Dict(\n",
    "                                                start_pin=Dict(\n",
    "                                                    component='Q_Main',\n",
    "                                                    pin='bus_04'),\n",
    "                                                end_pin=Dict(\n",
    "                                                    component='Q4',\n",
    "                                                    pin='bus_04')\n",
    "                                            ),\n",
    "                                            lead=Dict(\n",
    "                                                start_straight='225um',\n",
    "                                                #end_straight = '25um',\n",
    "                                                start_jogged_extension=jogs_start,\n",
    "                                                #end_jogged_extension = jogs_end\n",
    "                                            ),\n",
    "                                            meander=Dict(\n",
    "                                                asymmetry = '150um'),\n",
    "                                            fillet = \"99um\",\n",
    "                                            total_length = '7.2mm'))\n",
    "\n",
    "bus_05 = RouteMeander(design,'Bus_05', options = dict(hfss_wire_bonds = True, \n",
    "                                            pin_inputs=Dict(\n",
    "                                                start_pin=Dict(\n",
    "                                                    component='Q_Main',\n",
    "                                                    pin='bus_05'),\n",
    "                                                end_pin=Dict(\n",
    "                                                    component='Q5',\n",
    "                                                    pin='bus_05')\n",
    "                                            ),\n",
    "                                            lead=Dict(\n",
    "                                                start_straight='225um',\n",
    "                                                end_straight = '25um'\n",
    "                                            ),\n",
    "                                            meander=Dict(\n",
    "                                                asymmetry = '50um'),\n",
    "                                            fillet = \"99um\",\n",
    "                                            total_length = '7.6mm'))\n",
    "\n",
    "gui.rebuild()"
   ]
  },
  {
   "cell_type": "markdown",
   "metadata": {},
   "source": [
    "Finally the three transmon pockets on the north side to each other. This concludes the interconnectivity between the qubits."
   ]
  },
  {
   "cell_type": "code",
   "execution_count": 15,
   "metadata": {},
   "outputs": [],
   "source": [
    "bus_q3_q4 = RouteMeander(design,'Bus_Q3_Q4', options = dict(hfss_wire_bonds = True, \n",
    "                                            pin_inputs=Dict(\n",
    "                                                start_pin=Dict(\n",
    "                                                    component='Q3',\n",
    "                                                    pin='bus_q3_q4'),\n",
    "                                                end_pin=Dict(\n",
    "                                                    component='Q4',\n",
    "                                                    pin='bus_q3_q4')\n",
    "                                            ),\n",
    "                                            lead=Dict(\n",
    "                                                start_straight='125um',\n",
    "                                                end_straight = '125um'\n",
    "                                            ),\n",
    "                                            meander=Dict(\n",
    "                                                asymmetry = '50um'),\n",
    "                                            fillet = \"99um\",\n",
    "                                            total_length = '6.4mm'))\n",
    "\n",
    "bus_q4_q5 = RouteMeander(design,'Bus_Q4_Q5', options = dict(hfss_wire_bonds = True, \n",
    "                                            pin_inputs=Dict(\n",
    "                                                start_pin=Dict(\n",
    "                                                    component='Q4',\n",
    "                                                    pin='bus_q4_q5'),\n",
    "                                                end_pin=Dict(\n",
    "                                                    component='Q5',\n",
    "                                                    pin='bus_q4_q5')\n",
    "                                            ),\n",
    "                                            lead=Dict(\n",
    "                                                start_straight='125um',\n",
    "                                                end_straight = '25um'\n",
    "                                            ),\n",
    "                                            meander=Dict(\n",
    "                                                asymmetry = '50um'),\n",
    "                                            fillet = \"99um\",\n",
    "                                            total_length = '6.8mm'))\n",
    "\n",
    "gui.rebuild()"
   ]
  },
  {
   "cell_type": "markdown",
   "metadata": {},
   "source": [
    "#### The Readouts and Control Lines\n",
    "\n",
    "The intention for this design is to have the three north transmon pockets be multiplexed to one readout line. The crossmons to their own readouts, as well as Q_Main. The tunable coupler, and the two crossmons also have flux lines which need to be connected to launchers.\n",
    "First we will place the wirebond launchers at the edges of the chip."
   ]
  },
  {
   "cell_type": "code",
   "execution_count": 16,
   "metadata": {},
   "outputs": [],
   "source": [
    "launch_qmain_read = LaunchpadWirebond(design, 'Launch_QMain_Read', options = dict(pos_x = '2mm', pos_y ='-4mm', orientation = '90'))\n",
    "\n",
    "launch_q1_fl = LaunchpadWirebond(design, 'Launch_Q1_FL', options = dict(pos_x = '0mm', pos_y ='-4mm', orientation = '90', \n",
    "                                                                        trace_width = '5um',\n",
    "                                                                        trace_gap = '3um',))\n",
    "launch_q1_read = LaunchpadWirebondCoupled(design, 'Launch_Q1_Read', options = dict(pos_x = '-2mm', pos_y ='-4mm', orientation = '90'))\n",
    "\n",
    "launch_tcoup_fl = LaunchpadWirebond(design, 'Launch_TuneC_FL', options = dict(pos_x = '-4mm', pos_y ='-4mm', orientation = '90',\n",
    "                                                                             trace_width = '5um',\n",
    "                                                                             trace_gap = '3um',))\n",
    "launch_tcoup_read = LaunchpadWirebondCoupled(design, 'Launch_TuneC_Read', options = dict(pos_x = '-5mm', pos_y ='-3mm', orientation = '0'))\n",
    "\n",
    "launch_q2_read = LaunchpadWirebondCoupled(design, 'Launch_Q2_Read', options = dict(pos_x = '-5mm', pos_y ='-1mm', orientation = '0'))\n",
    "launch_q2_fl = LaunchpadWirebond(design, 'Launch_Q2_FL', options = dict(pos_x = '-5mm', pos_y ='1mm', orientation = '0',\n",
    "                                                                       trace_width = '5um',\n",
    "                                                                        trace_gap = '3um',))\n",
    "\n",
    "launch_nw = LaunchpadWirebond(design, 'Launch_NW',options = dict(pos_x = '-5mm', pos_y='3mm', orientation=0))\n",
    "launch_ne = LaunchpadWirebond(design, 'Launch_NE',options = dict(pos_x = '5mm', pos_y='3mm', orientation=180))\n",
    "\n",
    "\n",
    "gui.rebuild()"
   ]
  },
  {
   "cell_type": "markdown",
   "metadata": {},
   "source": [
    "We then will add in the readout resonators for Q_Main, Q1, Q2 and the tuneable coupler.\n",
    "We will add a finger capacitor for the Q_Main readout, instead of just using the LaunchpadWirebondCoupled."
   ]
  },
  {
   "cell_type": "code",
   "execution_count": 17,
   "metadata": {},
   "outputs": [],
   "source": [
    "#Main Readout\n",
    "\n",
    "\n",
    "read_q_main_cap = CapNInterdigital(design,'Read_Q_Main_Cap', options = dict(pos_x = '2mm', pos_y ='-3.5mm', orientation = '0'))\n",
    "\n",
    "jogs_end = OrderedDict()\n",
    "jogs_end[0] = [\"L\", '600um']\n",
    "\n",
    "jogs_start = OrderedDict()\n",
    "jogs_start[0] = [\"L\", '250um']\n",
    "\n",
    "read_q_main = RouteMeander(design,'Read_Q_Main', options = dict(hfss_wire_bonds = True, \n",
    "                                            pin_inputs=Dict(\n",
    "                                                start_pin=Dict(\n",
    "                                                    component='Q_Main',\n",
    "                                                    pin='readout'),\n",
    "                                                end_pin=Dict(\n",
    "                                                    component='Read_Q_Main_Cap',\n",
    "                                                    pin='north_end')\n",
    "                                            ),\n",
    "                                            lead=Dict(\n",
    "                                                start_straight='725um',\n",
    "                                                end_straight = '625um',\n",
    "                                                start_jogged_extension = jogs_start,\n",
    "                                                end_jogged_extension = jogs_end\n",
    "                                            ),\n",
    "                                            meander=Dict(\n",
    "                                                asymmetry = '50um'),\n",
    "                                            fillet = \"99um\",\n",
    "                                            total_length = '5.6mm'))\n",
    "\n",
    "read_q_main_cap_launch = RoutePathfinder(design, 'Read_Q_Main_Cap_Launch', options = dict(hfss_wire_bonds = True,\n",
    "                                                    pin_inputs = dict(\n",
    "                                                        start_pin=Dict(\n",
    "                                                    component='Read_Q_Main_Cap',\n",
    "                                                    pin='south_end'),\n",
    "                                                end_pin=Dict(\n",
    "                                                    component='Launch_QMain_Read',\n",
    "                                                    pin='tie')),\n",
    "                                                lead=Dict(\n",
    "                                                start_straight='0um',\n",
    "                                                end_straight = '0um',\n",
    "                                                #start_jogged_extension = jogs_start,\n",
    "                                                #end_jogged_extension = jogs_end\n",
    "                                            )))\n",
    "    \n",
    "\n",
    "\n",
    "gui.rebuild()"
   ]
  },
  {
   "cell_type": "code",
   "execution_count": 18,
   "metadata": {},
   "outputs": [],
   "source": [
    "#Crossmon's Readouts\n",
    "\n",
    "jogs_end = OrderedDict()\n",
    "jogs_end[0] = [\"L\", '600um']\n",
    "\n",
    "jogs_start = OrderedDict()\n",
    "jogs_start[0] = [\"L\", '250um']\n",
    "\n",
    "read_q1 = RouteMeander(design,'Read_Q1', options = dict(hfss_wire_bonds = True, \n",
    "                                            pin_inputs=Dict(\n",
    "                                                start_pin=Dict(\n",
    "                                                    component='Q1',\n",
    "                                                    pin='readout'),\n",
    "                                                end_pin=Dict(\n",
    "                                                    component='Launch_Q1_Read',\n",
    "                                                    pin='tie')\n",
    "                                            ),\n",
    "                                            lead=Dict(\n",
    "                                                start_straight='250um',\n",
    "                                                end_straight = '25um',\n",
    "                                                #start_jogged_extension = jogs_start,\n",
    "                                                #end_jogged_extension = jogs_end\n",
    "                                            ),\n",
    "                                            meander=Dict(\n",
    "                                                asymmetry = '50um'),\n",
    "                                            fillet = \"99um\",\n",
    "                                            total_length = '6.8mm'))\n",
    "\n",
    "\n",
    "jogs_end = OrderedDict()\n",
    "jogs_end[0] = [\"L\", '600um']\n",
    "\n",
    "jogs_start = OrderedDict()\n",
    "jogs_start[0] = [\"L\", '250um']\n",
    "\n",
    "read_tunec = RouteMeander(design,'Read_TuneC', options = dict(hfss_wire_bonds = True, \n",
    "                                            pin_inputs=Dict(\n",
    "                                                start_pin=Dict(\n",
    "                                                    component='Tune_C_Q12',\n",
    "                                                    pin='Control'),\n",
    "                                                end_pin=Dict(\n",
    "                                                    component='Launch_TuneC_Read',\n",
    "                                                    pin='tie')\n",
    "                                            ),\n",
    "                                            lead=Dict(\n",
    "                                                start_straight='1525um',\n",
    "                                                end_straight = '125um',\n",
    "                                                #start_jogged_extension = jogs_start,\n",
    "                                                #end_jogged_extension = jogs_end\n",
    "                                            ),\n",
    "                                            meander=Dict(\n",
    "                                                asymmetry = '50um'),\n",
    "                                            fillet = \"99um\",\n",
    "                                            total_length = '5.8mm'))\n",
    "\n",
    "jogs_end = OrderedDict()\n",
    "jogs_end[0] = [\"L\", '600um']\n",
    "\n",
    "jogs_start = OrderedDict()\n",
    "jogs_start[0] = [\"L\", '250um']\n",
    "\n",
    "\n",
    "\n",
    "read_q2 = RouteMeander(design,'Read_Q2', options = dict(hfss_wire_bonds = True, \n",
    "                                            pin_inputs=Dict(\n",
    "                                                start_pin=Dict(\n",
    "                                                    component='Q2',\n",
    "                                                    pin='readout'),\n",
    "                                                end_pin=Dict(\n",
    "                                                    component='Launch_Q2_Read',\n",
    "                                                    pin='tie')\n",
    "                                            ),\n",
    "                                            lead=Dict(\n",
    "                                                start_straight='350um',\n",
    "                                                end_straight = '0um',\n",
    "                                                #start_jogged_extension = jogs_start,\n",
    "                                                #end_jogged_extension = jogs_end\n",
    "                                            ),\n",
    "                                            meander=Dict(\n",
    "                                                asymmetry = '-450um'),\n",
    "                                            fillet = \"99um\",\n",
    "                                            total_length = '5.4mm'))\n",
    "\n",
    "\n",
    "gui.rebuild()"
   ]
  },
  {
   "cell_type": "markdown",
   "metadata": {},
   "source": [
    "Finishing off this section of the chip by connecting the flux lines to appropraite wirebond launch pads."
   ]
  },
  {
   "cell_type": "code",
   "execution_count": 19,
   "metadata": {},
   "outputs": [],
   "source": [
    "#Crossmon flux lines\n",
    "\n",
    "flux_line_Q1 = RoutePathfinder(design,'Flux_Line_Q1', options = dict(hfss_wire_bonds = True,\n",
    "                                            pin_inputs=Dict(\n",
    "                                                start_pin=Dict(\n",
    "                                                    component='Q1',\n",
    "                                                    pin='flux_line'),\n",
    "                                                end_pin=Dict(\n",
    "                                                    component='Launch_Q1_FL',\n",
    "                                                    pin='tie')),\n",
    "                                            fillet = '99um',\n",
    "                                            trace_width = '5um',\n",
    "                                            trace_gap = '3um',\n",
    "                                            #anchors = anchors\n",
    "                                            ))\n",
    "\n",
    "\n",
    "jogs_start = OrderedDict()\n",
    "jogs_start[0] = [\"L\", '750um']\n",
    "\n",
    "flux_line_tunec = RoutePathfinder(design,'Flux_Line_TuneC', options = dict(hfss_wire_bonds = True,\n",
    "                                            pin_inputs=Dict(\n",
    "                                                start_pin=Dict(\n",
    "                                                    component='Tune_C_Q12',\n",
    "                                                    pin='Flux'),\n",
    "                                                end_pin=Dict(\n",
    "                                                    component='Launch_TuneC_FL',\n",
    "                                                    pin='tie')),\n",
    "                                            lead=Dict(\n",
    "                                                start_straight='875um',\n",
    "                                                end_straight = '350um',\n",
    "                                                start_jogged_extension = jogs_start,\n",
    "                                                #end_jogged_extension = jogs_end\n",
    "                                            ),\n",
    "                                            fillet = '99um',\n",
    "                                            trace_width = '5um',\n",
    "                                            trace_gap = '3um',\n",
    "                                            #anchors = anchors\n",
    "                                            ))\n",
    "\n",
    "\n",
    "jogs_start = OrderedDict()\n",
    "jogs_start[0] = [\"L\", '525um']\n",
    "jogs_start[1] = [\"R\", '625um']\n",
    "\n",
    "flux_line_Q2 = RoutePathfinder(design,'Flux_Line_Q2', options = dict(hfss_wire_bonds = True,\n",
    "                                            pin_inputs=Dict(\n",
    "                                                start_pin=Dict(\n",
    "                                                    component='Q2',\n",
    "                                                    pin='flux_line'),\n",
    "                                                end_pin=Dict(\n",
    "                                                    component='Launch_Q2_FL',\n",
    "                                                    pin='tie')),\n",
    "                                            lead=Dict(\n",
    "                                                start_straight='175um',\n",
    "                                                end_straight = '150um',\n",
    "                                                start_jogged_extension = jogs_start,\n",
    "                                                #end_jogged_extension = jogs_end\n",
    "                                            ),\n",
    "                                            fillet = '99um',\n",
    "                                            trace_width = '5um',\n",
    "                                            trace_gap = '3um',\n",
    "                                            #anchors = anchors\n",
    "                                            ))\n",
    "\n",
    "gui.rebuild()"
   ]
  },
  {
   "cell_type": "markdown",
   "metadata": {},
   "source": [
    "Shifting our focus now to the three transmon pockets in the north. As we want these to be multiplexed to a single readout line, we will add in a few three port components, such as the CoupledLineTee and CapNInterdigitalTee.\n",
    "Q3 will have an inductive coupling to the readout line (as we want a lambda/4 resonator), Q4 will have a simple gap capacitor, and Q5 will have an interdigitated capacitor."
   ]
  },
  {
   "cell_type": "code",
   "execution_count": 20,
   "metadata": {},
   "outputs": [],
   "source": [
    "q3_read_T = CoupledLineTee(design,'Q3_Read_T', options=dict(pos_x = '-3mm', pos_y = '3mm', \n",
    "                                                        orientation = '0', \n",
    "                                                        coupling_length = '200um',\n",
    "                                                        open_termination = False))\n",
    "#We use finger count to set the width of the gap capacitance, -> N*cap_width + (N-1)*cap_gap\n",
    "q4_read_T = CapNInterdigitalTee(design,'Q4_Read_T', options=dict(pos_x = '0mm', pos_y = '3mm', \n",
    "                                                           orientation = '0', \n",
    "                                                           finger_length = '0um', \n",
    "                                                           finger_count = '8'))\n",
    "q5_read_T = CapNInterdigitalTee(design,'Q5_Read_T', options=dict(pos_x = '3mm', pos_y = '3mm', \n",
    "                                                           orientation = '0', \n",
    "                                                           finger_length = '50um', \n",
    "                                                           finger_count = '11'))\n",
    "\n",
    "gui.rebuild()"
   ]
  },
  {
   "cell_type": "markdown",
   "metadata": {},
   "source": [
    "We add in the readout resonators to each respective qubit."
   ]
  },
  {
   "cell_type": "code",
   "execution_count": 21,
   "metadata": {},
   "outputs": [],
   "source": [
    "read_q3 = RouteMeander(design,'Read_Q3', options = dict(hfss_wire_bonds = True, \n",
    "                                            pin_inputs=Dict(\n",
    "                                                start_pin=Dict(\n",
    "                                                    component='Q3',\n",
    "                                                    pin='readout'),\n",
    "                                                end_pin=Dict(\n",
    "                                                    component='Q3_Read_T',\n",
    "                                                    pin='second_end')\n",
    "                                            ),\n",
    "                                            lead=Dict(\n",
    "                                                start_straight='150um',\n",
    "                                                end_straight = '150um',\n",
    "                                                #start_jogged_extension = jogs_start,\n",
    "                                                #end_jogged_extension = jogs_end\n",
    "                                            ),\n",
    "                                            meander=Dict(\n",
    "                                                asymmetry = '0um'),\n",
    "                                            fillet = \"99um\",\n",
    "                                            total_length = '5mm'))\n",
    "\n",
    "read_q4 = RouteMeander(design,'Read_Q4', options = dict(hfss_wire_bonds = True, \n",
    "                                            pin_inputs=Dict(\n",
    "                                                start_pin=Dict(\n",
    "                                                    component='Q4',\n",
    "                                                    pin='readout'),\n",
    "                                                end_pin=Dict(\n",
    "                                                    component='Q4_Read_T',\n",
    "                                                    pin='second_end')\n",
    "                                            ),\n",
    "                                            lead=Dict(\n",
    "                                                start_straight='125um',\n",
    "                                                end_straight = '125um',\n",
    "                                                #start_jogged_extension = jogs_start,\n",
    "                                                #end_jogged_extension = jogs_end\n",
    "                                            ),\n",
    "                                            meander=Dict(\n",
    "                                                asymmetry = '0um'),\n",
    "                                            fillet = \"99um\",\n",
    "                                            total_length = '5.8mm'))\n",
    "\n",
    "read_q5 = RouteMeander(design,'Read_Q5', options = dict(hfss_wire_bonds = True, \n",
    "                                            pin_inputs=Dict(\n",
    "                                                start_pin=Dict(\n",
    "                                                    component='Q5',\n",
    "                                                    pin='readout'),\n",
    "                                                end_pin=Dict(\n",
    "                                                    component='Q5_Read_T',\n",
    "                                                    pin='second_end')\n",
    "                                            ),\n",
    "                                            lead=Dict(\n",
    "                                                start_straight='125um',\n",
    "                                                end_straight = '125um',\n",
    "                                                #start_jogged_extension = jogs_start,\n",
    "                                                #end_jogged_extension = jogs_end\n",
    "                                            ),\n",
    "                                            meander=Dict(\n",
    "                                                asymmetry = '0um'),\n",
    "                                            fillet = \"99um\",\n",
    "                                            total_length = '5.4mm'))\n",
    "\n",
    "gui.rebuild()"
   ]
  },
  {
   "cell_type": "markdown",
   "metadata": {},
   "source": [
    "We complete the layout by connecting the multiplexed readout line to the launchpads on either side of the chip."
   ]
  },
  {
   "cell_type": "code",
   "execution_count": 22,
   "metadata": {
    "tags": [
     "nbsphinx-thumbnail"
    ]
   },
   "outputs": [
    {
     "data": {
      "image/png": "[encoded data removed]",
      "text/plain": [
       "<IPython.core.display.Image object>"
      ]
     },
     "metadata": {
      "image/png": {
       "width": 500
      }
     },
     "output_type": "display_data"
    }
   ],
   "source": [
    "mp_tl_01 = RoutePathfinder(design, 'ML_TL_01', options = dict(hfss_wire_bonds = True,\n",
    "                                                    pin_inputs = dict(\n",
    "                                                    start_pin=Dict(\n",
    "                                                        component='Launch_NW',\n",
    "                                                        pin='tie'),\n",
    "                                                    end_pin=Dict(\n",
    "                                                        component='Q3_Read_T',\n",
    "                                                        pin='prime_start'))\n",
    "                                            ))\n",
    "\n",
    "mp_tl_02 = RoutePathfinder(design, 'ML_TL_02', options = dict(hfss_wire_bonds = True,\n",
    "                                                    pin_inputs = dict(\n",
    "                                                    start_pin=Dict(\n",
    "                                                        component='Q3_Read_T',\n",
    "                                                        pin='prime_end'),\n",
    "                                                    end_pin=Dict(\n",
    "                                                        component='Q4_Read_T',\n",
    "                                                        pin='prime_start'))\n",
    "                                            ))\n",
    "\n",
    "mp_tl_03 = RoutePathfinder(design, 'ML_TL_03', options = dict(hfss_wire_bonds = True,\n",
    "                                                    pin_inputs = dict(\n",
    "                                                    start_pin=Dict(\n",
    "                                                        component='Q4_Read_T',\n",
    "                                                        pin='prime_end'),\n",
    "                                                    end_pin=Dict(\n",
    "                                                        component='Q5_Read_T',\n",
    "                                                        pin='prime_start'))\n",
    "                                            ))\n",
    "\n",
    "mp_tl_04 = RoutePathfinder(design, 'ML_TL_04', options = dict(hfss_wire_bonds = True,\n",
    "                                                    pin_inputs = dict(\n",
    "                                                    start_pin=Dict(\n",
    "                                                        component='Q5_Read_T',\n",
    "                                                        pin='prime_end'),\n",
    "                                                    end_pin=Dict(\n",
    "                                                        component='Launch_NE',\n",
    "                                                        pin='tie'))\n",
    "                                            ))\n",
    "\n",
    "gui.rebuild()\n",
    "gui.autoscale()\n",
    "gui.screenshot()"
   ]
  },
  {
   "cell_type": "markdown",
   "metadata": {},
   "source": [
    "With this, we have completed the construction of our layout. \n",
    "\n",
    "Now, anyone familiar with chip design might find some of the location choices to be sub-optimal, with large sections of your chip left unused, or perhaps some CPW transmission lines running a bit closer to each other than would be ideal for avoiding cross talk concerns. These could be address by shifting the origin of your chip, or modifying component options to better compact your layout and alleviate crosstalk concerns.\n",
    "\n",
    "For this tutorial, we aren't too concerned how much space we may use up on our fictional chip, so we will instead continue on to analysis and tuning."
   ]
  },
  {
   "cell_type": "markdown",
   "metadata": {},
   "source": [
    "# Analyze\n",
    "## Capacitance Extraction and LOM"
   ]
  },
  {
   "cell_type": "markdown",
   "metadata": {},
   "source": [
    "First we want to quickly look at the qubit parameters. Initial simulation and analysis is to use a lumped element approximation, by extracting the capacitance matrix of the qubit. We first render the qubit (we will focus on Q_Main for all of these simulations), by rendering it into Ansys Q3D and then using LOM analysis on the resulting capacitance matrix."
   ]
  },
  {
   "cell_type": "code",
   "execution_count": 23,
   "metadata": {},
   "outputs": [],
   "source": [
    "q_main_q3d = design.renderers.q3d"
   ]
  },
  {
   "cell_type": "markdown",
   "metadata": {},
   "source": [
    "We can check if we wish to change any of the default options for the renderer instance. For now we will leave them as is."
   ]
  },
  {
   "cell_type": "code",
   "execution_count": 24,
   "metadata": {
    "scrolled": true
   },
   "outputs": [
    {
     "data": {
      "text/plain": [
       "{'Lj': '10nH',\n",
       " 'Cj': 0,\n",
       " '_Rj': 0,\n",
       " 'max_mesh_length_jj': '7um',\n",
       " 'project_path': None,\n",
       " 'project_name': None,\n",
       " 'design_name': None,\n",
       " 'ansys_file_extension': '.aedt',\n",
       " 'x_buffer_width_mm': 0.2,\n",
       " 'y_buffer_width_mm': 0.2,\n",
       " 'wb_threshold': '400um',\n",
       " 'wb_offset': '0um',\n",
       " 'wb_size': 5,\n",
       " 'plot_ansys_fields_options': {'name': 'NAME:Mag_E1',\n",
       "  'UserSpecifyName': '0',\n",
       "  'UserSpecifyFolder': '0',\n",
       "  'QuantityName': 'Mag_E',\n",
       "  'PlotFolder': 'E Field',\n",
       "  'StreamlinePlot': 'False',\n",
       "  'AdjacentSidePlot': 'False',\n",
       "  'FullModelPlot': 'False',\n",
       "  'IntrinsicVar': \"Phase='0deg'\",\n",
       "  'PlotGeomInfo_0': '1',\n",
       "  'PlotGeomInfo_1': 'Surface',\n",
       "  'PlotGeomInfo_2': 'FacesList',\n",
       "  'PlotGeomInfo_3': '1'}}"
      ]
     },
     "execution_count": 24,
     "metadata": {},
     "output_type": "execute_result"
    }
   ],
   "source": [
    "q_main_q3d.options"
   ]
  },
  {
   "cell_type": "code",
   "execution_count": 25,
   "metadata": {},
   "outputs": [],
   "source": [
    "# If Ansys is not already open, uncomment the line below to open Ansys or you can open it manually\n",
    "q_main_q3d.open_ansys()\n",
    "\n",
    "#! Important! Make sure Ansys is fully opened and you have, if necessary, clicked ‘close’ \n",
    "#in the Ansys pop up box before running further cells! "
   ]
  },
  {
   "cell_type": "code",
   "execution_count": 26,
   "metadata": {},
   "outputs": [],
   "source": [
    "#If you open Ansys manually, uncomment the code below to add a project.\n",
    "#q_main_q3d.new_ansys_project()"
   ]
  },
  {
   "cell_type": "code",
   "execution_count": 27,
   "metadata": {},
   "outputs": [
    {
     "name": "stderr",
     "output_type": "stream",
     "text": [
      "INFO 02:22PM [connect_project]: Connecting to Ansys Desktop API...\n",
      "INFO 02:22PM [load_ansys_project]: \tOpened Ansys App\n",
      "INFO 02:22PM [load_ansys_project]: \tOpened Ansys Desktop v2020.2.0\n",
      "INFO 02:22PM [load_ansys_project]: \tOpened Ansys Project\n",
      "\tFolder:    C:/Ansoft/\n",
      "\tProject:   Project10\n",
      "INFO 02:22PM [connect_design]: No active design found (or error getting active design).\n",
      "INFO 02:22PM [connect]: \t Connected to project \"Project10\". No design detected\n"
     ]
    }
   ],
   "source": [
    "q_main_q3d.connect_ansys()"
   ]
  },
  {
   "cell_type": "markdown",
   "metadata": {},
   "source": [
    "We next add a design and a setup. The setup options are important to modify dependent on the simulation you are running. You should modify the number of passes and convergence based on the accuracy you require for your simulation."
   ]
  },
  {
   "cell_type": "code",
   "execution_count": 28,
   "metadata": {},
   "outputs": [
    {
     "name": "stderr",
     "output_type": "stream",
     "text": [
      "02:22PM 03s WARNING [activate_q3d_design]: The name=Q_Main was not in active project.  A new design will be inserted to the project.  Names in active project are: \n",
      "[].  \n",
      "INFO 02:22PM [connect_design]: \tOpened active design\n",
      "\tDesign:    Q_Main [Solution type: Q3D]\n",
      "WARNING 02:22PM [connect_setup]: \tNo design setup detected.\n",
      "WARNING 02:22PM [connect_setup]: \tCreating Q3D default setup.\n",
      "INFO 02:22PM [get_setup]: \tOpened setup `Setup`  (<class 'pyEPR.ansys.AnsysQ3DSetup'>)\n",
      "INFO 02:22PM [get_setup]: \tOpened setup `Tune_Q_Main`  (<class 'pyEPR.ansys.AnsysQ3DSetup'>)\n"
     ]
    }
   ],
   "source": [
    "q_main_q3d.activate_q3d_design(\"Q_Main\")\n",
    "q_main_q3d.add_q3d_setup(name = 'Tune_Q_Main', max_passes = 21, min_converged_passes = 2, percent_error = 0.05)\n",
    "q_main_q3d.activate_q3d_setup('Tune_Q_Main')"
   ]
  },
  {
   "cell_type": "markdown",
   "metadata": {},
   "source": [
    "Next we will want to render Q_Main. As we are wanting the complete capacitance matrix from this simulation, we will want to be sure to terminate the unconnected pins of Q_Main with opens, so that they are separate charge islands in the simulation. If not recalling all of the pin names, one can look at the GUI, or check the pin dictionary attached to Q_Main."
   ]
  },
  {
   "cell_type": "code",
   "execution_count": 29,
   "metadata": {},
   "outputs": [
    {
     "data": {
      "text/plain": [
       "dict_keys(['readout', 'bus_01', 'bus_02', 'bus_03', 'bus_04', 'bus_05'])"
      ]
     },
     "execution_count": 29,
     "metadata": {},
     "output_type": "execute_result"
    }
   ],
   "source": [
    "q_main.pins.keys()"
   ]
  },
  {
   "cell_type": "code",
   "execution_count": 30,
   "metadata": {},
   "outputs": [],
   "source": [
    "q_main_q3d.render_design(['Q_Main'], [('Q_Main', 'readout'), ('Q_Main', 'bus_01'),('Q_Main', 'bus_02'),('Q_Main', 'bus_03'),\n",
    "                                      ('Q_Main', 'bus_04'), ('Q_Main', 'bus_05')])"
   ]
  },
  {
   "cell_type": "markdown",
   "metadata": {},
   "source": [
    "With it having been rendered, we now start the simulation. Depending on the complexity of the simulation, it could take a minute, or multiple hours. It is generally best to start with a small number of `max_passes` if you are unsure, so can get a sense on the timing. As each adaptive pass adds additional tetrahedrons, the simulation time per pass will increase significantly (as well as the amount of system memory necessary)."
   ]
  },
  {
   "cell_type": "code",
   "execution_count": 31,
   "metadata": {},
   "outputs": [
    {
     "name": "stderr",
     "output_type": "stream",
     "text": [
      "INFO 02:22PM [get_setup]: \tOpened setup `Tune_Q_Main`  (<class 'pyEPR.ansys.AnsysQ3DSetup'>)\n",
      "INFO 02:22PM [analyze]: Analyzing setup Tune_Q_Main\n"
     ]
    }
   ],
   "source": [
    "q_main_q3d.analyze_setup('Tune_Q_Main')"
   ]
  },
  {
   "cell_type": "markdown",
   "metadata": {},
   "source": [
    "With the simulation completed, we can look at the capacitance matrix;"
   ]
  },
  {
   "cell_type": "code",
   "execution_count": 32,
   "metadata": {},
   "outputs": [
    {
     "name": "stderr",
     "output_type": "stream",
     "text": [
      "INFO 02:31PM [get_matrix]: Exporting matrix data to (C:\\Local\\Temp\\tmp3e47_q5v.txt, C, , Tune_Q_Main:LastAdaptive, \"Original\", \"ohm\", \"nH\", \"fF\", \"mSie\", 5000000000, Maxwell, 3, False\n"
     ]
    },
    {
     "data": {
      "text/html": [
       "<div>\n",
       "<style scoped>\n",
       "    .dataframe tbody tr th:only-of-type {\n",
       "        vertical-align: middle;\n",
       "    }\n",
       "\n",
       "    .dataframe tbody tr th {\n",
       "        vertical-align: top;\n",
       "    }\n",
       "\n",
       "    .dataframe thead th {\n",
       "        text-align: right;\n",
       "    }\n",
       "</style>\n",
       "<table border=\"1\" class=\"dataframe\">\n",
       "  <thead>\n",
       "    <tr style=\"text-align: right;\">\n",
       "      <th></th>\n",
       "      <th>bus_01_connector_pad_Q_Main</th>\n",
       "      <th>bus_02_connector_pad_Q_Main</th>\n",
       "      <th>bus_03_connector_pad_Q_Main</th>\n",
       "      <th>bus_04_connector_pad_Q_Main</th>\n",
       "      <th>bus_05_connector_pad_Q_Main</th>\n",
       "      <th>ground_main_plane</th>\n",
       "      <th>pad_bot_Q_Main</th>\n",
       "      <th>pad_top_Q_Main</th>\n",
       "      <th>readout_connector_pad_Q_Main</th>\n",
       "    </tr>\n",
       "  </thead>\n",
       "  <tbody>\n",
       "    <tr>\n",
       "      <th>bus_01_connector_pad_Q_Main</th>\n",
       "      <td>41.16052</td>\n",
       "      <td>-0.24033</td>\n",
       "      <td>-0.11739</td>\n",
       "      <td>-0.04493</td>\n",
       "      <td>-0.07880</td>\n",
       "      <td>-29.11802</td>\n",
       "      <td>-9.29668</td>\n",
       "      <td>-1.06897</td>\n",
       "      <td>-0.69850</td>\n",
       "    </tr>\n",
       "    <tr>\n",
       "      <th>bus_02_connector_pad_Q_Main</th>\n",
       "      <td>-0.24033</td>\n",
       "      <td>41.15453</td>\n",
       "      <td>-0.76049</td>\n",
       "      <td>-0.07830</td>\n",
       "      <td>-0.04495</td>\n",
       "      <td>-29.10860</td>\n",
       "      <td>-1.07466</td>\n",
       "      <td>-9.24501</td>\n",
       "      <td>-0.10663</td>\n",
       "    </tr>\n",
       "    <tr>\n",
       "      <th>bus_03_connector_pad_Q_Main</th>\n",
       "      <td>-0.11739</td>\n",
       "      <td>-0.76049</td>\n",
       "      <td>45.63132</td>\n",
       "      <td>-0.76050</td>\n",
       "      <td>-0.11735</td>\n",
       "      <td>-32.06838</td>\n",
       "      <td>-1.30959</td>\n",
       "      <td>-9.61810</td>\n",
       "      <td>-0.15805</td>\n",
       "    </tr>\n",
       "    <tr>\n",
       "      <th>bus_04_connector_pad_Q_Main</th>\n",
       "      <td>-0.04493</td>\n",
       "      <td>-0.07830</td>\n",
       "      <td>-0.76050</td>\n",
       "      <td>41.16598</td>\n",
       "      <td>-0.24034</td>\n",
       "      <td>-29.11767</td>\n",
       "      <td>-1.07502</td>\n",
       "      <td>-9.24748</td>\n",
       "      <td>-0.10665</td>\n",
       "    </tr>\n",
       "    <tr>\n",
       "      <th>bus_05_connector_pad_Q_Main</th>\n",
       "      <td>-0.07880</td>\n",
       "      <td>-0.04495</td>\n",
       "      <td>-0.11735</td>\n",
       "      <td>-0.24034</td>\n",
       "      <td>41.15351</td>\n",
       "      <td>-29.10911</td>\n",
       "      <td>-9.29890</td>\n",
       "      <td>-1.06882</td>\n",
       "      <td>-0.69868</td>\n",
       "    </tr>\n",
       "    <tr>\n",
       "      <th>ground_main_plane</th>\n",
       "      <td>-29.11802</td>\n",
       "      <td>-29.10860</td>\n",
       "      <td>-32.06838</td>\n",
       "      <td>-29.11767</td>\n",
       "      <td>-29.10911</td>\n",
       "      <td>309.07999</td>\n",
       "      <td>-33.31297</td>\n",
       "      <td>-32.77670</td>\n",
       "      <td>-31.59879</td>\n",
       "    </tr>\n",
       "    <tr>\n",
       "      <th>pad_bot_Q_Main</th>\n",
       "      <td>-9.29668</td>\n",
       "      <td>-1.07466</td>\n",
       "      <td>-1.30959</td>\n",
       "      <td>-1.07502</td>\n",
       "      <td>-9.29890</td>\n",
       "      <td>-33.31297</td>\n",
       "      <td>95.89916</td>\n",
       "      <td>-31.29142</td>\n",
       "      <td>-7.06503</td>\n",
       "    </tr>\n",
       "    <tr>\n",
       "      <th>pad_top_Q_Main</th>\n",
       "      <td>-1.06897</td>\n",
       "      <td>-9.24501</td>\n",
       "      <td>-9.61810</td>\n",
       "      <td>-9.24748</td>\n",
       "      <td>-1.06882</td>\n",
       "      <td>-32.77670</td>\n",
       "      <td>-31.29142</td>\n",
       "      <td>97.58786</td>\n",
       "      <td>-1.13268</td>\n",
       "    </tr>\n",
       "    <tr>\n",
       "      <th>readout_connector_pad_Q_Main</th>\n",
       "      <td>-0.69850</td>\n",
       "      <td>-0.10663</td>\n",
       "      <td>-0.15805</td>\n",
       "      <td>-0.10665</td>\n",
       "      <td>-0.69868</td>\n",
       "      <td>-31.59879</td>\n",
       "      <td>-7.06503</td>\n",
       "      <td>-1.13268</td>\n",
       "      <td>42.24689</td>\n",
       "    </tr>\n",
       "  </tbody>\n",
       "</table>\n",
       "</div>"
      ],
      "text/plain": [
       "                              bus_01_connector_pad_Q_Main  \\\n",
       "bus_01_connector_pad_Q_Main                      41.16052   \n",
       "bus_02_connector_pad_Q_Main                      -0.24033   \n",
       "bus_03_connector_pad_Q_Main                      -0.11739   \n",
       "bus_04_connector_pad_Q_Main                      -0.04493   \n",
       "bus_05_connector_pad_Q_Main                      -0.07880   \n",
       "ground_main_plane                               -29.11802   \n",
       "pad_bot_Q_Main                                   -9.29668   \n",
       "pad_top_Q_Main                                   -1.06897   \n",
       "readout_connector_pad_Q_Main                     -0.69850   \n",
       "\n",
       "                              bus_02_connector_pad_Q_Main  \\\n",
       "bus_01_connector_pad_Q_Main                      -0.24033   \n",
       "bus_02_connector_pad_Q_Main                      41.15453   \n",
       "bus_03_connector_pad_Q_Main                      -0.76049   \n",
       "bus_04_connector_pad_Q_Main                      -0.07830   \n",
       "bus_05_connector_pad_Q_Main                      -0.04495   \n",
       "ground_main_plane                               -29.10860   \n",
       "pad_bot_Q_Main                                   -1.07466   \n",
       "pad_top_Q_Main                                   -9.24501   \n",
       "readout_connector_pad_Q_Main                     -0.10663   \n",
       "\n",
       "                              bus_03_connector_pad_Q_Main  \\\n",
       "bus_01_connector_pad_Q_Main                      -0.11739   \n",
       "bus_02_connector_pad_Q_Main                      -0.76049   \n",
       "bus_03_connector_pad_Q_Main                      45.63132   \n",
       "bus_04_connector_pad_Q_Main                      -0.76050   \n",
       "bus_05_connector_pad_Q_Main                      -0.11735   \n",
       "ground_main_plane                               -32.06838   \n",
       "pad_bot_Q_Main                                   -1.30959   \n",
       "pad_top_Q_Main                                   -9.61810   \n",
       "readout_connector_pad_Q_Main                     -0.15805   \n",
       "\n",
       "                              bus_04_connector_pad_Q_Main  \\\n",
       "bus_01_connector_pad_Q_Main                      -0.04493   \n",
       "bus_02_connector_pad_Q_Main                      -0.07830   \n",
       "bus_03_connector_pad_Q_Main                      -0.76050   \n",
       "bus_04_connector_pad_Q_Main                      41.16598   \n",
       "bus_05_connector_pad_Q_Main                      -0.24034   \n",
       "ground_main_plane                               -29.11767   \n",
       "pad_bot_Q_Main                                   -1.07502   \n",
       "pad_top_Q_Main                                   -9.24748   \n",
       "readout_connector_pad_Q_Main                     -0.10665   \n",
       "\n",
       "                              bus_05_connector_pad_Q_Main  ground_main_plane  \\\n",
       "bus_01_connector_pad_Q_Main                      -0.07880          -29.11802   \n",
       "bus_02_connector_pad_Q_Main                      -0.04495          -29.10860   \n",
       "bus_03_connector_pad_Q_Main                      -0.11735          -32.06838   \n",
       "bus_04_connector_pad_Q_Main                      -0.24034          -29.11767   \n",
       "bus_05_connector_pad_Q_Main                      41.15351          -29.10911   \n",
       "ground_main_plane                               -29.10911          309.07999   \n",
       "pad_bot_Q_Main                                   -9.29890          -33.31297   \n",
       "pad_top_Q_Main                                   -1.06882          -32.77670   \n",
       "readout_connector_pad_Q_Main                     -0.69868          -31.59879   \n",
       "\n",
       "                              pad_bot_Q_Main  pad_top_Q_Main  \\\n",
       "bus_01_connector_pad_Q_Main         -9.29668        -1.06897   \n",
       "bus_02_connector_pad_Q_Main         -1.07466        -9.24501   \n",
       "bus_03_connector_pad_Q_Main         -1.30959        -9.61810   \n",
       "bus_04_connector_pad_Q_Main         -1.07502        -9.24748   \n",
       "bus_05_connector_pad_Q_Main         -9.29890        -1.06882   \n",
       "ground_main_plane                  -33.31297       -32.77670   \n",
       "pad_bot_Q_Main                      95.89916       -31.29142   \n",
       "pad_top_Q_Main                     -31.29142        97.58786   \n",
       "readout_connector_pad_Q_Main        -7.06503        -1.13268   \n",
       "\n",
       "                              readout_connector_pad_Q_Main  \n",
       "bus_01_connector_pad_Q_Main                       -0.69850  \n",
       "bus_02_connector_pad_Q_Main                       -0.10663  \n",
       "bus_03_connector_pad_Q_Main                       -0.15805  \n",
       "bus_04_connector_pad_Q_Main                       -0.10665  \n",
       "bus_05_connector_pad_Q_Main                       -0.69868  \n",
       "ground_main_plane                                -31.59879  \n",
       "pad_bot_Q_Main                                    -7.06503  \n",
       "pad_top_Q_Main                                    -1.13268  \n",
       "readout_connector_pad_Q_Main                      42.24689  "
      ]
     },
     "execution_count": 32,
     "metadata": {},
     "output_type": "execute_result"
    }
   ],
   "source": [
    "q_main_q3d.get_capacitance_matrix()"
   ]
  },
  {
   "cell_type": "markdown",
   "metadata": {},
   "source": [
    "But more importantly, we can use that matrix to run LOM analysis. The method, `lumped_oscillator_vs_passes` takes input as follows;\n",
    "* Lj - the Josephson inductance of your Josephson junction (we will pick a value such that the qubit frequency is 5 GHz)\n",
    "* Cj - the capacitance of your Josephson junction\n",
    "* N - the total number of connection pads (in our case 6)\n",
    "* fr - the frequency of the readout resonator (for simplicity of this tutorial, we pick 7 GHz)\n",
    "* [fb1, fb2, fb3...., fbN-1] - list of the frequencies of the busses (for simplicity of this tutorial, we will pick 5.6, 5.7, 5.8, 5.9 and 6 GHz)\n",
    "* passes - the number of passes your simulation ran for (in our case 19)"
   ]
  },
  {
   "cell_type": "code",
   "execution_count": 33,
   "metadata": {},
   "outputs": [
    {
     "name": "stderr",
     "output_type": "stream",
     "text": [
      "INFO 02:31PM [get_matrix]: Exporting matrix data to (C:\\Local\\Temp\\tmp355rptmd.txt, C, , Tune_Q_Main:AdaptivePass, \"Original\", \"ohm\", \"nH\", \"fF\", \"mSie\", 5000000000, Maxwell, 1, False\n",
      "INFO 02:31PM [get_matrix]: Exporting matrix data to (C:\\Local\\Temp\\tmp6fwx96m1.txt, C, , Tune_Q_Main:AdaptivePass, \"Original\", \"ohm\", \"nH\", \"fF\", \"mSie\", 5000000000, Maxwell, 2, False\n",
      "INFO 02:31PM [get_matrix]: Exporting matrix data to (C:\\Local\\Temp\\tmp0ivc9et2.txt, C, , Tune_Q_Main:AdaptivePass, \"Original\", \"ohm\", \"nH\", \"fF\", \"mSie\", 5000000000, Maxwell, 3, False\n",
      "INFO 02:31PM [get_matrix]: Exporting matrix data to (C:\\Local\\Temp\\tmpncz5kq02.txt, C, , Tune_Q_Main:AdaptivePass, \"Original\", \"ohm\", \"nH\", \"fF\", \"mSie\", 5000000000, Maxwell, 4, False\n",
      "INFO 02:31PM [get_matrix]: Exporting matrix data to (C:\\Local\\Temp\\tmpu07bpc66.txt, C, , Tune_Q_Main:AdaptivePass, \"Original\", \"ohm\", \"nH\", \"fF\", \"mSie\", 5000000000, Maxwell, 5, False\n",
      "INFO 02:31PM [get_matrix]: Exporting matrix data to (C:\\Local\\Temp\\tmpzrn8jwub.txt, C, , Tune_Q_Main:AdaptivePass, \"Original\", \"ohm\", \"nH\", \"fF\", \"mSie\", 5000000000, Maxwell, 6, False\n",
      "INFO 02:31PM [get_matrix]: Exporting matrix data to (C:\\Local\\Temp\\tmputcnacyj.txt, C, , Tune_Q_Main:AdaptivePass, \"Original\", \"ohm\", \"nH\", \"fF\", \"mSie\", 5000000000, Maxwell, 7, False\n",
      "INFO 02:31PM [get_matrix]: Exporting matrix data to (C:\\Local\\Temp\\tmping4d9_b.txt, C, , Tune_Q_Main:AdaptivePass, \"Original\", \"ohm\", \"nH\", \"fF\", \"mSie\", 5000000000, Maxwell, 8, False\n",
      "INFO 02:31PM [get_matrix]: Exporting matrix data to (C:\\Local\\Temp\\tmpj_79_1a6.txt, C, , Tune_Q_Main:AdaptivePass, \"Original\", \"ohm\", \"nH\", \"fF\", \"mSie\", 5000000000, Maxwell, 9, False\n",
      "INFO 02:31PM [get_matrix]: Exporting matrix data to (C:\\Local\\Temp\\tmpnujiu52o.txt, C, , Tune_Q_Main:AdaptivePass, \"Original\", \"ohm\", \"nH\", \"fF\", \"mSie\", 5000000000, Maxwell, 10, False\n",
      "INFO 02:31PM [get_matrix]: Exporting matrix data to (C:\\Local\\Temp\\tmpaw_j2kh9.txt, C, , Tune_Q_Main:AdaptivePass, \"Original\", \"ohm\", \"nH\", \"fF\", \"mSie\", 5000000000, Maxwell, 11, False\n",
      "INFO 02:31PM [get_matrix]: Exporting matrix data to (C:\\Local\\Temp\\tmp0xpki3ra.txt, C, , Tune_Q_Main:AdaptivePass, \"Original\", \"ohm\", \"nH\", \"fF\", \"mSie\", 5000000000, Maxwell, 12, False\n",
      "INFO 02:31PM [get_matrix]: Exporting matrix data to (C:\\Local\\Temp\\tmp52q9_lqx.txt, C, , Tune_Q_Main:AdaptivePass, \"Original\", \"ohm\", \"nH\", \"fF\", \"mSie\", 5000000000, Maxwell, 13, False\n",
      "INFO 02:31PM [get_matrix]: Exporting matrix data to (C:\\Local\\Temp\\tmp3gwfkf9h.txt, C, , Tune_Q_Main:AdaptivePass, \"Original\", \"ohm\", \"nH\", \"fF\", \"mSie\", 5000000000, Maxwell, 14, False\n",
      "INFO 02:31PM [get_matrix]: Exporting matrix data to (C:\\Local\\Temp\\tmpbn33qntp.txt, C, , Tune_Q_Main:AdaptivePass, \"Original\", \"ohm\", \"nH\", \"fF\", \"mSie\", 5000000000, Maxwell, 15, False\n",
      "INFO 02:31PM [get_matrix]: Exporting matrix data to (C:\\Local\\Temp\\tmp6yxuu097.txt, C, , Tune_Q_Main:AdaptivePass, \"Original\", \"ohm\", \"nH\", \"fF\", \"mSie\", 5000000000, Maxwell, 16, False\n",
      "INFO 02:31PM [get_matrix]: Exporting matrix data to (C:\\Local\\Temp\\tmp_n1puucc.txt, C, , Tune_Q_Main:AdaptivePass, \"Original\", \"ohm\", \"nH\", \"fF\", \"mSie\", 5000000000, Maxwell, 17, False\n",
      "INFO 02:31PM [get_matrix]: Exporting matrix data to (C:\\Local\\Temp\\tmpo2j54gw0.txt, C, , Tune_Q_Main:AdaptivePass, \"Original\", \"ohm\", \"nH\", \"fF\", \"mSie\", 5000000000, Maxwell, 18, False\n"
     ]
    },
    {
     "name": "stdout",
     "output_type": "stream",
     "text": [
      "[6, 7] [8 0 1 2 3 4]\n",
      "Predicted Values\n",
      "\n",
      "Transmon Properties\n",
      "f_Q 4.961306 [GHz]\n",
      "EC 298.441482 [MHz]\n",
      "EJ 11.671114 [GHz]\n",
      "alpha -351.085255 [MHz]\n",
      "dispersion 85.046255 [KHz]\n",
      "Lq 13.994355 [nH]\n",
      "Cq 64.904610 [fF]\n",
      "T1 139.692430 [us]\n",
      "\n",
      "**Coupling Properties**\n",
      "\n",
      "tCqbus1 3.018780 [fF]\n",
      "gbus1_in_MHz 43.832798 [MHz]\n",
      "χ_bus1 -0.286620 [MHz]\n",
      "1/T1bus1 222.683008 [Hz]\n",
      "T1bus1 714.715257 [us]\n",
      "\n",
      "tCqbus2 4.181831 [fF]\n",
      "gbus2_in_MHz 48.590963 [MHz]\n",
      "χ_bus2 -2.637915 [MHz]\n",
      "1/T1bus2 286.107935 [Hz]\n",
      "T1bus2 556.275879 [us]\n",
      "\n",
      "tCqbus3 -4.011322 [fF]\n",
      "gbus3_in_MHz -47.439409 [MHz]\n",
      "χ_bus3 -1.977365 [MHz]\n",
      "1/T1bus3 203.636326 [Hz]\n",
      "T1bus3 781.564599 [us]\n",
      "\n",
      "tCqbus4 -4.077777 [fF]\n",
      "gbus4_in_MHz -49.052055 [MHz]\n",
      "χ_bus4 -1.708198 [MHz]\n",
      "1/T1bus4 168.677522 [Hz]\n",
      "T1bus4 943.545656 [us]\n",
      "\n",
      "tCqbus5 -4.011521 [fF]\n",
      "gbus5_in_MHz -49.101171 [MHz]\n",
      "χ_bus5 -1.413086 [MHz]\n",
      "1/T1bus5 134.733433 [Hz]\n",
      "T1bus5 1181.257984 [us]\n",
      "\n",
      "tCqbus6 4.182119 [fF]\n",
      "gbus6_in_MHz 52.054333 [MHz]\n",
      "χ_bus6 -1.334382 [MHz]\n",
      "1/T1bus6 123.485808 [Hz]\n",
      "T1bus6 1288.852096 [us]\n",
      "Bus-Bus Couplings\n",
      "gbus1_2 3.329808 [MHz]\n",
      "gbus1_3 1.916485 [MHz]\n",
      "gbus1_4 2.175971 [MHz]\n",
      "gbus1_5 1.983365 [MHz]\n",
      "gbus1_6 3.565110 [MHz]\n",
      "gbus2_3 2.150679 [MHz]\n",
      "gbus2_4 2.038372 [MHz]\n",
      "gbus2_5 1.824806 [MHz]\n",
      "gbus2_6 1.934026 [MHz]\n",
      "gbus3_4 3.383566 [MHz]\n",
      "gbus3_5 1.918189 [MHz]\n",
      "gbus3_6 1.887815 [MHz]\n",
      "gbus4_5 3.501483 [MHz]\n",
      "gbus4_6 2.182172 [MHz]\n",
      "gbus5_6 2.382550 [MHz]\n"
     ]
    }
   ],
   "source": [
    "#q_main_lom = q_main_q3d.lumped_oscillator_vs_passes(Lj, Cj ~ 2 fF, N- total number of connectionPads, fr (readout frequency),\n",
    "# [fb1,fb2,.... fbN-1] - list of the bus frequencies, maxPass - how many passes did Ansys Q3D take)\n",
    "\n",
    "\n",
    "q_main_lom = q_main_q3d.lumped_oscillator_vs_passes(14, 2, 6, 7, [5.6, 5.7,5.8,5.9,6.0], 19)"
   ]
  },
  {
   "cell_type": "markdown",
   "metadata": {},
   "source": [
    "Which gives us the qubits frequency, anharmonicity, and coupling strength to the different connection pads. We can further check if these parameters converged well, as if they have not we may want to modify our simulation in order to get a more accurate result. We then will want to make modifications to our qubit options, such as `pad_gap` of the qubit, or modifying the size of the connection pads, in order to hit the desired qubit anharmonicity or readout chi values respectively. "
   ]
  },
  {
   "cell_type": "code",
   "execution_count": 34,
   "metadata": {},
   "outputs": [
    {
     "name": "stdout",
     "output_type": "stream",
     "text": [
      "Design \"Q_Main\" info:"
     ]
    },
    {
     "name": "stderr",
     "output_type": "stream",
     "text": [
      "INFO 02:31PM [hfss_report_full_convergence]: Creating report for variation 0\n"
     ]
    },
    {
     "name": "stdout",
     "output_type": "stream",
     "text": [
      "\n",
      "\t# eigenmodes    0\n",
      "\t# variations    1\n"
     ]
    },
    {
     "data": {
      "text/plain": [
       "<Figure size 2970x1155 with 2 Axes>"
      ]
     },
     "execution_count": 34,
     "metadata": {},
     "output_type": "execute_result"
    }
   ],
   "source": [
    "q_main_q3d.plot_convergence_main(q_main_lom);\n",
    "q_main_q3d.plot_convergence_chi(q_main_lom)"
   ]
  },
  {
   "cell_type": "markdown",
   "metadata": {},
   "source": [
    "Once the analysis and tuning is complete, we can disconnect from Ansys."
   ]
  },
  {
   "cell_type": "code",
   "execution_count": 35,
   "metadata": {},
   "outputs": [],
   "source": [
    "q_main_q3d.disconnect_ansys()"
   ]
  },
  {
   "cell_type": "markdown",
   "metadata": {},
   "source": [
    "## Eigenmode and EPR\n",
    "\n",
    "Once each of our qubits have been run through LOM, we can begin to look at the resonant busses and readouts, and larger coupled sections of the chip. One such case could be looking at Q_Main, Q5, and Bus_05. This allows us not only to look at some of the parameters of the individual qubits, but also the bus frequency and if the qubits are coupled (via the bus) to the degree we wish.\n",
    "\n",
    "We will setup the design and simulation in the same manner as we did previously, but with the methods needed for an eigenmode simulation."
   ]
  },
  {
   "cell_type": "code",
   "execution_count": 36,
   "metadata": {},
   "outputs": [],
   "source": [
    "q_main_q5_eigen = design.renderers.hfss"
   ]
  },
  {
   "cell_type": "code",
   "execution_count": 37,
   "metadata": {},
   "outputs": [
    {
     "data": {
      "text/plain": [
       "{'Lj': '10nH',\n",
       " 'Cj': 0,\n",
       " '_Rj': 0,\n",
       " 'max_mesh_length_jj': '7um',\n",
       " 'project_path': None,\n",
       " 'project_name': None,\n",
       " 'design_name': None,\n",
       " 'ansys_file_extension': '.aedt',\n",
       " 'x_buffer_width_mm': 0.2,\n",
       " 'y_buffer_width_mm': 0.2,\n",
       " 'wb_threshold': '400um',\n",
       " 'wb_offset': '0um',\n",
       " 'wb_size': 5,\n",
       " 'plot_ansys_fields_options': {'name': 'NAME:Mag_E1',\n",
       "  'UserSpecifyName': '0',\n",
       "  'UserSpecifyFolder': '0',\n",
       "  'QuantityName': 'Mag_E',\n",
       "  'PlotFolder': 'E Field',\n",
       "  'StreamlinePlot': 'False',\n",
       "  'AdjacentSidePlot': 'False',\n",
       "  'FullModelPlot': 'False',\n",
       "  'IntrinsicVar': \"Phase='0deg'\",\n",
       "  'PlotGeomInfo_0': '1',\n",
       "  'PlotGeomInfo_1': 'Surface',\n",
       "  'PlotGeomInfo_2': 'FacesList',\n",
       "  'PlotGeomInfo_3': '1'}}"
      ]
     },
     "execution_count": 37,
     "metadata": {},
     "output_type": "execute_result"
    }
   ],
   "source": [
    "q_main_q5_eigen.options['wb_size'] = 5\n",
    "q_main_q5_eigen.options"
   ]
  },
  {
   "cell_type": "code",
   "execution_count": 38,
   "metadata": {},
   "outputs": [],
   "source": [
    "# If Ansys is not already open, uncomment the line below to open Ansys or you can open it manually\n",
    "#q_main_q5_eigen.open_ansys()\n",
    "\n",
    "\n",
    "#! Important! Make sure Ansys is fully opened and you have, if necessary, clicked ‘close’ \n",
    "#in the Ansys pop up box before running further cells! "
   ]
  },
  {
   "cell_type": "code",
   "execution_count": 39,
   "metadata": {},
   "outputs": [],
   "source": [
    "#If you open Ansys manually, uncomment the code below to add a project.\n",
    "#q_main_q5_eigen.new_ansys_project()"
   ]
  },
  {
   "cell_type": "code",
   "execution_count": 40,
   "metadata": {},
   "outputs": [
    {
     "name": "stderr",
     "output_type": "stream",
     "text": [
      "INFO 02:31PM [connect_project]: Connecting to Ansys Desktop API...\n",
      "INFO 02:31PM [load_ansys_project]: \tOpened Ansys App\n",
      "INFO 02:31PM [load_ansys_project]: \tOpened Ansys Desktop v2020.2.0\n",
      "INFO 02:31PM [load_ansys_project]: \tOpened Ansys Project\n",
      "\tFolder:    C:/Ansoft/\n",
      "\tProject:   Project10\n",
      "INFO 02:31PM [connect_design]: \tOpened active design\n",
      "\tDesign:    Q_Main [Solution type: Q3D]\n",
      "INFO 02:31PM [get_setup]: \tOpened setup `Setup`  (<class 'pyEPR.ansys.AnsysQ3DSetup'>)\n",
      "INFO 02:31PM [connect]: \tConnected to project \"Project10\" and design \"Q_Main\" 😀 \n",
      "\n"
     ]
    }
   ],
   "source": [
    "q_main_q5_eigen.connect_ansys()"
   ]
  },
  {
   "cell_type": "code",
   "execution_count": 41,
   "metadata": {},
   "outputs": [
    {
     "name": "stderr",
     "output_type": "stream",
     "text": [
      "INFO 02:31PM [connect_design]: \tOpened active design\n",
      "\tDesign:    QMain_Q5_Bus05 [Solution type: Eigenmode]\n",
      "WARNING 02:31PM [connect_setup]: \tNo design setup detected.\n",
      "WARNING 02:31PM [connect_setup]: \tCreating eigenmode default setup.\n",
      "INFO 02:31PM [get_setup]: \tOpened setup `Setup`  (<class 'pyEPR.ansys.HfssEMSetup'>)\n"
     ]
    },
    {
     "data": {
      "text/plain": [
       "<pyEPR.ansys.HfssDesign at 0x1ac0360fdc8>"
      ]
     },
     "execution_count": 41,
     "metadata": {},
     "output_type": "execute_result"
    }
   ],
   "source": [
    "q_main_q5_eigen.add_eigenmode_design(\"QMain_Q5_Bus05\")"
   ]
  },
  {
   "cell_type": "code",
   "execution_count": 42,
   "metadata": {},
   "outputs": [
    {
     "name": "stderr",
     "output_type": "stream",
     "text": [
      "INFO 02:31PM [get_setup]: \tOpened setup `3Modes`  (<class 'pyEPR.ansys.HfssEMSetup'>)\n"
     ]
    }
   ],
   "source": [
    "q_main_q5_eigen.add_eigenmode_setup(name='3Modes', min_freq_ghz = 4, n_modes=3, max_delta_f = 0.1, max_passes = 10, min_converged = 2)\n",
    "q_main_q5_eigen.activate_eigenmode_setup('3Modes')"
   ]
  },
  {
   "cell_type": "markdown",
   "metadata": {},
   "source": [
    "With the simulation setup, we next render the desired components. All unconnected pins are left as shorts, as we are only concerned about simulating the resonant mode of the three components listed. We also may want to modify the junction inductance of the two qubits based on the previous LOM analysis, so they are near the desired frequency. Further, one may want to change the length of the bus after initial simulations to get it to the target frequency."
   ]
  },
  {
   "cell_type": "code",
   "execution_count": 43,
   "metadata": {},
   "outputs": [],
   "source": [
    "q_main.options.hfss_inductance = '13nH'\n",
    "Q5.options.hfss_inductance = '15nH'\n",
    "bus_05.options.total_length = '7.5mm'\n",
    "\n",
    "gui.rebuild()"
   ]
  },
  {
   "cell_type": "code",
   "execution_count": 44,
   "metadata": {},
   "outputs": [],
   "source": [
    "q_main_q5_eigen.render_design(['Q_Main', 'Q5','Bus_05'], [])"
   ]
  },
  {
   "cell_type": "code",
   "execution_count": 45,
   "metadata": {},
   "outputs": [
    {
     "data": {
      "text/plain": [
       "'Cj2'"
      ]
     },
     "execution_count": 45,
     "metadata": {},
     "output_type": "execute_result"
    }
   ],
   "source": [
    "e_design = q_main_q5_eigen.pinfo.design\n",
    "e_design.set_variable('Lj1', '13 nH')\n",
    "e_design.set_variable('Cj1', '0 fF')\n",
    "e_design.set_variable('Lj2', '15 nH')\n",
    "e_design.set_variable('Cj2', '0 fF')"
   ]
  },
  {
   "cell_type": "code",
   "execution_count": 46,
   "metadata": {},
   "outputs": [
    {
     "name": "stderr",
     "output_type": "stream",
     "text": [
      "INFO 02:32PM [get_setup]: \tOpened setup `3Modes`  (<class 'pyEPR.ansys.HfssEMSetup'>)\n",
      "INFO 02:32PM [analyze]: Analyzing setup 3Modes\n"
     ]
    }
   ],
   "source": [
    "q_main_q5_eigen.analyze_setup('3Modes') #Note - simulation can take a while depending on your computer"
   ]
  },
  {
   "cell_type": "markdown",
   "metadata": {},
   "source": [
    "Once the simulation is complete, we can check to see if the convergence was good."
   ]
  },
  {
   "cell_type": "code",
   "execution_count": 47,
   "metadata": {},
   "outputs": [
    {
     "name": "stderr",
     "output_type": "stream",
     "text": [
      "02:35PM 19s INFO [hfss_report_f_convergence]: Saved convergences to C:\\workspace\\qiskit-metal\\docs\\circuit-examples\\design-flow\\hfss_eig_f_convergence.csv\n"
     ]
    }
   ],
   "source": [
    "q_main_q5_eigen.plot_convergences()"
   ]
  },
  {
   "cell_type": "markdown",
   "metadata": {},
   "source": [
    "With the eigenmode simulation complete (and nicely converged) we can run some EPR analysis on the result."
   ]
  },
  {
   "cell_type": "code",
   "execution_count": 48,
   "metadata": {},
   "outputs": [],
   "source": [
    "import pyEPR as epr"
   ]
  },
  {
   "cell_type": "code",
   "execution_count": 49,
   "metadata": {},
   "outputs": [
    {
     "name": "stdout",
     "output_type": "stream",
     "text": [
      "Design \"QMain_Q5_Bus05\" info:\n",
      "\t# eigenmodes    3\n",
      "\t# variations    1\n"
     ]
    }
   ],
   "source": [
    "pinfo = q_main_q5_eigen.pinfo\n",
    "\n",
    "pinfo.junctions['jj1'] = {'Lj_variable': 'Lj1', 'rect': 'JJ_rect_Lj_Q_Main_rect_jj', \n",
    "                             'line': 'JJ_Lj_Q_Main_rect_jj_',  'Cj_variable': 'Cj1'}\n",
    "pinfo.junctions['jj2'] = {'Lj_variable': 'Lj2', 'rect': 'JJ_rect_Lj_Q5_rect_jj', \n",
    "                             'line': 'JJ_Lj_Q5_rect_jj_',  'Cj_variable': 'Cj2'}\n",
    "pinfo.validate_junction_info() # Checks that valid names of variables and objects have been supplied\n",
    "\n",
    "#Specifying the dissipative elements\n",
    "pinfo.dissipative['dielectrics_bulk']    = ['main']\n",
    "\n",
    "eprd = epr.DistributedAnalysis(q_main_q5_eigen.pinfo)"
   ]
  },
  {
   "cell_type": "markdown",
   "metadata": {},
   "source": [
    "We can first look at the electric field and subtrate participation."
   ]
  },
  {
   "cell_type": "code",
   "execution_count": 50,
   "metadata": {},
   "outputs": [
    {
     "name": "stdout",
     "output_type": "stream",
     "text": [
      "\n",
      "ℰ_elec_all       = 3.2989469152027e-24\n",
      "ℰ_elec_substrate = 3.01837385132611e-24\n",
      "EPR of substrate = 91.5%\n",
      "\n",
      "ℰ_mag_all       = 3.2988271587249e-24\n",
      "ℰ_mag % of ℰ_elec_all  = 100.0%\n",
      "\n"
     ]
    }
   ],
   "source": [
    "eprd.set_mode(1)\n",
    "ℰ_elec = eprd.calc_energy_electric()\n",
    "ℰ_elec_substrate = eprd.calc_energy_electric(None, 'main')\n",
    "ℰ_mag = eprd.calc_energy_magnetic()\n",
    "\n",
    "print(f\"\"\"\n",
    "ℰ_elec_all       = {ℰ_elec}\n",
    "ℰ_elec_substrate = {ℰ_elec_substrate}\n",
    "EPR of substrate = {ℰ_elec_substrate / ℰ_elec * 100 :.1f}%\n",
    "\n",
    "ℰ_mag_all       = {ℰ_mag}\n",
    "ℰ_mag % of ℰ_elec_all  = {ℰ_mag / ℰ_elec * 100 :.1f}%\n",
    "\"\"\")"
   ]
  },
  {
   "cell_type": "markdown",
   "metadata": {},
   "source": [
    "Then run the EPR analysis to find the kerr matrix."
   ]
  },
  {
   "cell_type": "code",
   "execution_count": 51,
   "metadata": {},
   "outputs": [
    {
     "name": "stdout",
     "output_type": "stream",
     "text": [
      "\n",
      "Variation 0  [1/1]\n",
      "\n",
      "  \u001b[1mMode 0 at 7.38 GHz   [1/3]\u001b[0m\n",
      "    Calculating ℰ_magnetic,ℰ_electric\n",
      "       (ℰ_E-ℰ_H)/ℰ_E       ℰ_E       ℰ_H\n",
      "                0.0%  1.118e-24 1.118e-24\n",
      "\n",
      "    Calculating junction energy participation ration (EPR)\n",
      "\tmethod=`line_voltage`. First estimates:\n",
      "\tjunction        EPR p_0j   sign s_0j    (p_capacitive)\n",
      "\t\tEnergy fraction (Lj over Lj&Cj)= 94.70%\n",
      "\tjj1             0.000133207  (+)        7.4557e-06\n",
      "\t\tEnergy fraction (Lj over Lj&Cj)= 93.93%\n",
      "\tjj2             8.81214e-05  (+)        5.69104e-06\n",
      "\t\t(U_tot_cap-U_tot_ind)/mean=0.00%\n",
      "Calculating Qdielectric_main for mode 0 (0/2)\n",
      "p_dielectric_main_0 = 0.9149609905352091\n",
      "\n",
      "  \u001b[1mMode 1 at 14.85 GHz   [2/3]\u001b[0m\n",
      "    Calculating ℰ_magnetic,ℰ_electric\n",
      "       (ℰ_E-ℰ_H)/ℰ_E       ℰ_E       ℰ_H\n",
      "                0.0%  1.649e-24 1.649e-24\n",
      "\n",
      "    Calculating junction energy participation ration (EPR)\n",
      "\tmethod=`line_voltage`. First estimates:\n",
      "\tjunction        EPR p_1j   sign s_1j    (p_capacitive)\n",
      "\t\tEnergy fraction (Lj over Lj&Cj)= 81.54%\n",
      "\tjj1             1.72925e-05  (+)        3.91567e-06\n",
      "\t\tEnergy fraction (Lj over Lj&Cj)= 79.28%\n",
      "\tjj2             1.89407e-05  (+)        4.94872e-06\n",
      "\t\t(U_tot_cap-U_tot_ind)/mean=0.00%\n",
      "Calculating Qdielectric_main for mode 1 (1/2)\n",
      "p_dielectric_main_1 = 0.9149507187934394\n",
      "\n",
      "  \u001b[1mMode 2 at 22.23 GHz   [3/3]\u001b[0m\n",
      "    Calculating ℰ_magnetic,ℰ_electric\n",
      "       (ℰ_E-ℰ_H)/ℰ_E       ℰ_E       ℰ_H\n",
      "                0.0%  2.379e-24 2.379e-24\n",
      "\n",
      "    Calculating junction energy participation ration (EPR)\n",
      "\tmethod=`line_voltage`. First estimates:\n",
      "\tjunction        EPR p_2j   sign s_2j    (p_capacitive)\n",
      "\t\tEnergy fraction (Lj over Lj&Cj)= 66.34%\n",
      "\tjj1             7.85365e-07  (+)        3.98522e-07\n",
      "\t\tEnergy fraction (Lj over Lj&Cj)= 63.07%\n",
      "\tjj2             1.00946e-05  (+)        5.91041e-06\n",
      "\t\t(U_tot_cap-U_tot_ind)/mean=0.00%\n",
      "Calculating Qdielectric_main for mode 2 (2/2)\n",
      "p_dielectric_main_2 = 0.9133174783006446\n"
     ]
    },
    {
     "name": "stderr",
     "output_type": "stream",
     "text": [
      "WARNING 02:35PM [__init__]: <p>Error: <class 'IndexError'></p>\n"
     ]
    },
    {
     "name": "stdout",
     "output_type": "stream",
     "text": [
      "\n",
      "ANALYSIS DONE. Data saved to:\n",
      "\n",
      "C:\\data-pyEPR\\Project10\\QMain_Q5_Bus05\\2021-06-01 14-35-21.npz\n",
      "\n",
      "\n",
      "\t Differences in variations:\n",
      "\n",
      "\n",
      "\n",
      " . . . . . . . . . . . . . . . . . . . . . . . . . . . . . . . . . . . . . . . . \n",
      "Variation 0\n",
      "\n",
      "Starting the diagonalization\n",
      "Finished the diagonalization\n",
      "Pm_norm=\n",
      "modes\n",
      "0    1.030218\n",
      "1    1.123270\n",
      "2    1.296910\n",
      "dtype: float64\n",
      "\n",
      "Pm_norm idx =\n",
      "     jj1    jj2\n",
      "0  False  False\n",
      "1  False  False\n",
      "2  False  False\n",
      "*** P (participation matrix, not normlz.)\n",
      "            jj1       jj2\n",
      "0  1.332051e-04  0.000088\n",
      "1  1.729236e-05  0.000019\n",
      "2  7.853602e-07  0.000010\n",
      "\n",
      "*** S (sign-bit matrix)\n",
      "   s_jj1  s_jj2\n",
      "0      1      1\n",
      "1      1      1\n",
      "2      1      1\n",
      "*** P (participation matrix, normalized.)\n",
      "   0.00013  8.8e-05\n",
      "   1.7e-05  1.9e-05\n",
      "   7.9e-07    1e-05\n",
      "\n",
      "*** Chi matrix O1 PT (MHz)\n",
      "    Diag is anharmonicity, off diag is full cross-Kerr.\n",
      "  1.45e-05 9.22e-06 3.69e-06\n",
      "  9.22e-06 1.56e-06 1.54e-06\n",
      "  3.69e-06 1.54e-06 5.81e-07\n",
      "\n",
      "*** Chi matrix ND (MHz) \n",
      "  1.45e-05 9.22e-06 3.69e-06\n",
      "  9.22e-06 1.56e-06 1.54e-06\n",
      "  3.69e-06 1.54e-06 5.81e-07\n",
      "\n",
      "*** Frequencies O1 PT (MHz)\n",
      "0     7384.386908\n",
      "1    14852.770718\n",
      "2    22234.313645\n",
      "dtype: float64\n",
      "\n",
      "*** Frequencies ND (MHz)\n",
      "0     7384.386908\n",
      "1    14852.770718\n",
      "2    22234.313645\n",
      "dtype: float64\n",
      "\n",
      "*** Q_coupling\n",
      "Empty DataFrame\n",
      "Columns: []\n",
      "Index: [0, 1, 2]\n"
     ]
    },
    {
     "data": {
      "text/markdown": [
       "#### Mode frequencies (MHz)"
      ],
      "text/plain": [
       "<IPython.core.display.Markdown object>"
      ]
     },
     "metadata": {},
     "output_type": "display_data"
    },
    {
     "data": {
      "text/markdown": [
       "###### Numerical diagonalization"
      ],
      "text/plain": [
       "<IPython.core.display.Markdown object>"
      ]
     },
     "metadata": {},
     "output_type": "display_data"
    },
    {
     "data": {
      "text/html": [
       "<div>\n",
       "<style scoped>\n",
       "    .dataframe tbody tr th:only-of-type {\n",
       "        vertical-align: middle;\n",
       "    }\n",
       "\n",
       "    .dataframe tbody tr th {\n",
       "        vertical-align: top;\n",
       "    }\n",
       "\n",
       "    .dataframe thead th {\n",
       "        text-align: right;\n",
       "    }\n",
       "</style>\n",
       "<table border=\"1\" class=\"dataframe\">\n",
       "  <thead>\n",
       "    <tr style=\"text-align: right;\">\n",
       "      <th>Lj1</th>\n",
       "      <th>13</th>\n",
       "    </tr>\n",
       "    <tr>\n",
       "      <th>eigenmode</th>\n",
       "      <th></th>\n",
       "    </tr>\n",
       "  </thead>\n",
       "  <tbody>\n",
       "    <tr>\n",
       "      <th>0</th>\n",
       "      <td>7384.39</td>\n",
       "    </tr>\n",
       "    <tr>\n",
       "      <th>1</th>\n",
       "      <td>14852.77</td>\n",
       "    </tr>\n",
       "    <tr>\n",
       "      <th>2</th>\n",
       "      <td>22234.31</td>\n",
       "    </tr>\n",
       "  </tbody>\n",
       "</table>\n",
       "</div>"
      ],
      "text/plain": [
       "Lj1              13\n",
       "eigenmode          \n",
       "0           7384.39\n",
       "1          14852.77\n",
       "2          22234.31"
      ]
     },
     "metadata": {},
     "output_type": "display_data"
    },
    {
     "data": {
      "text/markdown": [
       "#### Kerr Non-linear coefficient table (MHz)"
      ],
      "text/plain": [
       "<IPython.core.display.Markdown object>"
      ]
     },
     "metadata": {},
     "output_type": "display_data"
    },
    {
     "data": {
      "text/markdown": [
       "###### Numerical diagonalization"
      ],
      "text/plain": [
       "<IPython.core.display.Markdown object>"
      ]
     },
     "metadata": {},
     "output_type": "display_data"
    },
    {
     "data": {
      "text/html": [
       "<div>\n",
       "<style scoped>\n",
       "    .dataframe tbody tr th:only-of-type {\n",
       "        vertical-align: middle;\n",
       "    }\n",
       "\n",
       "    .dataframe tbody tr th {\n",
       "        vertical-align: top;\n",
       "    }\n",
       "\n",
       "    .dataframe thead th {\n",
       "        text-align: right;\n",
       "    }\n",
       "</style>\n",
       "<table border=\"1\" class=\"dataframe\">\n",
       "  <thead>\n",
       "    <tr style=\"text-align: right;\">\n",
       "      <th></th>\n",
       "      <th></th>\n",
       "      <th>0</th>\n",
       "      <th>1</th>\n",
       "      <th>2</th>\n",
       "    </tr>\n",
       "    <tr>\n",
       "      <th>Lj1</th>\n",
       "      <th></th>\n",
       "      <th></th>\n",
       "      <th></th>\n",
       "      <th></th>\n",
       "    </tr>\n",
       "  </thead>\n",
       "  <tbody>\n",
       "    <tr>\n",
       "      <th rowspan=\"3\" valign=\"top\">13</th>\n",
       "      <th>0</th>\n",
       "      <td>1.45e-05</td>\n",
       "      <td>9.22e-06</td>\n",
       "      <td>3.69e-06</td>\n",
       "    </tr>\n",
       "    <tr>\n",
       "      <th>1</th>\n",
       "      <td>9.22e-06</td>\n",
       "      <td>1.56e-06</td>\n",
       "      <td>1.54e-06</td>\n",
       "    </tr>\n",
       "    <tr>\n",
       "      <th>2</th>\n",
       "      <td>3.69e-06</td>\n",
       "      <td>1.54e-06</td>\n",
       "      <td>5.81e-07</td>\n",
       "    </tr>\n",
       "  </tbody>\n",
       "</table>\n",
       "</div>"
      ],
      "text/plain": [
       "              0         1         2\n",
       "Lj1                                \n",
       "13  0  1.45e-05  9.22e-06  3.69e-06\n",
       "    1  9.22e-06  1.56e-06  1.54e-06\n",
       "    2  3.69e-06  1.54e-06  5.81e-07"
      ]
     },
     "metadata": {},
     "output_type": "display_data"
    }
   ],
   "source": [
    "eprd.do_EPR_analysis()\n",
    "\n",
    "epra = epr.QuantumAnalysis(eprd.data_filename)\n",
    "epra.analyze_all_variations(cos_trunc = 7, fock_trunc = 6)\n",
    "\n",
    "swp_variable = 'Lj1' # suppose we swept an optimetric analysis vs. inductance Lj\n",
    "epra.plot_hamiltonian_results(swp_variable=swp_variable)\n",
    "epra.report_results(swp_variable=swp_variable, numeric=True)"
   ]
  },
  {
   "cell_type": "markdown",
   "metadata": {},
   "source": [
    "From the analysis results we can determine the qubits anharmonicities and coupling strength.\n",
    "Once the analysis and tuning is complete, we can close the connection to Ansys."
   ]
  },
  {
   "cell_type": "code",
   "execution_count": 52,
   "metadata": {},
   "outputs": [],
   "source": [
    "q_main_q5_eigen.disconnect_ansys()"
   ]
  },
  {
   "cell_type": "markdown",
   "metadata": {},
   "source": [
    "### Rendering to a GDS File"
   ]
  },
  {
   "cell_type": "markdown",
   "metadata": {},
   "source": [
    "Once all of the tuning is complete, we will want to prepare a GDS file so we can create a mask and fabricate our chip. We first create a gds render instance."
   ]
  },
  {
   "cell_type": "code",
   "execution_count": 53,
   "metadata": {},
   "outputs": [],
   "source": [
    "full_chip_gds = design.renderers.gds"
   ]
  },
  {
   "cell_type": "markdown",
   "metadata": {},
   "source": [
    "The various options for the gds renderer can also be checked and changed as necessary. A key option is the gds file which holds the cells for your junction ebeam design. Make sure this is pointing at the correct file so they are placed in your final mask at the appropriate locations."
   ]
  },
  {
   "cell_type": "code",
   "execution_count": 54,
   "metadata": {},
   "outputs": [
    {
     "data": {
      "text/plain": [
       "{'short_segments_to_not_fillet': 'True',\n",
       " 'check_short_segments_by_scaling_fillet': '2.0',\n",
       " 'gds_unit': 0.001,\n",
       " 'ground_plane': 'True',\n",
       " 'negative_mask': {'main': []},\n",
       " 'corners': 'circular bend',\n",
       " 'tolerance': '0.00001',\n",
       " 'precision': '0.000000001',\n",
       " 'width_LineString': '10um',\n",
       " 'path_filename': '../resources/Fake_Junctions.GDS',\n",
       " 'junction_pad_overlap': '5um',\n",
       " 'max_points': '199',\n",
       " 'cheese': {'datatype': '100',\n",
       "  'shape': '0',\n",
       "  'cheese_0_x': '25um',\n",
       "  'cheese_0_y': '25um',\n",
       "  'cheese_1_radius': '100um',\n",
       "  'view_in_file': {'main': {1: True}},\n",
       "  'delta_x': '100um',\n",
       "  'delta_y': '100um',\n",
       "  'edge_nocheese': '200um'},\n",
       " 'no_cheese': {'datatype': '99',\n",
       "  'buffer': '25um',\n",
       "  'cap_style': '2',\n",
       "  'join_style': '2',\n",
       "  'view_in_file': {'main': {1: True}}},\n",
       " 'bounding_box_scale_x': '1.2',\n",
       " 'bounding_box_scale_y': '1.2'}"
      ]
     },
     "execution_count": 54,
     "metadata": {},
     "output_type": "execute_result"
    }
   ],
   "source": [
    "full_chip_gds.options"
   ]
  },
  {
   "cell_type": "code",
   "execution_count": 55,
   "metadata": {},
   "outputs": [],
   "source": [
    "full_chip_gds.options['path_filename'] ='../resources/Fake_Junctions.GDS'\n",
    "full_chip_gds.options['no_cheese']['buffer']='50um'"
   ]
  },
  {
   "cell_type": "code",
   "execution_count": 56,
   "metadata": {},
   "outputs": [
    {
     "data": {
      "text/plain": [
       "1"
      ]
     },
     "execution_count": 56,
     "metadata": {},
     "output_type": "execute_result"
    }
   ],
   "source": [
    "full_chip_gds.export_to_gds('Full_Chip_01.gds')"
   ]
  },
  {
   "cell_type": "markdown",
   "metadata": {},
   "source": [
    "With the design complete, we can close the GUI."
   ]
  },
  {
   "cell_type": "code",
   "execution_count": null,
   "metadata": {},
   "outputs": [],
   "source": [
    "gui.main_window.close()"
   ]
  },
  {
   "cell_type": "code",
   "execution_count": null,
   "metadata": {},
   "outputs": [],
   "source": []
  }
 ],
 "metadata": {
  "celltoolbar": "Tags",
  "kernelspec": {
   "display_name": "Python 3",
   "language": "python",
   "name": "python3"
  },
  "language_info": {
   "codemirror_mode": {
    "name": "ipython",
    "version": 3
   },
   "file_extension": ".py",
   "mimetype": "text/x-python",
   "name": "python",
   "nbconvert_exporter": "python",
   "pygments_lexer": "ipython3",
   "version": "3.7.8"
  }
 },
 "nbformat": 4,
 "nbformat_minor": 4
}
