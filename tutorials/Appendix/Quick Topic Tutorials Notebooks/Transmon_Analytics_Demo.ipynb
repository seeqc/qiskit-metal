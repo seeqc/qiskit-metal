{
 "cells": [
  {
   "source": [
    "# Transmon Analytics Plotting Demo"
   ],
   "cell_type": "markdown",
   "metadata": {}
  },
  {
   "source": [
    "This demo notebook demonstrates how to use the transmon_analytics.py file to create plots of the transmon qubit Cooper pair box eigenvalues as a function of offset charge (ng). These plots can be found the original transmon qubit paper (J. Kock et al., Phys. Rev. A 76, 042319 (2007).) Here we consider the first four energy levels (m=0 through m=3) as a function of offset charge for the case where the ratio of Josephson to charing energy is equal to one ($E_{J} / E_{C} = 1.0$.)   "
   ],
   "cell_type": "markdown",
   "metadata": {}
  },
  {
   "cell_type": "code",
   "execution_count": 1,
   "id": "cubic-sunset",
   "metadata": {},
   "outputs": [],
   "source": [
    "import qiskit_metal as metal \n",
    "from qiskit_metal.analyses.hamiltonian.transmon_analytics import *"
   ]
  },
  {
   "source": [
    "The function which actually creates the plots is called \"plot_eigenvalues\" and it does not take any arguments. So, we can create the plot(s) simply by executing the following command:"
   ],
   "cell_type": "markdown",
   "metadata": {}
  },
  {
   "cell_type": "code",
   "execution_count": null,
   "metadata": {},
   "outputs": [],
   "source": [
    "plot_eigenvalues() "
   ]
  },
  {
   "source": [
    "The plots can be made for higher energy levels and/or for different ratios of $E_{J}/E_{C}$ by directly modifying those parameters in the file transmon_analytics.py "
   ],
   "cell_type": "markdown",
   "metadata": {}
  }
 ],
 "metadata": {
  "kernelspec": {
   "display_name": "Python 3",
   "language": "python",
   "name": "python3"
  },
  "language_info": {
   "codemirror_mode": {
    "name": "ipython",
    "version": 3
   },
   "file_extension": ".py",
   "mimetype": "text/x-python",
   "name": "python",
   "nbconvert_exporter": "python",
   "pygments_lexer": "ipython3",
   "version": "3.7.8"
  }
 },
 "nbformat": 4,
 "nbformat_minor": 5
}