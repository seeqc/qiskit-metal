{
 "cells": [
  {
   "cell_type": "markdown",
   "metadata": {},
   "source": [
    "### Prerequisite\n",
    "You must have a working local installation of Ansys."
   ]
  },
  {
   "cell_type": "code",
   "execution_count": null,
   "metadata": {},
   "outputs": [],
   "source": [
    "%load_ext autoreload\n",
    "%autoreload 2\n",
    "\n",
    "import qiskit_metal as metal\n",
    "from qiskit_metal import designs, draw\n",
    "from qiskit_metal import MetalGUI, Dict, Headings\n",
    "import pyEPR as epr"
   ]
  },
  {
   "cell_type": "markdown",
   "metadata": {},
   "source": [
    "### Create the design in Metal\n",
    "Set up a design of a given dimension. Dimensions will be respected in the design rendering. <br>\n",
    "Note that the design will be centered in the origin, will thus equally extend in all quadrants."
   ]
  },
  {
   "cell_type": "code",
   "execution_count": null,
   "metadata": {},
   "outputs": [],
   "source": [
    "design = designs.DesignPlanar({}, True)\n",
    "design.chips.main.size['size_x'] = '2mm'\n",
    "design.chips.main.size['size_y'] = '2mm'\n",
    "hfss = design.renderers.hfss\n",
    "\n",
    "gui = MetalGUI(design)"
   ]
  },
  {
   "cell_type": "markdown",
   "metadata": {},
   "source": [
    "Create a single transmon with one readout resonator. It will show in the center of the previously defined chip."
   ]
  },
  {
   "cell_type": "code",
   "execution_count": null,
   "metadata": {},
   "outputs": [],
   "source": [
    "from qiskit_metal.qlibrary.qubits.transmon_pocket import TransmonPocket\n",
    "\n",
    "design.delete_all_components()\n",
    "\n",
    "q1 = TransmonPocket(design, 'Q1', options =  dict(\n",
    "    pad_width = '425 um', \n",
    "    pocket_height = '650um',\n",
    "    connection_pads=dict(\n",
    "        readout = dict(loc_W=+1,loc_H=+1, pad_width='200um')\n",
    "    )))\n",
    "\n",
    "gui.rebuild()\n",
    "gui.autoscale()"
   ]
  },
  {
   "cell_type": "markdown",
   "metadata": {},
   "source": [
    "### Connect to Ansys\n",
    "Open a new Ansys window (wait for it to open before you execute any other cell). <br>\n",
    "Skip this cell if you already have it open"
   ]
  },
  {
   "cell_type": "code",
   "execution_count": null,
   "metadata": {},
   "outputs": [],
   "source": [
    "hfss.open_ansys()"
   ]
  },
  {
   "cell_type": "markdown",
   "metadata": {},
   "source": [
    "After Ansys opens, connect to it and add a driven modal design called SingleTransmon. The design will appear in the active project."
   ]
  },
  {
   "cell_type": "code",
   "execution_count": null,
   "metadata": {},
   "outputs": [],
   "source": [
    "hfss.connect_ansys()\n",
    "hfss.add_drivenmodal_design(\"SingleTransmon\")"
   ]
  },
  {
   "cell_type": "markdown",
   "metadata": {},
   "source": [
    "### Setup Ansys to run the Analysis on the SingleTransmon design\n",
    "Here, pin Q1_a is converted into a lumped port with an impedance of 70 Ohms. <br>\n",
    "Meanwhile, the central junction Q1_rect_jj is rendered as both a port and an inductor with an impedance of 50 Ohms and an inductance of 10 nH, respectively.\n",
    "\n",
    "Here for reference the list of arguments to renderer_design():\n",
    "* First parameter: List of components to render (empty list if rendering whole Metal design)\n",
    "* Second parameter: List of pins (qcomp, pin) with open endcaps\n",
    "* Third parameter: List of pins (qcomp, pin, impedance) to render as lumped ports\n",
    "* Fourth parameter: List of junctions (qcomp, elt, impedance, draw_ind) to render as lumped ports\n",
    "* Fifth parameter: List of junctions (qcomp, elt) to omit altogether during rendering\n",
    "* Sixth parameter: Whether to render chip via box plus buffer or fixed chip size"
   ]
  },
  {
   "cell_type": "code",
   "execution_count": null,
   "metadata": {},
   "outputs": [],
   "source": [
    "hfss.render_design([], [], [('Q1', 'readout', 70)], [('Q1', 'rect_jj', 50, True)], [], box_plus_buffer=False)\n",
    "hfss.save_screenshot()"
   ]
  },
  {
   "cell_type": "markdown",
   "metadata": {},
   "source": [
    "Add a new driven modal simulation setup called NewSetup to the SingleTransmon design.\n",
    "\n",
    "Here for reference all the customizable parameters and their default values in add_drivenmodal_setup():\n",
    "* freq_ghz=5 (simulation frequency)\n",
    "* name=\"Setup\" (setup name)\n",
    "* max_delta_s=0.1 (absolute value of maximum difference in scattering parameter S)\n",
    "* max_passes=10 (maximum number of passes)\n",
    "* min_passes=1 (minimum number of passes)\n",
    "* min_converged=1 (minimum number of converged passes)\n",
    "* pct_refinement=30 (percent refinement)\n",
    "* basis_order=1 (basis order)"
   ]
  },
  {
   "cell_type": "code",
   "execution_count": null,
   "metadata": {},
   "outputs": [],
   "source": [
    "hfss.add_drivenmodal_setup(name=\"NewSetup\", max_passes=30)"
   ]
  },
  {
   "cell_type": "markdown",
   "metadata": {},
   "source": [
    "Verify that the currently active project, design, and setup names are correct."
   ]
  },
  {
   "cell_type": "code",
   "execution_count": null,
   "metadata": {},
   "outputs": [],
   "source": [
    "print(f\"\"\"\n",
    "project_name = {hfss.pinfo.project_name}\n",
    "design_name  = {hfss.pinfo.design_name}\n",
    "setup_name   = {hfss.pinfo.setup_name}\n",
    "\"\"\")"
   ]
  },
  {
   "cell_type": "markdown",
   "metadata": {},
   "source": [
    "Next, add a frequency sweep called NewSweep to the NewSetup setup.\n",
    "\n",
    "Here for reference all the customizable parameters and their default values in add_sweep():\n",
    "* setup_name=\"Setup\" (name of setup)\n",
    "* start_ghz=2.0 (starting frequency)\n",
    "* stop_ghz=8.0 (stopping frequency)\n",
    "* count=101 (total number of frequencies)\n",
    "* step_ghz=None (frequency step size)\n",
    "* name=\"Sweep\" (name of sweep)\n",
    "* type=\"Fast\" (type of sweep)\n",
    "* save_fields=False (whether or not to save fields)"
   ]
  },
  {
   "cell_type": "code",
   "execution_count": null,
   "metadata": {},
   "outputs": [],
   "source": [
    "hfss.add_sweep(setup_name=\"NewSetup\", name=\"NewSweep\", stop_ghz=13)"
   ]
  },
  {
   "cell_type": "markdown",
   "metadata": {},
   "source": [
    "### Execute the analysis and plot the results"
   ]
  },
  {
   "cell_type": "code",
   "execution_count": null,
   "metadata": {},
   "outputs": [],
   "source": [
    "hfss.analyze_sweep('NewSweep', 'NewSetup')"
   ]
  },
  {
   "cell_type": "markdown",
   "metadata": {},
   "source": [
    "Plot the various parameters"
   ]
  },
  {
   "cell_type": "code",
   "execution_count": null,
   "metadata": {},
   "outputs": [],
   "source": [
    "hfss.plot_params(['Z11', 'Z21']);"
   ]
  },
  {
   "cell_type": "code",
   "execution_count": null,
   "metadata": {},
   "outputs": [],
   "source": [
    "hfss.plot_params(['Y11', 'Y21']);"
   ]
  },
  {
   "cell_type": "code",
   "execution_count": null,
   "metadata": {},
   "outputs": [],
   "source": [
    "hfss.plot_params(['S11', 'S21', 'S22']);"
   ]
  },
  {
   "cell_type": "markdown",
   "metadata": {},
   "source": [
    "Finally, disconnect from Ansys"
   ]
  },
  {
   "cell_type": "code",
   "execution_count": null,
   "metadata": {},
   "outputs": [],
   "source": [
    "hfss.disconnect_ansys()"
   ]
  }
 ],
 "metadata": {
  "kernelspec": {
   "display_name": "Python 3",
   "language": "python",
   "name": "python3"
  },
  "language_info": {
   "codemirror_mode": {
    "name": "ipython",
    "version": 3
   },
   "file_extension": ".py",
   "mimetype": "text/x-python",
   "name": "python",
   "nbconvert_exporter": "python",
   "pygments_lexer": "ipython3",
   "version": "3.7.3"
  }
 },
 "nbformat": 4,
 "nbformat_minor": 5
}
