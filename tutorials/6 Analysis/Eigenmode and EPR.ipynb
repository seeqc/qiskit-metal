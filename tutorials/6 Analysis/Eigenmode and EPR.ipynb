{
 "cells": [
  {
   "cell_type": "markdown",
   "metadata": {},
   "source": [
    "# Prerequisite\n",
    "You need to have a working local installation of Ansys"
   ]
  },
  {
   "cell_type": "markdown",
   "metadata": {},
   "source": [
    "## Sections\n",
    "### I. Transmon only: render into Ansys.\n",
    "1. Run finite element eigenmode analysis. <br>\n",
    "1. Plot fields and display them. <br>\n",
    "1. Set up EPR junction dictionary. <br>\n",
    "1. Run EPR analysis on single mode. <br>\n",
    "1. Get qubit freq and anharmonicity. <br>\n",
    "1. Calculate EPR of substrate.  <br>\n",
    "1. (Extra: Calculate surface EPR.) <br>\n",
    "\n",
    "### II. Resonator only: render into Ansys.\n",
    "1. Run finite element eigenmode analysis. <br>\n",
    "1. Plot fields and display them. <br>\n",
    "1. Calculate EPR of substrate. <br>\n",
    "    \n",
    "### III. Transmon & resonator: render into Ansys.\n",
    "1. Run finite element eigenmode analysis. <br>\n",
    "1. Plot fields and display them. <br>\n",
    "1. Set up EPR junction dictionary. <br>\n",
    "1. Run EPR analysis on the two modes. <br>\n",
    "1. Get qubit frequency and anharmonicity. <br>\n",
    "\n",
    "### IV. Analyze a coupled 2 transmon system. \n",
    "1. Finite Element Eigenmode Analysis\n",
    "1. Identify the mode you want. The mode can inclusively be from 1 to setup.n_modes.\n",
    "1. Set variables in the Ansys design. As before, we seek 2 modes.\n",
    "1. Set up the simulation and specify the variables for the sweep.\n",
    "1. Plot the E-field on the chip's surface.\n",
    "1. Specify the junctions in the model; in this case there are 2 junctions.\n",
    "1. Find the electric and magnetic energy stored in the substrate and the system as a whole.\n",
    "1. Perform EPR analysis for all modes and variations."
   ]
  },
  {
   "cell_type": "code",
   "execution_count": null,
   "metadata": {},
   "outputs": [],
   "source": [
    "%load_ext autoreload\n",
    "%autoreload 2\n",
    "\n",
    "import qiskit_metal as metal\n",
    "from qiskit_metal import designs, draw\n",
    "from qiskit_metal import MetalGUI, Dict, Headings\n",
    "import pyEPR as epr"
   ]
  },
  {
   "cell_type": "code",
   "execution_count": null,
   "metadata": {},
   "outputs": [],
   "source": [
    "%metal_heading Tutorial 1: Create a single transmon qubit and analyze it using pyEPR."
   ]
  },
  {
   "cell_type": "code",
   "execution_count": null,
   "metadata": {},
   "outputs": [],
   "source": [
    "%metal_print Part 1. Finite Element Eigenmode Analysis"
   ]
  },
  {
   "cell_type": "markdown",
   "metadata": {},
   "source": [
    "### Create the design in Metal\n",
    "Setup a design of a given dimension. Dimensions will be respected in the design rendering. <br>\n",
    "Note that the design size extends from the origin into the first quadrant."
   ]
  },
  {
   "cell_type": "code",
   "execution_count": null,
   "metadata": {},
   "outputs": [],
   "source": [
    "design = designs.DesignPlanar({}, True)\n",
    "design.chips.main.size['size_x'] = '2mm'\n",
    "design.chips.main.size['size_y'] = '2mm'\n",
    "hfss = design.renderers.hfss\n",
    "\n",
    "gui = MetalGUI(design)"
   ]
  },
  {
   "cell_type": "markdown",
   "metadata": {},
   "source": [
    "Create a single transmon with one readout resonator and move it to the center of the chip previously defined."
   ]
  },
  {
   "cell_type": "code",
   "execution_count": null,
   "metadata": {
    "scrolled": true
   },
   "outputs": [],
   "source": [
    "from qiskit_metal.qlibrary.qubits.transmon_pocket import TransmonPocket\n",
    "\n",
    "design.delete_all_components()\n",
    "\n",
    "q1 = TransmonPocket(design, 'Q1', options = dict(\n",
    "    pad_width = '425 um', \n",
    "    pocket_height = '650um',\n",
    "    connection_pads=dict(\n",
    "        readout = dict(loc_W=+1,loc_H=+1, pad_width='200um')\n",
    "    )))\n",
    "\n",
    "gui.rebuild()\n",
    "gui.autoscale()"
   ]
  },
  {
   "cell_type": "markdown",
   "metadata": {},
   "source": [
    "### Establish a connection between Metal and Ansys\n",
    "First you will need to open Ansys. <br>\n",
    "You can either open Ansys manually, or by executing one of the lines in the following cell. <br>\n",
    "open_ansys() will look by default for the 2020 R2 version of Ansys. You can easily reroute it to your Ansys of choice by providing the name of the environment variable that contains the path (path_env) or the path itself (path)"
   ]
  },
  {
   "cell_type": "code",
   "execution_count": null,
   "metadata": {},
   "outputs": [],
   "source": [
    "hfss.open_ansys()   # this opens Ansys 2020 R2 if present\n",
    "# hfss.open_ansys(path_var='ANSYSEM_ROOT211')\n",
    "# hfss.open_ansys(path='C:\\Program Files\\AnsysEM\\AnsysEM20.2\\Win64')\n",
    "# hfss.open_ansys(path='../../../Program Files/AnsysEM/AnsysEM20.2/Win64')"
   ]
  },
  {
   "cell_type": "markdown",
   "metadata": {},
   "source": [
    "If a project was not automatically opened, you can manually create/open one from the Ansys GUI. Alternatively you can execute the following cell."
   ]
  },
  {
   "cell_type": "code",
   "execution_count": null,
   "metadata": {},
   "outputs": [],
   "source": [
    "# hfss.new_ansys_project()"
   ]
  },
  {
   "cell_type": "markdown",
   "metadata": {},
   "source": [
    "Finally connect this Jupyter Notebook session with the active Ansys project."
   ]
  },
  {
   "cell_type": "code",
   "execution_count": null,
   "metadata": {
    "scrolled": true
   },
   "outputs": [],
   "source": [
    "hfss.connect_ansys()\n",
    "# hfss.connect_ansys('C:\\\\project_path\\\\', 'Project1')  # will open a saved project before linking the Jupyter session"
   ]
  },
  {
   "cell_type": "markdown",
   "metadata": {},
   "source": [
    "### Prepare and run the analysis\n",
    "\n",
    "Create and activate an eigenmode design called \"TransmonQubit\"."
   ]
  },
  {
   "cell_type": "code",
   "execution_count": null,
   "metadata": {
    "scrolled": true
   },
   "outputs": [],
   "source": [
    "hfss.activate_eigenmode_design(\"TransmonQubit\")"
   ]
  },
  {
   "cell_type": "markdown",
   "metadata": {},
   "source": [
    "Render the single qubit in Metal, called Q1, to \"TransmonQubit\" design in Ansys."
   ]
  },
  {
   "cell_type": "code",
   "execution_count": null,
   "metadata": {},
   "outputs": [],
   "source": [
    "hfss.render_design(['Q1'], box_plus_buffer=False)\n",
    "hfss.save_screenshot()"
   ]
  },
  {
   "cell_type": "markdown",
   "metadata": {},
   "source": [
    "Set the convergence parameters and junction properties in the Ansys design. <br>\n",
    "Then run the analysis and plot the convergence."
   ]
  },
  {
   "cell_type": "code",
   "execution_count": null,
   "metadata": {},
   "outputs": [],
   "source": [
    "# Analysis properties\n",
    "setup = hfss.pinfo.setup\n",
    "setup.passes = 10\n",
    "print(f\"\"\"\n",
    "Number of eigenmodes to find             = {setup.n_modes}\n",
    "Number of simulation passes              = {setup.passes}\n",
    "Convergence freq max delta percent diff  = {setup.delta_f}\n",
    "\"\"\")\n",
    "\n",
    "pinfo = hfss.pinfo\n",
    "pinfo.design.set_variable('Lj', '10 nH')\n",
    "pinfo.design.set_variable('Cj', '0 fF')\n",
    "setup.analyze()\n",
    "\n",
    "hfss.plot_convergences()"
   ]
  },
  {
   "cell_type": "markdown",
   "metadata": {},
   "source": [
    "### Plot fields and display them\n",
    "Display the Ansys modeler window and plot the E-field on the chip's surface."
   ]
  },
  {
   "cell_type": "code",
   "execution_count": null,
   "metadata": {},
   "outputs": [],
   "source": [
    "hfss.modeler._modeler.ShowWindow()\n",
    "hfss.plot_ansys_fields('main')\n",
    "hfss.save_screenshot()"
   ]
  },
  {
   "cell_type": "markdown",
   "metadata": {},
   "source": [
    "Delete the newly created E-field plot to prepare for the next phase."
   ]
  },
  {
   "cell_type": "code",
   "execution_count": null,
   "metadata": {},
   "outputs": [],
   "source": [
    "hfss.plot_ansys_delete(['Mag_E1'])"
   ]
  },
  {
   "cell_type": "code",
   "execution_count": null,
   "metadata": {},
   "outputs": [],
   "source": [
    "%metal_print Part 2. Energy-Participation-Ratio Analysis"
   ]
  },
  {
   "cell_type": "markdown",
   "metadata": {},
   "source": [
    "### Set up EPR parameters\n",
    "Specify the junctions in the model; in this case there's only one, namely 'jj'."
   ]
  },
  {
   "cell_type": "code",
   "execution_count": null,
   "metadata": {},
   "outputs": [],
   "source": [
    "#Non-linear (Josephson) junction\n",
    "pinfo = hfss.pinfo # Project info\n",
    "pinfo.junctions['jj'] = {'Lj_variable': 'Lj', 'rect': 'JJ_rect_Lj_Q1_rect_jj', \n",
    "                             'line': 'JJ_Lj_Q1_rect_jj_',  'Cj_variable': 'Cj'}\n",
    "pinfo.validate_junction_info() # Check that valid names of variables and objects have been supplied\n",
    "pinfo.dissipative['dielectrics_bulk'] = ['main'] # Dissipative elements: specify\n",
    "# Handles  microwave analysis on eigenmode solutions\n",
    "eprd = epr.DistributedAnalysis(pinfo)"
   ]
  },
  {
   "cell_type": "markdown",
   "metadata": {},
   "source": [
    "Find the electric and magnetic energy stored in the substrate and the system as a whole."
   ]
  },
  {
   "cell_type": "code",
   "execution_count": null,
   "metadata": {},
   "outputs": [],
   "source": [
    "ℰ_elec = eprd.calc_energy_electric()\n",
    "ℰ_elec_substrate = eprd.calc_energy_electric(None, 'main')\n",
    "ℰ_mag = eprd.calc_energy_magnetic()\n",
    "\n",
    "print(f\"\"\"\n",
    "ℰ_elec_all       = {ℰ_elec}\n",
    "ℰ_elec_substrate = {ℰ_elec_substrate}\n",
    "EPR of substrate = {ℰ_elec_substrate / ℰ_elec * 100 :.1f}%\n",
    "\n",
    "ℰ_mag    = {ℰ_mag}\n",
    "\"\"\")"
   ]
  },
  {
   "cell_type": "markdown",
   "metadata": {},
   "source": [
    "### Run EPR analysis\n",
    "\n",
    "Perform EPR analysis for all modes and variations."
   ]
  },
  {
   "cell_type": "code",
   "execution_count": null,
   "metadata": {},
   "outputs": [],
   "source": [
    "eprd.do_EPR_analysis()\n",
    "\n",
    "# 4a. Perform Hamiltonian spectrum post-analysis, building on mw solutions using EPR\n",
    "epra = epr.QuantumAnalysis(eprd.data_filename)\n",
    "epra.analyze_all_variations(cos_trunc = 8, fock_trunc = 7)\n",
    "\n",
    "# 4b. Report solved results\n",
    "swp_variable = 'Lj' # suppose we swept an optimetric analysis vs. inductance Lj_alice\n",
    "epra.plot_hamiltonian_results(swp_variable=swp_variable)\n",
    "epra.report_results(swp_variable=swp_variable, numeric=True)"
   ]
  },
  {
   "cell_type": "markdown",
   "metadata": {},
   "source": [
    "Release Ansys session"
   ]
  },
  {
   "cell_type": "code",
   "execution_count": null,
   "metadata": {},
   "outputs": [],
   "source": [
    "hfss.disconnect_ansys()"
   ]
  },
  {
   "cell_type": "code",
   "execution_count": null,
   "metadata": {},
   "outputs": [],
   "source": [
    "%metal_heading Tutorial 2: Create and perform EPR analysis on a CPW resonator."
   ]
  },
  {
   "cell_type": "code",
   "execution_count": null,
   "metadata": {},
   "outputs": [],
   "source": [
    "%metal_print Part 1. Finite Element Eigenmode Analysis"
   ]
  },
  {
   "cell_type": "markdown",
   "metadata": {},
   "source": [
    "#### Update the design in Metal\n",
    "Connect the transmon to a CPW. <br>\n",
    "The other end of the CPW connects to an open to ground termination."
   ]
  },
  {
   "cell_type": "code",
   "execution_count": null,
   "metadata": {},
   "outputs": [],
   "source": [
    "from qiskit_metal.qlibrary.connectors.open_to_ground import OpenToGround\n",
    "from qiskit_metal.qlibrary.interconnects.meandered import RouteMeander\n",
    "otg = OpenToGround(design, 'open_to_ground', options=dict(pos_x='1.75mm',  pos_y='0um', orientation='0'))\n",
    "RouteMeander(design, 'readout',  Dict(\n",
    "        total_length='6 mm',\n",
    "        hfss_wire_bonds = True,\n",
    "        fillet='90 um',\n",
    "        lead = dict(start_straight='100um'),\n",
    "        pin_inputs=Dict(\n",
    "            start_pin=Dict(component='Q1', pin='readout'),\n",
    "            end_pin=Dict(component='open_to_ground', pin='open')), ))\n",
    "\n",
    "gui.rebuild()\n",
    "gui.autoscale()"
   ]
  },
  {
   "cell_type": "markdown",
   "metadata": {},
   "source": [
    "#### Render the resonator Design in Ansys\n",
    "Connect again to Ansys. <br>\n",
    "Then create and activate a separate eigenmode design called \"Readout\"."
   ]
  },
  {
   "cell_type": "code",
   "execution_count": null,
   "metadata": {},
   "outputs": [],
   "source": [
    "hfss.connect_ansys()\n",
    "hfss.activate_eigenmode_design(\"Readout\")"
   ]
  },
  {
   "cell_type": "markdown",
   "metadata": {},
   "source": [
    "Render the readout and an open to ground termination. <br>\n",
    "Add open endcaps to both ends of the readout."
   ]
  },
  {
   "cell_type": "code",
   "execution_count": null,
   "metadata": {},
   "outputs": [],
   "source": [
    "hfss.render_design(['readout', 'open_to_ground'], [('readout', 'start'), ('readout', 'end')])\n",
    "hfss.save_screenshot()"
   ]
  },
  {
   "cell_type": "markdown",
   "metadata": {},
   "source": [
    "#### Prepare and run the analysis, then plot E-field\n",
    "\n",
    "Set variables in the Ansys design."
   ]
  },
  {
   "cell_type": "code",
   "execution_count": null,
   "metadata": {},
   "outputs": [],
   "source": [
    "# Analysis properties\n",
    "setup = hfss.pinfo.setup\n",
    "setup.passes = 10\n",
    "print(f\"\"\"\n",
    "Number of eigenmodes to find             = {setup.n_modes}\n",
    "Number of simulation passes              = {setup.passes}\n",
    "Convergence freq max delta percent diff  = {setup.delta_f}\n",
    "\"\"\")\n",
    "\n",
    "pinfo = hfss.pinfo\n",
    "pinfo.design.set_variable('Lj', '10 nH')\n",
    "pinfo.design.set_variable('Cj', '0 fF')\n",
    "setup.analyze()\n",
    "\n",
    "hfss.plot_convergences()"
   ]
  },
  {
   "cell_type": "markdown",
   "metadata": {},
   "source": [
    "Recover eigenmode frequencies for each variation."
   ]
  },
  {
   "cell_type": "code",
   "execution_count": null,
   "metadata": {},
   "outputs": [],
   "source": [
    "eprd = epr.DistributedAnalysis(hfss.pinfo)\n",
    "eprd.get_ansys_frequencies_all()"
   ]
  },
  {
   "cell_type": "markdown",
   "metadata": {},
   "source": [
    "Display the Ansys modeler window and plot the E-field on the chip's surface."
   ]
  },
  {
   "cell_type": "code",
   "execution_count": null,
   "metadata": {},
   "outputs": [],
   "source": [
    "hfss.modeler._modeler.ShowWindow()\n",
    "hfss.plot_ansys_fields('main')\n",
    "hfss.save_screenshot()"
   ]
  },
  {
   "cell_type": "markdown",
   "metadata": {},
   "source": [
    "Delete the newly created E-field plot."
   ]
  },
  {
   "cell_type": "code",
   "execution_count": null,
   "metadata": {},
   "outputs": [],
   "source": [
    "hfss.plot_ansys_delete(['Mag_E1'])"
   ]
  },
  {
   "cell_type": "markdown",
   "metadata": {},
   "source": [
    "#### Try again with a larger number of steps (better convergence)\n",
    "\n",
    "Update the number of passes, analyze, and plot convergence data."
   ]
  },
  {
   "cell_type": "code",
   "execution_count": null,
   "metadata": {},
   "outputs": [],
   "source": [
    "setup.passes = 15\n",
    "setup.analyze()\n",
    "hfss.plot_convergences()"
   ]
  },
  {
   "cell_type": "markdown",
   "metadata": {},
   "source": [
    "Display the Ansys modeler window again and plot the E-field on the chip's surface with this updated number of passes. <br>\n",
    "Note that the bright areas have become much smoother compared to the previous image, indicating better convergence."
   ]
  },
  {
   "cell_type": "code",
   "execution_count": null,
   "metadata": {},
   "outputs": [],
   "source": [
    "hfss.modeler._modeler.ShowWindow()\n",
    "hfss.plot_ansys_fields('main')\n",
    "hfss.save_screenshot()"
   ]
  },
  {
   "cell_type": "code",
   "execution_count": null,
   "metadata": {},
   "outputs": [],
   "source": [
    "%metal_print Part 2. Energy-Participation-Ratio Analysis"
   ]
  },
  {
   "cell_type": "markdown",
   "metadata": {},
   "source": [
    "Find the electric and magnetic energy stored in the substrate and the system as a whole."
   ]
  },
  {
   "cell_type": "code",
   "execution_count": null,
   "metadata": {},
   "outputs": [],
   "source": [
    "ℰ_elec = eprd.calc_energy_electric()\n",
    "ℰ_elec_substrate = eprd.calc_energy_electric(None, 'main')\n",
    "ℰ_mag = eprd.calc_energy_magnetic()\n",
    "\n",
    "print(f\"\"\"\n",
    "ℰ_elec_all       = {ℰ_elec}\n",
    "ℰ_elec_substrate = {ℰ_elec_substrate}\n",
    "EPR of substrate = {ℰ_elec_substrate / ℰ_elec * 100 :.1f}%\n",
    "\n",
    "ℰ_mag_all       = {ℰ_mag}\n",
    "ℰ_mag % of ℰ_elec_all  = {ℰ_mag / ℰ_elec * 100 :.1f}%\n",
    "\"\"\")"
   ]
  },
  {
   "cell_type": "markdown",
   "metadata": {},
   "source": [
    "Release Ansys session"
   ]
  },
  {
   "cell_type": "code",
   "execution_count": null,
   "metadata": {},
   "outputs": [],
   "source": [
    "hfss.disconnect_ansys()"
   ]
  },
  {
   "cell_type": "code",
   "execution_count": null,
   "metadata": {},
   "outputs": [],
   "source": [
    "%metal_heading Tutorial 3: Analyze the combined transmon + CPW resonator system. "
   ]
  },
  {
   "cell_type": "code",
   "execution_count": null,
   "metadata": {},
   "outputs": [],
   "source": [
    "%metal_print Part 1. Finite Element Eigenmode Analysis"
   ]
  },
  {
   "cell_type": "markdown",
   "metadata": {},
   "source": [
    "Connect to Ansys, then create and activate an eigenmode Ansys design called \"TransmonResonator\"."
   ]
  },
  {
   "cell_type": "code",
   "execution_count": null,
   "metadata": {},
   "outputs": [],
   "source": [
    "hfss.connect_ansys()\n",
    "hfss.activate_eigenmode_design(\"TransmonResonator\")"
   ]
  },
  {
   "cell_type": "markdown",
   "metadata": {},
   "source": [
    "Render everything in the Metal design, including both the transmon and the readout. <br>\n",
    "Add an open endcap to the readout."
   ]
  },
  {
   "cell_type": "code",
   "execution_count": null,
   "metadata": {},
   "outputs": [],
   "source": [
    "hfss.render_design(['Q1', 'readout', 'open_to_ground'], [('readout', 'end')])\n",
    "hfss.save_screenshot()"
   ]
  },
  {
   "cell_type": "markdown",
   "metadata": {},
   "source": [
    "Set variables in the Ansys design. Note that this time we seek 2 eigenmodes - one with stronger fields near the transmon, the other with stronger fields near the resonator."
   ]
  },
  {
   "cell_type": "code",
   "execution_count": null,
   "metadata": {},
   "outputs": [],
   "source": [
    "# Analysis properties\n",
    "setup = hfss.pinfo.setup\n",
    "setup.n_modes = 2\n",
    "setup.passes = 10\n",
    "print(f\"\"\"\n",
    "Number of eigenmodes to find             = {setup.n_modes}\n",
    "Number of simulation passes              = {setup.passes}\n",
    "Convergence freq max delta percent diff  = {setup.delta_f}\n",
    "\"\"\")\n",
    "\n",
    "pinfo = hfss.pinfo\n",
    "pinfo.design.set_variable('Lj', '10 nH')\n",
    "pinfo.design.set_variable('Cj', '0 fF')\n",
    "setup.analyze()\n",
    "\n",
    "hfss.plot_convergences()"
   ]
  },
  {
   "cell_type": "markdown",
   "metadata": {},
   "source": [
    "Display the Ansys modeler window again and plot the E-field on the chip's surface."
   ]
  },
  {
   "cell_type": "code",
   "execution_count": null,
   "metadata": {},
   "outputs": [],
   "source": [
    "hfss.modeler._modeler.ShowWindow()\n",
    "hfss.plot_ansys_fields('main')\n",
    "hfss.save_screenshot()"
   ]
  },
  {
   "cell_type": "markdown",
   "metadata": {},
   "source": [
    "Delete the newly created E-field plot."
   ]
  },
  {
   "cell_type": "code",
   "execution_count": null,
   "metadata": {},
   "outputs": [],
   "source": [
    "hfss.plot_ansys_delete(['Mag_E1'])"
   ]
  },
  {
   "cell_type": "code",
   "execution_count": null,
   "metadata": {},
   "outputs": [],
   "source": [
    "%metal_print Part 2. Energy-Participation-Ratio Analysis"
   ]
  },
  {
   "cell_type": "markdown",
   "metadata": {},
   "source": [
    "Specify the junctions in the model; in this case there's only one, namely 'jj'."
   ]
  },
  {
   "cell_type": "code",
   "execution_count": null,
   "metadata": {
    "scrolled": true
   },
   "outputs": [],
   "source": [
    "#Non-linear (Josephson) junction\n",
    "pinfo = hfss.pinfo \n",
    "pinfo.junctions['jj'] = {'Lj_variable': 'Lj',  'rect': 'JJ_rect_Lj_Q1_rect_jj', \n",
    "                             'line': 'JJ_Lj_Q1_rect_jj_',  'Cj_variable': 'Cj'}\n",
    "pinfo.validate_junction_info() # Check that valid names of variables and objects have been supplied\n",
    "pinfo.dissipative['dielectrics_bulk'] = ['main'] # Dissipative elements: specify\n",
    "# Handles  microwave analysis on eigenmode solutions\n",
    "eprd = epr.DistributedAnalysis(pinfo)"
   ]
  },
  {
   "cell_type": "code",
   "execution_count": null,
   "metadata": {},
   "outputs": [],
   "source": [
    "eprd = epr.DistributedAnalysis(pinfo)\n",
    "eprd.set_mode(1)"
   ]
  },
  {
   "cell_type": "markdown",
   "metadata": {},
   "source": [
    "Find the electric and magnetic energy stored in the substrate and the system as a whole."
   ]
  },
  {
   "cell_type": "code",
   "execution_count": null,
   "metadata": {},
   "outputs": [],
   "source": [
    "ℰ_elec = eprd.calc_energy_electric()\n",
    "ℰ_elec_substrate = eprd.calc_energy_electric(None, 'main')\n",
    "ℰ_mag = eprd.calc_energy_magnetic()\n",
    "\n",
    "print(f\"\"\"\n",
    "ℰ_elec_all       = {ℰ_elec}\n",
    "ℰ_elec_substrate = {ℰ_elec_substrate}\n",
    "EPR of substrate = {ℰ_elec_substrate / ℰ_elec * 100 :.1f}%\n",
    "\n",
    "ℰ_mag_all       = {ℰ_mag}\n",
    "ℰ_mag % of ℰ_elec_all  = {ℰ_mag / ℰ_elec * 100 :.1f}%\n",
    "\"\"\")"
   ]
  },
  {
   "cell_type": "code",
   "execution_count": null,
   "metadata": {},
   "outputs": [],
   "source": [
    "eprd.set_mode(0)"
   ]
  },
  {
   "cell_type": "markdown",
   "metadata": {},
   "source": [
    "Perform EPR analysis for all modes and variations."
   ]
  },
  {
   "cell_type": "code",
   "execution_count": null,
   "metadata": {},
   "outputs": [],
   "source": [
    "eprd.do_EPR_analysis()\n",
    "\n",
    "# 4a. Perform Hamiltonian spectrum post-analysis, building on mw solutions using EPR\n",
    "epra = epr.QuantumAnalysis(eprd.data_filename)\n",
    "epra.analyze_all_variations(cos_trunc = 8, fock_trunc = 7)\n",
    "\n",
    "# 4b. Report solved results\n",
    "swp_variable = 'Lj' # suppose we swept an optimetric analysis vs. inductance Lj_alice\n",
    "epra.plot_hamiltonian_results(swp_variable=swp_variable)\n",
    "epra.report_results(swp_variable=swp_variable, numeric=True)"
   ]
  },
  {
   "cell_type": "markdown",
   "metadata": {},
   "source": [
    "Release Ansys's session"
   ]
  },
  {
   "cell_type": "code",
   "execution_count": null,
   "metadata": {},
   "outputs": [],
   "source": [
    "hfss.disconnect_ansys()"
   ]
  },
  {
   "cell_type": "code",
   "execution_count": null,
   "metadata": {},
   "outputs": [],
   "source": [
    "%metal_heading Tutorial 4: Analyze a coupled 2 transmon system. "
   ]
  },
  {
   "cell_type": "code",
   "execution_count": null,
   "metadata": {},
   "outputs": [],
   "source": [
    "%metal_print Part 1. Finite Element Eigenmode Analysis"
   ]
  },
  {
   "cell_type": "markdown",
   "metadata": {},
   "source": [
    "Connect to Ansys, then create and activate an eigenmode Ansys design called \"TransmonResonator\"."
   ]
  },
  {
   "cell_type": "code",
   "execution_count": null,
   "metadata": {},
   "outputs": [],
   "source": [
    "hfss.connect_ansys()"
   ]
  },
  {
   "cell_type": "code",
   "execution_count": null,
   "metadata": {},
   "outputs": [],
   "source": [
    "hfss.activate_eigenmode_design(\"TwoTransmon\")"
   ]
  },
  {
   "cell_type": "markdown",
   "metadata": {},
   "source": [
    "Create a Metal design consisting of 2 transmons connected by a short coupler."
   ]
  },
  {
   "cell_type": "code",
   "execution_count": null,
   "metadata": {},
   "outputs": [],
   "source": [
    "from qiskit_metal.qlibrary.qubits.transmon_pocket import TransmonPocket\n",
    "from qiskit_metal.qlibrary.interconnects.straight_path import RouteStraight\n",
    "\n",
    "design.delete_all_components()\n",
    "\n",
    "q1 = TransmonPocket(design, 'Q1', options = dict(\n",
    "    pad_width = '425 um', \n",
    "    pocket_height = '650um',\n",
    "    connection_pads=dict(\n",
    "        readout = dict(loc_W=+1,loc_H=+1, pad_width='200um')\n",
    "    )))\n",
    "\n",
    "q2 = TransmonPocket(design, 'Q2', options = dict(\n",
    "    pos_x = '1.0 mm',\n",
    "    pad_width = '425 um', \n",
    "    pocket_height = '650um',\n",
    "    connection_pads=dict(\n",
    "        readout = dict(loc_W=-1,loc_H=+1, pad_width='200um')\n",
    "    )))\n",
    "\n",
    "coupler = RouteStraight(design, 'coupler', Dict(hfss_wire_bonds = True,\n",
    "        pin_inputs=Dict(\n",
    "            start_pin=Dict(component='Q1', pin='readout'),\n",
    "            end_pin=Dict(component='Q2', pin='readout')), ))\n",
    "\n",
    "gui.rebuild()\n",
    "gui.autoscale()"
   ]
  },
  {
   "cell_type": "code",
   "execution_count": null,
   "metadata": {},
   "outputs": [],
   "source": [
    "hfss.options['x_buffer_width_mm'] = 0.5\n",
    "hfss.options['y_buffer_width_mm'] = 0.5\n",
    "hfss.options['wb_threshold'] = '100um'\n",
    "hfss.options['wb_size'] = 5\n",
    "hfss.options"
   ]
  },
  {
   "cell_type": "code",
   "execution_count": null,
   "metadata": {},
   "outputs": [],
   "source": [
    "qcomps = design.components\n",
    "qcomps['Q1'].options['hfss_inductance'] = 'Lj1'\n",
    "qcomps['Q1'].options['hfss_capacitance'] = 'Cj1'\n",
    "qcomps['Q2'].options['hfss_inductance'] = 'Lj2'\n",
    "qcomps['Q2'].options['hfss_capacitance'] = 'Cj2'\n",
    "gui.rebuild()"
   ]
  },
  {
   "cell_type": "code",
   "execution_count": null,
   "metadata": {},
   "outputs": [],
   "source": [
    "design.qgeometry.tables['junction']"
   ]
  },
  {
   "cell_type": "markdown",
   "metadata": {},
   "source": [
    "Identify the mode you want. The mode can inclusively be from 1 to setup.n_modes."
   ]
  },
  {
   "cell_type": "code",
   "execution_count": null,
   "metadata": {},
   "outputs": [],
   "source": [
    "hfss.set_mode(1, \"Setup\")"
   ]
  },
  {
   "cell_type": "markdown",
   "metadata": {},
   "source": [
    "Set variables in the Ansys design. As before, we seek 2 modes."
   ]
  },
  {
   "cell_type": "code",
   "execution_count": null,
   "metadata": {},
   "outputs": [],
   "source": [
    "hfss.render_design(['coupler', 'Q1', 'Q2'], [])\n",
    "hfss.save_screenshot()"
   ]
  },
  {
   "cell_type": "markdown",
   "metadata": {},
   "source": [
    "Set up the simulation and specify the variables for the sweep."
   ]
  },
  {
   "cell_type": "code",
   "execution_count": null,
   "metadata": {},
   "outputs": [],
   "source": [
    "setup = hfss.pinfo.setup\n",
    "setup.passes = 15\n",
    "setup.delta_f = 0.05\n",
    "setup.n_modes = 2\n",
    "\n",
    "pinfo = hfss.pinfo\n",
    "pinfo.design.set_variable('Lj1', '13 nH')\n",
    "pinfo.design.set_variable('Cj1', '0 fF')\n",
    "pinfo.design.set_variable('Lj2', '9 nH')\n",
    "pinfo.design.set_variable('Cj2', '0 fF')\n",
    "\n",
    "pinfo.setup.analyze()\n",
    "\n",
    "hfss.plot_convergences()"
   ]
  },
  {
   "cell_type": "markdown",
   "metadata": {},
   "source": [
    "Display the Ansys modeler window again and plot the E-field on the chip's surface."
   ]
  },
  {
   "cell_type": "code",
   "execution_count": null,
   "metadata": {},
   "outputs": [],
   "source": [
    "hfss.modeler._modeler.ShowWindow()\n",
    "hfss.plot_ansys_fields('main')\n",
    "hfss.save_screenshot()"
   ]
  },
  {
   "cell_type": "markdown",
   "metadata": {},
   "source": [
    "Delete the newly created E-field plot."
   ]
  },
  {
   "cell_type": "code",
   "execution_count": null,
   "metadata": {},
   "outputs": [],
   "source": [
    "hfss.plot_ansys_delete(['Mag_E1'])"
   ]
  },
  {
   "cell_type": "code",
   "execution_count": null,
   "metadata": {},
   "outputs": [],
   "source": [
    "%metal_print Part 2. Energy-Participation-Ratio Analysis"
   ]
  },
  {
   "cell_type": "markdown",
   "metadata": {},
   "source": [
    "Specify the junctions in the model; in this case there are 2 junctions, namely 'jj' and 'jj2'."
   ]
  },
  {
   "cell_type": "code",
   "execution_count": null,
   "metadata": {
    "scrolled": true
   },
   "outputs": [],
   "source": [
    "#Non-linear (Josephson) junction\n",
    "pinfo.junctions['jj1'] = {'Lj_variable': 'Lj1',  'rect': 'JJ_rect_Lj_Q1_rect_jj', \n",
    "                             'line': 'JJ_Lj_Q1_rect_jj_',  'Cj_variable': 'Cj1'}\n",
    "pinfo.junctions['jj2'] = {'Lj_variable': 'Lj2',  'rect': 'JJ_rect_Lj_Q2_rect_jj', \n",
    "                             'line': 'JJ_Lj_Q2_rect_jj_',  'Cj_variable': 'Cj2'}\n",
    "pinfo.validate_junction_info() # Check that valid names of variables and objects have been supplied\n",
    "pinfo.dissipative['dielectrics_bulk'] = ['main'] # Dissipative elements: specify\n",
    "# Handles  microwave analysis on eigenmode solutions\n",
    "eprd = epr.DistributedAnalysis(pinfo)"
   ]
  },
  {
   "cell_type": "markdown",
   "metadata": {},
   "source": [
    "Find the electric and magnetic energy stored in the substrate and the system as a whole."
   ]
  },
  {
   "cell_type": "code",
   "execution_count": null,
   "metadata": {},
   "outputs": [],
   "source": [
    "ℰ_elec = eprd.calc_energy_electric()\n",
    "ℰ_elec_substrate = eprd.calc_energy_electric(None, 'main')\n",
    "ℰ_mag = eprd.calc_energy_magnetic()\n",
    "\n",
    "print(f\"\"\"\n",
    "ℰ_elec_all       = {ℰ_elec}\n",
    "ℰ_elec_substrate = {ℰ_elec_substrate}\n",
    "EPR of substrate = {ℰ_elec_substrate / ℰ_elec * 100 :.1f}%\n",
    "\n",
    "ℰ_mag_all       = {ℰ_mag}\n",
    "ℰ_mag % of ℰ_elec_all  = {ℰ_mag / ℰ_elec * 100 :.1f}%\n",
    "\"\"\")"
   ]
  },
  {
   "cell_type": "markdown",
   "metadata": {},
   "source": [
    "Perform EPR analysis for all modes and variations."
   ]
  },
  {
   "cell_type": "code",
   "execution_count": null,
   "metadata": {},
   "outputs": [],
   "source": [
    "eprd.do_EPR_analysis()\n",
    "\n",
    "# 4a. Perform Hamiltonian spectrum post-analysis, building on mw solutions using EPR\n",
    "epra = epr.QuantumAnalysis(eprd.data_filename)\n",
    "epra.analyze_all_variations(cos_trunc = 8, fock_trunc = 7)\n",
    "\n",
    "# 4b. Report solved results\n",
    "swp_variable = 'Lj1' # suppose we swept an optimetric analysis vs. inductance Lj_alice\n",
    "epra.plot_hamiltonian_results(swp_variable=swp_variable)\n",
    "epra.report_results(swp_variable=swp_variable, numeric=True)"
   ]
  },
  {
   "cell_type": "code",
   "execution_count": null,
   "metadata": {},
   "outputs": [],
   "source": [
    "for lj in range(12,16, 1):\n",
    "    pinfo.design.set_variable('Lj1', f'{lj} nH')\n",
    "    pinfo.setup.analyze()"
   ]
  },
  {
   "cell_type": "markdown",
   "metadata": {},
   "source": [
    "Release Ansys's session"
   ]
  },
  {
   "cell_type": "code",
   "execution_count": null,
   "metadata": {},
   "outputs": [],
   "source": [
    "hfss.disconnect_ansys()"
   ]
  },
  {
   "cell_type": "code",
   "execution_count": null,
   "metadata": {},
   "outputs": [],
   "source": [
    "gui.main_window.close()"
   ]
  }
 ],
 "metadata": {
  "kernelspec": {
   "display_name": "Python 3",
   "language": "python",
   "name": "python3"
  },
  "language_info": {
   "codemirror_mode": {
    "name": "ipython",
    "version": 3
   },
   "file_extension": ".py",
   "mimetype": "text/x-python",
   "name": "python",
   "nbconvert_exporter": "python",
   "pygments_lexer": "ipython3",
   "version": "3.7.3"
  }
 },
 "nbformat": 4,
 "nbformat_minor": 4
}
