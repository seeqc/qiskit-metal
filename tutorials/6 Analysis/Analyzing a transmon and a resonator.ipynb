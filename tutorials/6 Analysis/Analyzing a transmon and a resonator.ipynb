{
 "cells": [
  {
   "cell_type": "markdown",
   "metadata": {},
   "source": [
    "# Prerequisite\n",
    "A working local installation of Ansys"
   ]
  },
  {
   "cell_type": "markdown",
   "metadata": {},
   "source": [
    "### Transmon & resonator: render into Ansys.\n",
    "1. Run finite element eigenmode analysis. <br>\n",
    "1. Plot fields and display them. <br>\n",
    "1. Set up EPR junction dictionary. <br>\n",
    "1. Run EPR analysis on the two modes. <br>\n",
    "1. Get qubit frequency and anharmonicity. <br>\n",
    "1. Render to Ansys Q3D. <br>\n",
    "1. Calculate the capacitance matrix. <br>"
   ]
  },
  {
   "cell_type": "code",
   "execution_count": null,
   "metadata": {},
   "outputs": [],
   "source": [
    "%load_ext autoreload\n",
    "%autoreload 2\n",
    "\n",
    "import qiskit_metal as metal\n",
    "from qiskit_metal import designs, draw\n",
    "from qiskit_metal import MetalGUI, Dict, Headings\n",
    "import pyEPR as epr"
   ]
  },
  {
   "cell_type": "code",
   "execution_count": null,
   "metadata": {},
   "outputs": [],
   "source": [
    "%metal_heading Create a single transmon qubit and a resonator"
   ]
  },
  {
   "cell_type": "markdown",
   "metadata": {},
   "source": [
    "### Create the design in Metal\n",
    "Create a design by specifying the chip size and open Metal GUI."
   ]
  },
  {
   "cell_type": "code",
   "execution_count": null,
   "metadata": {},
   "outputs": [],
   "source": [
    "design = designs.DesignPlanar({}, True)\n",
    "design.chips.main.size['size_x'] = '2mm'\n",
    "design.chips.main.size['size_y'] = '2mm'\n",
    "hfss = design.renderers.hfss\n",
    "\n",
    "gui = MetalGUI(design)"
   ]
  },
  {
   "cell_type": "markdown",
   "metadata": {},
   "source": [
    "Create a single transmon with one readout resonator. Please refer to tutorials on analyzing a transmon and analyzing a resonator if you're not familiar with the cell below."
   ]
  },
  {
   "cell_type": "code",
   "execution_count": null,
   "metadata": {},
   "outputs": [],
   "source": [
    "from qiskit_metal.qlibrary.qubits.transmon_pocket import TransmonPocket\n",
    "from qiskit_metal.qlibrary.terminations.open_to_ground import OpenToGround\n",
    "from qiskit_metal.qlibrary.tlines.meandered import RouteMeander\n",
    "\n",
    "design.delete_all_components()\n",
    "\n",
    "q1 = TransmonPocket(design, 'Q1', options = dict(\n",
    "    pad_width = '425 um', \n",
    "    pocket_height = '650um',\n",
    "    connection_pads=dict(\n",
    "        readout = dict(loc_W=+1,loc_H=+1, pad_width='200um')\n",
    "    )))\n",
    "otg = OpenToGround(design, 'open_to_ground', options=dict(pos_x='1.75mm',  pos_y='0um', orientation='0'))\n",
    "readout = RouteMeander(design, 'readout',  Dict(\n",
    "            total_length='6 mm',\n",
    "            hfss_wire_bonds = True,\n",
    "            fillet='90 um',\n",
    "            lead = dict(start_straight='100um'),\n",
    "            pin_inputs=Dict(\n",
    "                start_pin=Dict(component='Q1', pin='readout'),\n",
    "                end_pin=Dict(component='open_to_ground', pin='open')), ))\n",
    "\n",
    "gui.rebuild()\n",
    "gui.autoscale()"
   ]
  },
  {
   "cell_type": "markdown",
   "metadata": {},
   "source": [
    "### Establish a connection between Metal and Ansys\n",
    "Open Ansys. This can either be done manually, or by executing one of the lines in the following cell. <br>\n",
    "open_ansys() will look by default for the 2021 R2 version of Ansys. You can easily reroute it to your Ansys of choice by providing the name of the environment variable that contains the path (path_env) or the path itself (path)"
   ]
  },
  {
   "cell_type": "code",
   "execution_count": null,
   "metadata": {},
   "outputs": [],
   "source": [
    "hfss.open_ansys()   # this opens Ansys 2021 R2 if present\n",
    "# hfss.open_ansys(path_var='ANSYSEM_ROOT211')\n",
    "# hfss.open_ansys(path='C:\\Program Files\\AnsysEM\\AnsysEM21.1\\Win64')\n",
    "# hfss.open_ansys(path='../../../Program Files/AnsysEM/AnsysEM21.1/Win64')"
   ]
  },
  {
   "cell_type": "markdown",
   "metadata": {},
   "source": [
    "If a project was not automatically opened, you can manually create/open one from the Ansys GUI. Alternatively you can execute the following cell."
   ]
  },
  {
   "cell_type": "code",
   "execution_count": null,
   "metadata": {},
   "outputs": [],
   "source": [
    "# hfss.new_ansys_project()"
   ]
  },
  {
   "cell_type": "markdown",
   "metadata": {},
   "source": [
    "Finally connect this Jupyter Notebook session with the active Ansys project."
   ]
  },
  {
   "cell_type": "code",
   "execution_count": null,
   "metadata": {},
   "outputs": [],
   "source": [
    "hfss.connect_ansys()\n",
    "# hfss.connect_ansys('C:\\\\project_path\\\\', 'Project1')  # will open a saved project before linking the Jupyter session"
   ]
  },
  {
   "cell_type": "markdown",
   "metadata": {},
   "source": [
    "### Prepare and run the analysis\n",
    "\n",
    "Create and activate an eigenmode design called \"TransmonReadout\"."
   ]
  },
  {
   "cell_type": "code",
   "execution_count": null,
   "metadata": {},
   "outputs": [],
   "source": [
    "hfss.activate_eigenmode_design(\"TransmonReadout\")"
   ]
  },
  {
   "cell_type": "markdown",
   "metadata": {},
   "source": [
    "Render everything inlcuding the qubit and resonator in Metal, to \"TransmonReadout\" design in Ansys."
   ]
  },
  {
   "cell_type": "code",
   "execution_count": null,
   "metadata": {},
   "outputs": [],
   "source": [
    "hfss.render_design(['Q1', 'readout', 'open_to_ground'], [])\n",
    "hfss.save_screenshot()"
   ]
  },
  {
   "cell_type": "markdown",
   "metadata": {},
   "source": [
    "Set the convergence parameters and junction properties in the Ansys design. Then run the analysis and plot the convergence. Note that we seek 2 eigenmodes - one with stronger fields near the transmon, the other with stronger fields near the resonator."
   ]
  },
  {
   "cell_type": "code",
   "execution_count": null,
   "metadata": {},
   "outputs": [],
   "source": [
    "# Analysis properties\n",
    "setup = hfss.pinfo.setup\n",
    "setup.n_modes = 2\n",
    "setup.passes = 20\n",
    "print(f\"\"\"\n",
    "Number of eigenmodes to find             = {setup.n_modes}\n",
    "Number of simulation passes              = {setup.passes}\n",
    "Convergence freq max delta percent diff  = {setup.delta_f}\n",
    "\"\"\")\n",
    "\n",
    "pinfo = hfss.pinfo\n",
    "pinfo.design.set_variable('Lj', '10 nH')\n",
    "pinfo.design.set_variable('Cj', '0 fF')\n",
    "setup.analyze()\n",
    "\n",
    "hfss.plot_convergences()"
   ]
  },
  {
   "cell_type": "markdown",
   "metadata": {},
   "source": [
    "### Plot fields and display them\n",
    "Display the Ansys modeler window and plot the E-field on the chip's surface."
   ]
  },
  {
   "cell_type": "code",
   "execution_count": null,
   "metadata": {},
   "outputs": [],
   "source": [
    "hfss.modeler._modeler.ShowWindow()\n",
    "hfss.plot_ansys_fields('main')\n",
    "hfss.save_screenshot()"
   ]
  },
  {
   "cell_type": "markdown",
   "metadata": {},
   "source": [
    "Delete the newly created E-field plot before moving on."
   ]
  },
  {
   "cell_type": "code",
   "execution_count": null,
   "metadata": {},
   "outputs": [],
   "source": [
    "hfss.plot_ansys_delete(['Mag_E1'])"
   ]
  },
  {
   "cell_type": "markdown",
   "metadata": {},
   "source": [
    "To look at the second eigenmode created, we use the following command, and then plot the corresponding E-field."
   ]
  },
  {
   "cell_type": "code",
   "execution_count": null,
   "metadata": {},
   "outputs": [],
   "source": [
    "hfss.set_mode(2, \"Setup\")"
   ]
  },
  {
   "cell_type": "code",
   "execution_count": null,
   "metadata": {},
   "outputs": [],
   "source": [
    "hfss.modeler._modeler.ShowWindow()\n",
    "hfss.plot_ansys_fields('main')\n",
    "hfss.save_screenshot()"
   ]
  },
  {
   "cell_type": "markdown",
   "metadata": {},
   "source": [
    "We delete this design to prepare for further analysis."
   ]
  },
  {
   "cell_type": "code",
   "execution_count": null,
   "metadata": {},
   "outputs": [],
   "source": [
    "hfss.plot_ansys_delete(['Mag_E1'])"
   ]
  },
  {
   "cell_type": "code",
   "execution_count": null,
   "metadata": {},
   "outputs": [],
   "source": [
    "%metal_print Energy-Participation-Ratio Analysis"
   ]
  },
  {
   "cell_type": "markdown",
   "metadata": {},
   "source": [
    "### Set up EPR parameters\n",
    "Specify the junctions in the model; in this case there's only one, namely 'jj'."
   ]
  },
  {
   "cell_type": "code",
   "execution_count": null,
   "metadata": {},
   "outputs": [],
   "source": [
    "#Non-linear (Josephson) junction\n",
    "pinfo = hfss.pinfo # Project info\n",
    "pinfo.junctions['jj'] = {'Lj_variable': 'Lj', 'rect': 'JJ_rect_Lj_Q1_rect_jj', \n",
    "                             'line': 'JJ_Lj_Q1_rect_jj_',  'Cj_variable': 'Cj'}\n",
    "pinfo.validate_junction_info() # Check that valid names of variables and objects have been supplied\n",
    "pinfo.dissipative['dielectrics_bulk'] = ['main'] # Dissipative elements: specify\n",
    "# Handles  microwave analysis on eigenmode solutions\n",
    "eprd = epr.DistributedAnalysis(pinfo)"
   ]
  },
  {
   "cell_type": "markdown",
   "metadata": {},
   "source": [
    "Find the electric and magnetic energy stored in the substrate and the system as a whole."
   ]
  },
  {
   "cell_type": "code",
   "execution_count": null,
   "metadata": {},
   "outputs": [],
   "source": [
    "ℰ_elec = eprd.calc_energy_electric()\n",
    "ℰ_elec_substrate = eprd.calc_energy_electric(None, 'main')\n",
    "ℰ_mag = eprd.calc_energy_magnetic()\n",
    "\n",
    "print(f\"\"\"\n",
    "ℰ_elec_all       = {ℰ_elec}\n",
    "ℰ_elec_substrate = {ℰ_elec_substrate}\n",
    "EPR of substrate = {ℰ_elec_substrate / ℰ_elec * 100 :.1f}%\n",
    "\n",
    "ℰ_mag_all       = {ℰ_mag}\n",
    "ℰ_mag % of ℰ_elec_all  = {ℰ_mag / ℰ_elec * 100 :.1f}%\n",
    "\"\"\")"
   ]
  },
  {
   "cell_type": "markdown",
   "metadata": {},
   "source": [
    "### Run EPR analysis\n",
    "\n",
    "Perform EPR analysis for all modes and variations."
   ]
  },
  {
   "cell_type": "code",
   "execution_count": null,
   "metadata": {},
   "outputs": [],
   "source": [
    "eprd.do_EPR_analysis()\n",
    "\n",
    "# 4a. Perform Hamiltonian spectrum post-analysis, building on mw solutions using EPR\n",
    "epra = epr.QuantumAnalysis(eprd.data_filename)\n",
    "epra.analyze_all_variations(cos_trunc = 8, fock_trunc = 7)\n",
    "\n",
    "# 4b. Report solved results\n",
    "swp_variable = 'Lj' # suppose we swept an optimetric analysis vs. inductance Lj_alice\n",
    "epra.plot_hamiltonian_results(swp_variable=swp_variable)\n",
    "epra.report_results(swp_variable=swp_variable, numeric=True)"
   ]
  },
  {
   "cell_type": "markdown",
   "metadata": {},
   "source": [
    "Release Ansys session"
   ]
  },
  {
   "cell_type": "code",
   "execution_count": null,
   "metadata": {},
   "outputs": [],
   "source": [
    "hfss.disconnect_ansys()"
   ]
  },
  {
   "cell_type": "code",
   "execution_count": null,
   "metadata": {},
   "outputs": [],
   "source": [
    "%metal_print Q3D Analysis"
   ]
  },
  {
   "cell_type": "markdown",
   "metadata": {},
   "source": [
    "Next we will look at a lumped oscillator model (LOM) for the same design.\n",
    "\n",
    "## Render to Ansys Q3D"
   ]
  },
  {
   "cell_type": "code",
   "execution_count": null,
   "metadata": {},
   "outputs": [],
   "source": [
    "q3d = design.renderers.q3d"
   ]
  },
  {
   "cell_type": "markdown",
   "metadata": {},
   "source": [
    "Again, we establish a connection with Ansys and add design for analysis"
   ]
  },
  {
   "cell_type": "code",
   "execution_count": null,
   "metadata": {},
   "outputs": [],
   "source": [
    "q3d.connect_ansys()\n",
    "q3d.activate_q3d_design(\"TransmonResonator_q3d\")"
   ]
  },
  {
   "cell_type": "markdown",
   "metadata": {},
   "source": [
    "Next, we render the exisitng design to Ansys Q3D for analysis. To ensure that the readout is insulated from the ground plane, we set the 'readout' pin of Q1 to have an open termination."
   ]
  },
  {
   "cell_type": "code",
   "execution_count": null,
   "metadata": {},
   "outputs": [],
   "source": [
    "q3d.render_design(['Q1'], [('Q1','readout')])"
   ]
  },
  {
   "cell_type": "markdown",
   "metadata": {},
   "source": [
    "## Use Ansys Q3D to obtain the capacitance matrix"
   ]
  },
  {
   "cell_type": "code",
   "execution_count": null,
   "metadata": {},
   "outputs": [],
   "source": [
    "#Analyze the default solution setup\n",
    "q3d.analyze_setup(\"Setup\")"
   ]
  },
  {
   "cell_type": "markdown",
   "metadata": {},
   "source": [
    "For a transmon only case, we should see a 4x4 capacitance matrix, four conductors corresponding to two conducting pads, one connector pad, and the ground palne."
   ]
  },
  {
   "cell_type": "code",
   "execution_count": null,
   "metadata": {},
   "outputs": [],
   "source": [
    "# Using the analysis results, get its capacitance matrix as a dataframe.\n",
    "q3d.get_capacitance_matrix()"
   ]
  },
  {
   "cell_type": "markdown",
   "metadata": {},
   "source": [
    "The optional keyword parameters of get_capacitance_matrix are given below: <br><br>\n",
    "variation: str = '' <br>\n",
    "solution_kind: str = 'AdaptivePass' <br>\n",
    "pass_number: int = 3"
   ]
  },
  {
   "cell_type": "code",
   "execution_count": null,
   "metadata": {},
   "outputs": [],
   "source": [
    "# Run lumped oscillator model (LOM) simulations and save results in dict_lom.b\n",
    "dict_lom = q3d.lumped_oscillator_vs_passes(12.31, 2, 1, 7.0, [], 9)\n",
    "dict_lom"
   ]
  },
  {
   "cell_type": "markdown",
   "metadata": {},
   "source": [
    "Using capacitance matrices obtained from each pass, save the many parameters of the Hamiltonian of the system. lumped_oscillator_vs_passes takes in the following parameters: <br><br>\n",
    "Lj_nH: float <br>\n",
    "Cj_fF: float <br>\n",
    "N: int <br>\n",
    "fr: Union[list, float] <br>\n",
    "fb: Union[list, float] <br>\n",
    "maxPass: int <br>\n",
    "variation: str = '' <br>\n",
    "solution_kind: str = 'AdaptivePass' <br>\n",
    "g_scale: float = 1\n",
    "\n",
    "Here,<br>\n",
    "Lj - the Josephson inductance of your Josephson junction <br>\n",
    "Cj - the capacitance of your Josephson junction<br>\n",
    "N - the total number of connection pads <br>\n",
    "fr - the frequency of the readout resonator <br>\n",
    "[fb1, fb2, fb3...., fbN-1] - list of the frequencies of the busses<br>\n",
    "passes - the number of passes your simulation ran for"
   ]
  },
  {
   "cell_type": "markdown",
   "metadata": {},
   "source": [
    "dist_analysis allows one to calculate dissipation and other properties. It is used for the convergence plots below."
   ]
  },
  {
   "cell_type": "code",
   "execution_count": null,
   "metadata": {},
   "outputs": [],
   "source": [
    "q3d.plot_convergence_main(dict_lom);\n",
    "q3d.plot_convergence_chi(dict_lom)"
   ]
  },
  {
   "cell_type": "code",
   "execution_count": null,
   "metadata": {},
   "outputs": [],
   "source": [
    "q3d.disconnect_ansys()"
   ]
  },
  {
   "cell_type": "code",
   "execution_count": null,
   "metadata": {},
   "outputs": [],
   "source": [
    "gui.main_window.close()"
   ]
  }
 ],
 "metadata": {
  "kernelspec": {
   "display_name": "Python 3",
   "language": "python",
   "name": "python3"
  },
  "language_info": {
   "codemirror_mode": {
    "name": "ipython",
    "version": 3
   },
   "file_extension": ".py",
   "mimetype": "text/x-python",
   "name": "python",
   "nbconvert_exporter": "python",
   "pygments_lexer": "ipython3",
   "version": "3.7.3"
  }
 },
 "nbformat": 4,
 "nbformat_minor": 5
}
