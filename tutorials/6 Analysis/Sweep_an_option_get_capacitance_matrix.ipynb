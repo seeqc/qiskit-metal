{
 "cells": [
  {
   "cell_type": "markdown",
   "metadata": {},
   "source": [
    "# Sweep a option in QComponent, get capacitance matrix from Ansys Q3D and pyEPR."
   ]
  },
  {
   "cell_type": "markdown",
   "metadata": {},
   "source": [
    "# Prerequisite\n",
    "You need to have a working local installation of Ansys"
   ]
  },
  {
   "cell_type": "markdown",
   "metadata": {},
   "source": [
    "## 1. Perform the necessary imports and create a QDesign in Metal first."
   ]
  },
  {
   "cell_type": "code",
   "execution_count": null,
   "metadata": {},
   "outputs": [],
   "source": [
    "%load_ext autoreload\n",
    "%autoreload 2"
   ]
  },
  {
   "cell_type": "code",
   "execution_count": null,
   "metadata": {},
   "outputs": [],
   "source": [
    "import qiskit_metal as metal\n",
    "from qiskit_metal import designs, draw\n",
    "from qiskit_metal import MetalGUI, Dict, Headings\n",
    "from qiskit_metal.analyses.sweep_options.sweeping import Sweeping"
   ]
  },
  {
   "cell_type": "code",
   "execution_count": null,
   "metadata": {},
   "outputs": [],
   "source": [
    "from qiskit_metal.renderers.renderer_ansys.ansys_renderer import QAnsysRenderer"
   ]
  },
  {
   "cell_type": "code",
   "execution_count": null,
   "metadata": {},
   "outputs": [],
   "source": [
    "design = designs.DesignPlanar()\n",
    "gui = MetalGUI(design)\n",
    "\n",
    "from qiskit_metal.qlibrary.qubits.transmon_pocket import TransmonPocket"
   ]
  },
  {
   "cell_type": "code",
   "execution_count": null,
   "metadata": {},
   "outputs": [],
   "source": [
    "design.variables['cpw_width'] = '15 um'\n",
    "design.variables['cpw_gap'] = '9 um'"
   ]
  },
  {
   "cell_type": "markdown",
   "metadata": {},
   "source": [
    "### In this example, the design consists of 4 qubits and 4 CPWs."
   ]
  },
  {
   "cell_type": "code",
   "execution_count": null,
   "metadata": {},
   "outputs": [],
   "source": [
    "# Allow running the same cell here multiple times to overwrite changes\n",
    "design.overwrite_enabled = True\n",
    "\n",
    "## Custom options for all the transmons\n",
    "options = dict(\n",
    "    # Some options we want to modify from the defaults\n",
    "    # (see below for defaults)\n",
    "    pad_width = '425 um', \n",
    "    pocket_height = '650um',\n",
    "    # Adding 4 connectors (see below for defaults)\n",
    "    connection_pads=dict(\n",
    "        a = dict(loc_W=+1,loc_H=-1, pad_width='200um'),\n",
    "        b = dict(loc_W=-1,loc_H=+1, pad_height='30um'),\n",
    "        c = dict(loc_W=-1,loc_H=-1, pad_height='50um')\n",
    "    )\n",
    ")\n",
    "\n",
    "## Create 4 transmons\n",
    "\n",
    "q1 = TransmonPocket(design, 'Q1', options = dict(\n",
    "    pos_x='+2.42251mm', pos_y='+0.0mm', **options))\n",
    "q2 = TransmonPocket(design, 'Q2', options = dict(\n",
    "    pos_x='+0.0mm', pos_y='-0.95mm', orientation = '270', **options))\n",
    "q3 = TransmonPocket(design, 'Q3', options = dict(\n",
    "    pos_x='-2.42251mm', pos_y='+0.0mm', orientation = '180', **options))\n",
    "q4 = TransmonPocket(design, 'Q4', options = dict(\n",
    "    pos_x='+0.0mm', pos_y='+0.95mm', orientation = '90', **options))\n",
    "\n",
    "from qiskit_metal.qlibrary.interconnects.meandered import RouteMeander\n",
    "RouteMeander.get_template_options(design)\n",
    "\n",
    "options = Dict(\n",
    "        lead=Dict(\n",
    "            start_straight='0.2mm',\n",
    "            end_straight='0.2mm'),\n",
    "        trace_gap='9um',\n",
    "        trace_width='15um')\n",
    "\n",
    "def connect(component_name: str, component1: str, pin1: str, component2: str, pin2: str,\n",
    "            length: str, asymmetry='0 um', flip=False, fillet='90um'):\n",
    "    \"\"\"Connect two pins with a CPW.\"\"\"\n",
    "    myoptions = Dict(\n",
    "        fillet=fillet,\n",
    "        hfss_wire_bonds = True,\n",
    "        pin_inputs=Dict(\n",
    "            start_pin=Dict(\n",
    "                component=component1,\n",
    "                pin=pin1),\n",
    "            end_pin=Dict(\n",
    "                component=component2,\n",
    "                pin=pin2)),\n",
    "        total_length=length)\n",
    "    myoptions.update(options)\n",
    "    myoptions.meander.asymmetry = asymmetry\n",
    "    myoptions.meander.lead_direction_inverted = 'true' if flip else 'false'\n",
    "    return RouteMeander(design, component_name, myoptions)\n",
    "\n",
    "asym = 140\n",
    "cpw1 = connect('cpw1', 'Q1', 'c', 'Q2', 'b', '5.6 mm', f'+{asym}um')\n",
    "cpw2 = connect('cpw2', 'Q3', 'b', 'Q2', 'c', '5.7 mm', f'-{asym}um', flip=True)\n",
    "cpw3 = connect('cpw3', 'Q3', 'c', 'Q4', 'b', '5.6 mm', f'+{asym}um')\n",
    "cpw4 = connect('cpw4', 'Q1', 'b', 'Q4', 'c', '5.7 mm', f'-{asym}um', flip=True)\n",
    "\n",
    "gui.rebuild()\n",
    "gui.autoscale()"
   ]
  },
  {
   "cell_type": "markdown",
   "metadata": {},
   "source": [
    "## 2. Must open Ansys Q3D at this point.\n",
    "### Registration occurs automatically within the method \"sweep_one_option_get_capacitance_matrix\". \n",
    "\n",
    "### Must have an open Ansys project and Q3D design before executing render_design. Can do it manually or automate it.\n",
    "\n",
    "Manually: To create a new Ansys project, click \"New\", the leftmost icon right below the file menu. \n",
    "\n",
    "Automate: Use the cells below to open the Ansys application.  The method sweep_one_option_get_capacitance_matrix will connect to ansys, activate a q3d design, and add a setup."
   ]
  },
  {
   "cell_type": "code",
   "execution_count": null,
   "metadata": {},
   "outputs": [],
   "source": [
    "q3d =  design.renderers.q3d"
   ]
  },
  {
   "cell_type": "code",
   "execution_count": null,
   "metadata": {},
   "outputs": [],
   "source": [
    "# This cell will open the Ansys application.  Run this cell, if Ansys, is not already open.\n",
    "# A project will be opened using this command.\n",
    "q3d.open_ansys()"
   ]
  },
  {
   "cell_type": "code",
   "execution_count": null,
   "metadata": {},
   "outputs": [],
   "source": [
    "render_design_argument_qcomps = ['Q2']\n",
    "# pins a and b shorted to ground.\n",
    "render_design_argument_endcaps = [('Q2', 'c')]\n",
    "\n",
    "sweep = Sweeping(design)"
   ]
  },
  {
   "cell_type": "code",
   "execution_count": null,
   "metadata": {},
   "outputs": [],
   "source": [
    "# Pass a dict with argumensts to be used add Setup to project.\n",
    "# If you don't pass all the arguments, the default is determined by \n",
    "# QQ3DRenderer's default_options.\n",
    "\n",
    "# The name of setup will be \"Sweep_q3d_setup\".  \n",
    "# If a setup named \"Sweep_q3d_setup\" exists in the project, it will be deleted, \n",
    "# and a new setup will be added with the arguments from setup_args.\n",
    "q3d_setup_args = Dict(freq_ghz=None,\n",
    "                      save_fields=None,\n",
    "                      enabled=None,\n",
    "                      max_passes=None,\n",
    "                      min_passes=None,\n",
    "                      min_converged_passes=None,\n",
    "                      percent_error=None,\n",
    "                      percent_refinement=None,\n",
    "                      auto_increase_solution_order=None,\n",
    "                      solution_order=None,\n",
    "                      solver_type=None)\n",
    "\n",
    "# Example of updating the keys that we are interested in. \n",
    "q3d_setup_args = Dict(freq_ghz=5.6,\n",
    "                      max_passes=9,\n",
    "                      min_passes=2,\n",
    "                      percent_error=0.45)"
   ]
  },
  {
   "cell_type": "markdown",
   "metadata": {},
   "source": [
    "## 3 Metal pass information to Ansys through pyEPR, get capacitance matrix.\n",
    "### - Connect to Ansys Q3D.\n",
    "### - Rebuild QComponents in Metal.\n",
    "### - Render QComponents within Q3D and setup.\n",
    "### - Delete/Clear the Q3D between each calculation of capacitance  matrix.\n",
    "### - Calculate Capacitance matrix for each value in option_sweep.\n",
    "\n",
    "#### Return a dict and return code.  If the return code is zero, there were no errors detected.  \n",
    "#### The dict has:  key = each value used to sweep, value = capacitance matrix\n",
    "\n",
    "#### This could take minutes based size of design."
   ]
  },
  {
   "cell_type": "code",
   "execution_count": null,
   "metadata": {},
   "outputs": [],
   "source": [
    "#The argument \"leave_last_design\" is true by default.  \n",
    "\n",
    "#Note: The method will connect to Ansys, activate_q3d_design(), add_q3d_setup().\n",
    "\n",
    "all_sweeps, return_code = sweep.sweep_one_option_get_capacitance_matrix(\n",
    "                                    q2.name, \n",
    "                                    'connection_pads.c.pad_width', \n",
    "                                    ['100um', '110um', '120um'],\n",
    "                                    render_design_argument_qcomps, \n",
    "                                    render_design_argument_endcaps,\n",
    "                                    setup_args = q3d_setup_args,\n",
    "                                    design_name = \"GetCapacitance\")\n",
    "\n"
   ]
  },
  {
   "cell_type": "code",
   "execution_count": null,
   "metadata": {},
   "outputs": [],
   "source": [
    "if return_code ==0:\n",
    "    print(f'{all_sweeps.keys()} \\n')\n",
    "    for key in all_sweeps.keys():\n",
    "        print(f'\\nkey={key}')\n",
    "        option_name = all_sweeps[key]['option_name']\n",
    "        print(f'option_name[\\'{key}\\'][\\'option_name\\']={option_name}')\n",
    "        print('capacitance dataframe:')\n",
    "        df = all_sweeps[key]['capacitance']\n",
    "        print(df)\n",
    "        "
   ]
  },
  {
   "cell_type": "code",
   "execution_count": null,
   "metadata": {},
   "outputs": [],
   "source": [
    "# For example, just one capacitance matrix.\n",
    "all_sweeps['100um']['capacitance']"
   ]
  },
  {
   "cell_type": "code",
   "execution_count": null,
   "metadata": {},
   "outputs": [],
   "source": [
    "# In Q3d, after the last sweep, should the design be cleared?  The argument \"leave_last_design\" is true by default. \n",
    "# If you want to delete after last sweep, change argument to false.\n",
    "\n",
    "leave_last_design = False\n",
    "all_sweeps, return_code = sweep.sweep_one_option_get_capacitance_matrix(\n",
    "                                q2.name, \n",
    "                                'connection_pads.c.pad_width', \n",
    "                                ['100um', '110um', '120um'],\n",
    "                                render_design_argument_qcomps, \n",
    "                                render_design_argument_endcaps,\n",
    "                                leave_last_design=leave_last_design,\n",
    "                                setup_args = q3d_setup_args)"
   ]
  },
  {
   "cell_type": "code",
   "execution_count": null,
   "metadata": {},
   "outputs": [],
   "source": [
    "# Uncomment next line if you would like to close the gui\n",
    "# gui.main_window.close()"
   ]
  }
 ],
 "metadata": {
  "kernelspec": {
   "display_name": "Python 3",
   "language": "python",
   "name": "python3"
  },
  "language_info": {
   "codemirror_mode": {
    "name": "ipython",
    "version": 3
   },
   "file_extension": ".py",
   "mimetype": "text/x-python",
   "name": "python",
   "nbconvert_exporter": "python",
   "pygments_lexer": "ipython3",
   "version": "3.7.3"
  }
 },
 "nbformat": 4,
 "nbformat_minor": 4
}
