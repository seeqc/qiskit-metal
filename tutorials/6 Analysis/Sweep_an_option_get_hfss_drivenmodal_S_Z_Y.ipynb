{
 "cells": [
  {
   "cell_type": "markdown",
   "id": "02023715",
   "metadata": {},
   "source": [
    "# Sweep a option in QComponent, get Ansys HFSS driven-modal scatter matrix, impedance matrix, and admittance matrix."
   ]
  },
  {
   "cell_type": "markdown",
   "id": "ceddeca6",
   "metadata": {},
   "source": [
    "# Prerequisite\n",
    "You need to have a working local installation of Ansys"
   ]
  },
  {
   "cell_type": "markdown",
   "id": "862059c0",
   "metadata": {},
   "source": [
    "## 1. Perform the necessary imports and create a QDesign in Metal first."
   ]
  },
  {
   "cell_type": "code",
   "execution_count": null,
   "id": "853f7f58",
   "metadata": {},
   "outputs": [],
   "source": [
    "%load_ext autoreload\n",
    "%autoreload 2"
   ]
  },
  {
   "cell_type": "code",
   "execution_count": null,
   "id": "c4a7679b",
   "metadata": {},
   "outputs": [],
   "source": [
    "import qiskit_metal as metal\n",
    "from qiskit_metal import designs, draw\n",
    "from qiskit_metal import MetalGUI, Dict, Headings\n",
    "import pyEPR as epr\n",
    "from qiskit_metal.analyses.sweep_options.sweeping import Sweeping"
   ]
  },
  {
   "cell_type": "markdown",
   "id": "07b18e23",
   "metadata": {},
   "source": [
    "## Create the design in Metal\n",
    " Set up a design of a given dimension.  Create a design by specifying the chip size and open Metal GUI.  Dimensions will be respected in the design rendering.  Note the chip design is centered at origin (0,0)."
   ]
  },
  {
   "cell_type": "code",
   "execution_count": null,
   "id": "d49c064f",
   "metadata": {},
   "outputs": [],
   "source": [
    "design = designs.DesignPlanar({}, True)\n",
    "design.chips.main.size['size_x'] = '2mm'\n",
    "design.chips.main.size['size_y'] = '2mm'\n",
    "\n",
    "gui = MetalGUI(design)\n",
    "\n",
    "# Perform the necessary imports.\n",
    "from qiskit_metal.qlibrary.couplers.coupled_line_tee import CoupledLineTee\n",
    "from qiskit_metal.qlibrary.tlines.meandered import RouteMeander\n",
    "from qiskit_metal.qlibrary.qubits.transmon_pocket import TransmonPocket\n",
    "from qiskit_metal.qlibrary.tlines.straight_path import RouteStraight\n",
    "from qiskit_metal.qlibrary.terminations.open_to_ground import OpenToGround"
   ]
  },
  {
   "cell_type": "code",
   "execution_count": null,
   "id": "ca23aa60",
   "metadata": {},
   "outputs": [],
   "source": [
    "# To create plots after geting solution data.\n",
    "import matplotlib.pyplot as plt\n",
    "import numpy as np"
   ]
  },
  {
   "cell_type": "code",
   "execution_count": null,
   "id": "b372cdcd",
   "metadata": {},
   "outputs": [],
   "source": [
    "# Add 2 transmons to the design.\n",
    "options = dict(\n",
    "    # Some options we want to modify from the deafults\n",
    "    # (see below for defaults)\n",
    "    pad_width='425 um',\n",
    "    pocket_height='650um',\n",
    "    # Adding 4 connectors (see below for defaults)\n",
    "    connection_pads=dict(a=dict(loc_W=+1, loc_H=+1),\n",
    "                         b=dict(loc_W=-1, loc_H=+1, pad_height='30um'),\n",
    "                         c=dict(loc_W=+1, loc_H=-1, pad_width='200um'),\n",
    "                         d=dict(loc_W=-1, loc_H=-1, pad_height='50um')))\n",
    "\n",
    "## Create 2 transmons\n",
    "q1 = TransmonPocket(design,\n",
    "                    'Q1',\n",
    "                    options=dict(pos_x='+1.4mm',\n",
    "                                 pos_y='0mm',\n",
    "                                 orientation='90',\n",
    "                                 **options))\n",
    "q2 = TransmonPocket(design,\n",
    "                    'Q2',\n",
    "                    options=dict(pos_x='-0.6mm',\n",
    "                                 pos_y='0mm',\n",
    "                                 orientation='90',\n",
    "                                 **options))\n",
    "\n",
    "gui.rebuild()\n",
    "gui.autoscale()"
   ]
  },
  {
   "cell_type": "code",
   "execution_count": null,
   "id": "6d53ea1a",
   "metadata": {},
   "outputs": [],
   "source": [
    "# Add 2 hangers consisting of capacitively coupled transmission lines.\n",
    "TQ1 = CoupledLineTee(design,\n",
    "                     'TQ1',\n",
    "                     options=dict(pos_x='1mm',\n",
    "                                  pos_y='3mm',\n",
    "                                  coupling_length='500um',\n",
    "                                  coupling_space='1um'))\n",
    "TQ2 = CoupledLineTee(design,\n",
    "                     'TQ2',\n",
    "                     options=dict(pos_x='-1mm',\n",
    "                                  pos_y='3mm',\n",
    "                                  coupling_length='500um',\n",
    "                                  coupling_space='1um'))\n",
    "\n",
    "gui.rebuild()\n",
    "gui.autoscale()"
   ]
  },
  {
   "cell_type": "code",
   "execution_count": null,
   "id": "3dd67fe0",
   "metadata": {},
   "outputs": [],
   "source": [
    "# Add 2 meandered CPWs connecting the transmons to the hangers.\n",
    "ops = dict(fillet='90um')\n",
    "design.overwrite_enabled = True\n",
    "\n",
    "options1 = Dict(total_length='8mm',\n",
    "                hfss_wire_bonds=True,\n",
    "                pin_inputs=Dict(start_pin=Dict(component='TQ1',\n",
    "                                               pin='second_end'),\n",
    "                                end_pin=Dict(component='Q1', pin='a')),\n",
    "                lead=Dict(start_straight='0.1mm'),\n",
    "                **ops)\n",
    "\n",
    "options2 = Dict(total_length='9mm',\n",
    "                hfss_wire_bonds=True,\n",
    "                pin_inputs=Dict(start_pin=Dict(component='TQ2',\n",
    "                                               pin='second_end'),\n",
    "                                end_pin=Dict(component='Q2', pin='a')),\n",
    "                lead=Dict(start_straight='0.1mm'),\n",
    "                **ops)\n",
    "\n",
    "meanderQ1 = RouteMeander(design, 'meanderQ1', options=options1)\n",
    "meanderQ2 = RouteMeander(design, 'meanderQ2', options=options2)\n",
    "\n",
    "gui.rebuild()\n",
    "gui.autoscale() "
   ]
  },
  {
   "cell_type": "code",
   "execution_count": null,
   "id": "02afb8d6",
   "metadata": {},
   "outputs": [],
   "source": [
    "# Add 2 open to grounds at the ends of the horizontal CPW.\n",
    "otg1 = OpenToGround(design, 'otg1', options=dict(pos_x='3mm', pos_y='3mm'))\n",
    "otg2 = OpenToGround(design,\n",
    "                    'otg2',\n",
    "                    options=dict(pos_x='-3mm', pos_y='3mm', orientation='180'))\n",
    "\n",
    "gui.rebuild()\n",
    "gui.autoscale()\n",
    "\n",
    "# Add 3 straight CPWs that comprise the long horizontal CPW.\n",
    "\n",
    "ops_oR = Dict(hfss_wire_bonds=True,\n",
    "              pin_inputs=Dict(start_pin=Dict(component='TQ1', pin='prime_end'),\n",
    "                              end_pin=Dict(component='otg1', pin='open')))\n",
    "ops_mid = Dict(hfss_wire_bonds=True,\n",
    "               pin_inputs=Dict(start_pin=Dict(component='TQ1',\n",
    "                                              pin='prime_start'),\n",
    "                               end_pin=Dict(component='TQ2', pin='prime_end')))\n",
    "ops_oL = Dict(hfss_wire_bonds=True,\n",
    "              pin_inputs=Dict(start_pin=Dict(component='TQ2',\n",
    "                                             pin='prime_start'),\n",
    "                              end_pin=Dict(component='otg2', pin='open')))\n",
    "\n",
    "cpw_openRight = RouteStraight(design, 'cpw_openRight', options=ops_oR)\n",
    "cpw_middle = RouteStraight(design, 'cpw_middle', options=ops_mid)\n",
    "cpw_openLeft = RouteStraight(design, 'cpw_openLeft', options=ops_oL)\n",
    "\n",
    "gui.rebuild()\n",
    "gui.autoscale()"
   ]
  },
  {
   "cell_type": "markdown",
   "id": "b0e47077",
   "metadata": {},
   "source": [
    "## 2. Render the qubit from Metal into the HangingResonators design in Ansys. <br>Must open Ansys HFSS at this point. \n",
    "\n",
    "**Wait for Ansys to fully open before proceeding.**<br> If necessary, also close any Ansys popup windows.\n",
    "\n",
    "### Registration occurs automatically within the method \"sweep_one_option_get_drivenmodal_solution_data\". \n",
    "\n",
    "### Must have an open Ansys project and HFSS eigenmode design before executing render_design. Can do it manually or automate it. \n",
    "\n",
    "Manually: To create a new Ansys project, click \"New\", the leftmost icon right below the file menu. \n",
    "\n",
    "Automate: Execute the command <hfss.open_ansys()> in cell below only if Ansys is not already open.  Use the cells below to open the Ansys application.  \n",
    "\n",
    "### The method \"sweep_one_option_get_drivenmodal_solution_data\" will connect to ansys, activate a HFSS design, add a setup, and insert frequency-sweep under the setup."
   ]
  },
  {
   "cell_type": "code",
   "execution_count": null,
   "id": "37957292",
   "metadata": {},
   "outputs": [],
   "source": [
    "#Reference to Ansys hfss QRenderer\n",
    "hfss = design.renderers.hfss\n",
    "\n",
    "# This cell will open the Ansys application.  Run this cell, if Ansys, is not already open.\n",
    "# A project will be opened using this command.\n",
    "#hfss.open_ansys()"
   ]
  },
  {
   "cell_type": "code",
   "execution_count": null,
   "id": "a22d88d5",
   "metadata": {},
   "outputs": [],
   "source": [
    "sweep = Sweeping(design)"
   ]
  },
  {
   "cell_type": "code",
   "execution_count": null,
   "id": "33b99278",
   "metadata": {},
   "outputs": [],
   "source": [
    "# Set the buffer width at the edge of the design to be 0.5 mm \n",
    "# in both directions.\n",
    "\n",
    "hfss.options['x_buffer_width_mm'] = 0.5\n",
    "hfss.options['y_buffer_width_mm'] = 0.5"
   ]
  },
  {
   "cell_type": "markdown",
   "id": "924b18cd",
   "metadata": {},
   "source": [
    "As a reminder, arguments for render_design() are given as: <br>\n",
    "\n",
    "First parameter: List of components to render (empty list if rendering whole Metal design) <br><br>\n",
    "Second parameter: List of pins (qcomp, pin) with open endcaps <br><br>\n",
    "Third parameter: List of pins (qcomp, pin, impedance) to render as lumped ports <br><br>\n",
    "Fourth parameter: List of junctions (qcomp, qgeometry_name, impedance, draw_ind)\n",
    "       to render as lumped ports or as lumped port in parallel with a sheet inductance <br><br>\n",
    "Fifth parameter: List of junctions (qcomp, qgeometry_name) to omit altogether during rendering<br><br>\n",
    "Sixth parameter: Whether to render chip via box plus buffer or fixed chip size<br>\n"
   ]
  },
  {
   "cell_type": "markdown",
   "id": "22d2baa0",
   "metadata": {},
   "source": [
    "The size scatter square matrix, impedance square matrix, and admittance square matrix is determined by size of (3rd parameter) + (size of fourth parameter) of render_design.  "
   ]
  },
  {
   "cell_type": "code",
   "execution_count": null,
   "id": "799b89e3",
   "metadata": {},
   "outputs": [],
   "source": [
    "selection = [] # Means to render everything in qgeometry table.\n",
    "open_pins = []\n",
    "\n",
    "# Here, pin cpw_openRight_end and cpw_openLeft_end are converted into lumped ports,\n",
    "#           each with an impedance of 50 Ohms. <br>\n",
    "port_list = [('cpw_openRight', 'end', 50),\n",
    "                      ('cpw_openLeft', 'end', 50)]\n",
    "jj_to_port = [('Q1', 'rect_jj', 50, False)]\n",
    "# Neither of the junctions in Q1 or Q2 are rendered.\n",
    "ignored_jjs = [('Q2', 'rect_jj')]\n",
    "box_plus_buffer = True\n",
    "\n",
    "dm_render_args = Dict(selection=selection,\n",
    "                      open_pins=open_pins,\n",
    "                      port_list=port_list,\n",
    "                      jj_to_port=jj_to_port,\n",
    "                      ignored_jjs=ignored_jjs,\n",
    "                      box_plus_buffer=box_plus_buffer)"
   ]
  },
  {
   "cell_type": "code",
   "execution_count": null,
   "id": "c2a06e0a",
   "metadata": {},
   "outputs": [],
   "source": [
    "# Pass a dict with arguments to be used add Setup to project.\n",
    "# If you don't pass all the arguments, the default is determined by\n",
    "# QHFSSRenderer's default_options.\n",
    "# The name of setup will be \"Sweep_dm_setup\".\n",
    "# If a setup named \"Sweep_dm_setup\" exists in the project, it will be deleted,\n",
    "# and a new setup will be added with the arguments from setup_args.\n",
    "hfss_dm_setup_args = Dict(freq_ghz=None,\n",
    "                          max_delta_s=None,\n",
    "                          max_passes=None,\n",
    "                          min_passes=None,\n",
    "                          min_converged=None,\n",
    "                          pct_refinement=None,\n",
    "                          basis_order=None)\n",
    "# Example of updating the keys that we are interested in.\n",
    "hfss_dm_setup_args = Dict(\n",
    "    freq_ghz=6.0,\n",
    "    max_delta_s=0.05,\n",
    "    max_passes=12,\n",
    "    min_passes=2,\n",
    ")\n"
   ]
  },
  {
   "cell_type": "markdown",
   "id": "2e8e522f",
   "metadata": {},
   "source": [
    "\n",
    "Add a frequency sweep to a driven modal setup.<br>\n",
    "From QHFSSRenderer.add_sweep doc_strings.  Please go to doc_strings to get the latest information.  \n",
    "\n",
    "Args:<br>\n",
    "    setup_name (str, optional): Name of driven modal simulation setup.\n",
    "                            Defaults to \"Setup\".<br>\n",
    "    start_ghz (float, optional): Starting frequency of sweep in GHz.\n",
    "                            Defaults to 2.0.<br>\n",
    "    stop_ghz (float, optional): Ending frequency of sweep in GHz.\n",
    "                            Defaults to 8.0.<br>\n",
    "    count (int, optional): Total number of frequencies.\n",
    "                            Defaults to 101.<br>\n",
    "    step_ghz (float, optional): Difference between adjacent\n",
    "                            frequencies. Defaults to None.<br>\n",
    "    name (str, optional): Name of sweep. Defaults to \"Sweep\".<br>\n",
    "    type (str, optional): Type of sweep. Defaults to \"Fast\".<br>\n",
    "    save_fields (bool, optional): Whether or not to save fields.\n",
    "                        Defaults to False.<br>\n",
    "                        \n",
    "                        \n",
    "From pyEPR.HfssSetup.insert_sweep(), please go to this method to get the latest documentation.   \n",
    "You should provide either step_ghz or count when inserting an HFSS driven model freq sweep. Do not provide both or neither!"
   ]
  },
  {
   "cell_type": "code",
   "execution_count": null,
   "id": "5eaf1d09",
   "metadata": {},
   "outputs": [],
   "source": [
    "dm_add_sweep_args = Dict(name=\"Sweep_options__dm_sweep\",\n",
    "                         start_ghz=4.0,\n",
    "                         stop_ghz=8.0,\n",
    "                         count=2001,\n",
    "                         type=\"Interpolating\")"
   ]
  },
  {
   "cell_type": "code",
   "execution_count": null,
   "id": "952dc1b8",
   "metadata": {},
   "outputs": [],
   "source": [
    "all_sweeps, return_code = sweep.sweep_one_option_get_drivenmodal_solution_data(\n",
    "    meanderQ1.name,\n",
    "    'total_length', ['9mm', '8mm', '7mm'],\n",
    "    dm_render_args,\n",
    "    setup_args=hfss_dm_setup_args,\n",
    "    dm_add_sweep_args=dm_add_sweep_args,\n",
    "    leave_last_design=True)"
   ]
  },
  {
   "cell_type": "code",
   "execution_count": null,
   "id": "af665ebd",
   "metadata": {},
   "outputs": [],
   "source": [
    "# Each key corresponds to list passed to ['9mm', '8mm', '7mm']\n",
    "if return_code == 0:\n",
    "    print(all_sweeps.keys())\n",
    "else:\n",
    "    print('Check warning messages to see why all_sweeps is non-zero.')\n"
   ]
  },
  {
   "cell_type": "code",
   "execution_count": null,
   "id": "aa61d88f-3a01-4487-a5dc-1d0919fde382",
   "metadata": {},
   "outputs": [],
   "source": [
    "all_sweeps['9mm']['option_name']\n"
   ]
  },
  {
   "cell_type": "code",
   "execution_count": null,
   "id": "fbb38003-1dbf-448b-adc4-1c16e898d93b",
   "metadata": {},
   "outputs": [],
   "source": [
    "# For each key, know if the solution data converged.\n",
    "if return_code == 0:\n",
    "    for item in all_sweeps.keys():\n",
    "        option_name = all_sweeps[item]['option_name']\n",
    "        did_converge = all_sweeps[item]['convergence']\n",
    "        print(f'For {option_name}={item}, convergence is {did_converge}.')\n",
    "else:\n",
    "    print('Check warning messages to see why all_sweeps is non-zero.')  "
   ]
  },
  {
   "cell_type": "code",
   "execution_count": null,
   "id": "618e5e78-9510-4672-8513-ed4ec0fe17c4",
   "metadata": {},
   "outputs": [],
   "source": [
    "# For example, just one group of solution data. Look at convergence data.\n",
    "if return_code == 0:\n",
    "    print(all_sweeps['9mm']['convergence_t'])\n",
    "else:\n",
    "    print('Check warning messages to see why all_sweeps is non-zero.')"
   ]
  },
  {
   "cell_type": "code",
   "execution_count": null,
   "id": "52ed79b8",
   "metadata": {},
   "outputs": [],
   "source": [
    "# Each values use for the given option, has three matrixes:  \n",
    "# scatter, impedance, and admittance.\n",
    "if return_code == 0:\n",
    "    print(all_sweeps['9mm'].keys())\n",
    "else:\n",
    "    print('Check warning messages to see why all_sweeps is non-zero.')"
   ]
  },
  {
   "cell_type": "code",
   "execution_count": null,
   "id": "ab72b426",
   "metadata": {},
   "outputs": [],
   "source": [
    "# For example, just one group of solution data. \n",
    "if return_code == 0:\n",
    "    print(all_sweeps['9mm']['z_matrix'])\n",
    "else:\n",
    "    print('Check warning messages to see why all_sweeps is non-zero.')"
   ]
  },
  {
   "cell_type": "code",
   "execution_count": null,
   "id": "c97ff124",
   "metadata": {},
   "outputs": [],
   "source": [
    "if return_code == 0:\n",
    "    df_s = all_sweeps['9mm']['s_matrix']\n",
    "else:\n",
    "    print('Check warning messages to see why all_sweeps is non-zero.')"
   ]
  },
  {
   "cell_type": "code",
   "execution_count": null,
   "id": "c5e20573",
   "metadata": {},
   "outputs": [],
   "source": [
    "df_s['20_log_of_mag_S11']= 20 * np.log10(np.absolute(df_s['S11']))\n",
    "df_s['20_log_of_mag_S21']= 20 * np.log10(np.absolute(df_s['S21']))\n",
    "df_s['20_log_of_mag_S31']= 20 * np.log10(np.absolute(df_s['S31']))\n",
    "\n",
    "# Reference to current axis. \n",
    "magnitude = plt.figure('Magnitude S11, S21, and S31')\n",
    "plt.clf()\n",
    "axis = plt.gca() # Get current axis.\n",
    "df_s = all_sweeps['9mm']['s_matrix']\n",
    "df_s.plot(kind = 'line', y='20_log_of_mag_S11', color = 'green', ax = axis)\n",
    "df_s.plot(kind = 'line', y='20_log_of_mag_S21', color = 'blue', ax = axis)\n",
    "df_s.plot(kind = 'line', y='20_log_of_mag_S31', color = 'red', ax = axis)\n",
    "plt.title(f'S-Parameter Magnitude')\n",
    "plt.xlabel(f'frequency [GHZ]')\n",
    "plt.ylabel(f'|S11|,|S21|,|S31| [dB]')\n",
    "magnitude.show()"
   ]
  },
  {
   "cell_type": "code",
   "execution_count": null,
   "id": "cb01bd15",
   "metadata": {},
   "outputs": [],
   "source": [
    "# Data is shown as degrees.  \n",
    "# However, if you want radians, change value of deg to false, deg=False.\n",
    "df_s['degrees_S11'] = np.angle(df_s['S11'], deg=True)\n",
    "df_s['degrees_S21'] = np.angle(df_s['S21'], deg=True)\n",
    "df_s['degrees_S31'] = np.angle(df_s['S31'], deg=True)\n",
    "\n",
    "# Reference to current axis. \n",
    "phase = plt.figure('Phase of S11 and S21')\n",
    "plt.clf()\n",
    "axis = plt.gca() # Get current axis.\n",
    "df_s = all_sweeps['9mm']['s_matrix']\n",
    "df_s.plot(kind = 'line', y='degrees_S11', color = 'green', ax = axis)\n",
    "df_s.plot(kind = 'line', y='degrees_S21', color = 'blue', ax = axis)\n",
    "df_s.plot(kind = 'line', y='degrees_S31', color = 'red', ax = axis)\n",
    "plt.title(f'S-Parameter Phase')\n",
    "plt.xlabel(f'frequency [GHZ]')\n",
    "plt.ylabel(f'<S11, <S21, <S31 [degrees]')\n",
    "phase.show()"
   ]
  },
  {
   "cell_type": "code",
   "execution_count": null,
   "id": "84038521",
   "metadata": {},
   "outputs": [],
   "source": [
    "# In HFSS, after the last sweep, should the design be cleared?  The argument \"leave_last_design\" is true by default. \n",
    "# If you want to delete after last sweep, change argument to false.\n",
    "\n",
    "leave_last_design = False\n",
    "\n",
    "all_sweeps, return_code = sweep.sweep_one_option_get_drivenmodal_solution_data(\n",
    "    meanderQ1.name,\n",
    "    'total_length', ['9mm', '8mm', '7mm'],\n",
    "    dm_render_args,\n",
    "    setup_args=hfss_dm_setup_args,\n",
    "    dm_add_sweep_args=dm_add_sweep_args,\n",
    "    leave_last_design=leave_last_design)"
   ]
  },
  {
   "cell_type": "code",
   "execution_count": null,
   "id": "de000f0f",
   "metadata": {},
   "outputs": [],
   "source": [
    "# Uncomment next line if you would like to close the gui\n",
    "# gui.main_window.close()"
   ]
  }
 ],
 "metadata": {
  "kernelspec": {
   "display_name": "Python 3",
   "language": "python",
   "name": "python3"
  },
  "language_info": {
   "codemirror_mode": {
    "name": "ipython",
    "version": 3
   },
   "file_extension": ".py",
   "mimetype": "text/x-python",
   "name": "python",
   "nbconvert_exporter": "python",
   "pygments_lexer": "ipython3",
   "version": "3.7.8"
  }
 },
 "nbformat": 4,
 "nbformat_minor": 5
}
