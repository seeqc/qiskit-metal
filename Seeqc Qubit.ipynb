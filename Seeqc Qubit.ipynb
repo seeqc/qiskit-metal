{
 "metadata": {
  "language_info": {
   "codemirror_mode": {
    "name": "ipython",
    "version": 3
   },
   "file_extension": ".py",
   "mimetype": "text/x-python",
   "name": "python",
   "nbconvert_exporter": "python",
   "pygments_lexer": "ipython3",
   "version": "3.7.8-final"
  },
  "orig_nbformat": 2,
  "kernelspec": {
   "name": "python378jvsc74a57bd077d5cfd67f4e50617ea2f0fc368f7861c35f679be616f3276dc7db03892386df",
   "display_name": "Python 3.7.8 64-bit ('metal': conda)"
  }
 },
 "nbformat": 4,
 "nbformat_minor": 2,
 "cells": [
  {
   "cell_type": "code",
   "execution_count": 1,
   "metadata": {},
   "outputs": [],
   "source": [
    "from qiskit_metal import draw, Dict\n",
    "from qiskit_metal.toolbox_metal import math_and_overrides\n",
    "from qiskit_metal.qlibrary.base.base import QComponent\n",
    "import qiskit_metal as metal"
   ]
  },
  {
   "cell_type": "code",
   "execution_count": 2,
   "metadata": {},
   "outputs": [],
   "source": [
    "design = metal.designs.DesignPlanar()"
   ]
  },
  {
   "cell_type": "code",
   "execution_count": 3,
   "metadata": {},
   "outputs": [],
   "source": [
    "import numpy as np\n",
    "from math import *\n",
    "from qiskit_metal import draw, Dict\n",
    "from qiskit_metal.qlibrary.base.qubit import BaseQubit"
   ]
  },
  {
   "cell_type": "code",
   "execution_count": 4,
   "metadata": {},
   "outputs": [],
   "source": [
    "class SeeqcTrasmon(BaseQubit):\n",
    "    \"\"\"\n",
    "    \"\"\"\n",
    "\n",
    "    default_options = Dict(\n",
    "        width='250um',  # width of transmon pocket\n",
    "        height='250um', # height of transmon pocket\n",
    "        layer='50',     # GDS layer\n",
    "        radius='60um',  # radius of qubit body\n",
    "        gap='20um',     # gap from qubit to ground\n",
    "        jj_w='10um',    # JJ width\n",
    "        cap_w='2um',    # coupling capacitor width\n",
    "        cap_ang='60',# coupling cap angle\n",
    "\n",
    "        pocket_w='500um',\n",
    "        pocket_h='500um',\n",
    "        position_x='0.0mm',\n",
    "        position_y='0.0mm',\n",
    "        rotation='0.0',\n",
    "        cpw_width='5.0um'# width of CPW\n",
    "    )\n",
    "    \"\"\"Default drawing options\"\"\"\n",
    "\n",
    "    component_metadata = Dict(short_name='q',\n",
    "                              _qgeometry_table_poly='True',\n",
    "                              _qgeometry_table_junction='True'\n",
    "    )\n",
    "    \"\"\"Component metadata\"\"\"\n",
    "\n",
    "    def make(self):\n",
    "        \"\"\"Convert self.options into QGeometry.\"\"\"\n",
    "\n",
    "        p = self.parse_options()    # Parse string options into numbers\n",
    "\n",
    "        # Draw the pad\n",
    "        qubit_pad = draw.Point(0,0).buffer(p.radius)\n",
    "        space = draw.Point(0,0).buffer(p.gap + p.radius)\n",
    "        gap = draw.subtract(space, qubit_pad)\n",
    "\n",
    "        qubit_etch = qubit_pad.buffer(p.gap)\n",
    "\n",
    "        # Draw coupling capacitors\n",
    "        npts = 64\n",
    "        cap_radius = p.radius + p.gap/2\n",
    "        \n",
    "        caps = []\n",
    "\n",
    "        for ang in np.pi * np.arange(1/4, 2, 1/2):\n",
    "\n",
    "            cap_thetas = np.pi * p.cap_ang * np.linspace(-0.5, 0.5, npts) / 180\n",
    "            cap_pts = np.column_stack([\n",
    "                cap_radius * np.cos(cap_thetas + ang),\n",
    "                cap_radius * np.sin(cap_thetas + ang)])\n",
    "            cap_line = draw.LineString(cap_pts)\n",
    "            cap = cap_line.buffer(p.cap_w, cap_style=2)\n",
    "\n",
    "            # Stub\n",
    "            stub = draw.LineString\n",
    "\n",
    "            caps.append(cap)\n",
    "\n",
    "        # Add Junction/SQUID\n",
    "        rect_jj = draw.LineString([(0,-p.radius),\n",
    "                                    (0, -(p.radius + p.gap))\n",
    "\n",
    "        ])\n",
    "\n",
    "        objects = [qubit_pad, qubit_etch, rect_jj, *caps]\n",
    "        objects = draw.rotate(objects, p.rotation, origin=(0,0))\n",
    "        objects = draw.translate(objects, xoff=p.position_x, yoff=p.position_y)\n",
    "        [qubit_pad, qubit_etch, rect_jj, c1, c2, c3, c4] = objects\n",
    "\n",
    "        # Use the geometry to create Metal QGeometry\n",
    "\n",
    "        self.add_qgeometry('poly', dict(qubit_pad=qubit_pad), subtract=False)\n",
    "        self.add_qgeometry('poly', dict(qubit_etch=qubit_etch), subtract=True)\n",
    "\n",
    "        self.add_qgeometry('poly', dict(c1=c1), subtract=False)\n",
    "        self.add_qgeometry('poly', dict(c2=c2), subtract=False)\n",
    "        self.add_qgeometry('poly', dict(c3=c3), subtract=False)\n",
    "        self.add_qgeometry('poly', dict(c4=c4), subtract=False)\n",
    "\n",
    "        self.add_qgeometry('junction', dict(rect_jj=rect_jj), width=p.jj_w)\n",
    "\n"
   ]
  },
  {
   "source": [
    "## Test placement"
   ],
   "cell_type": "markdown",
   "metadata": {}
  },
  {
   "cell_type": "code",
   "execution_count": 5,
   "metadata": {},
   "outputs": [],
   "source": [
    "gui = metal.MetalGUI(design)"
   ]
  },
  {
   "cell_type": "code",
   "execution_count": 6,
   "metadata": {
    "tags": []
   },
   "outputs": [],
   "source": [
    "q1 = SeeqcTrasmon(design,'my_transmon',options=dict(connection_pads=dict(a=dict(),b=dict(loc_W=-1))))\n",
    "gui.rebuild()"
   ]
  },
  {
   "cell_type": "code",
   "execution_count": null,
   "metadata": {},
   "outputs": [],
   "source": []
  }
 ]
}